{
 "cells": [
  {
   "cell_type": "markdown",
   "metadata": {},
   "source": [
    "# Chat bot analysis"
   ]
  },
  {
   "cell_type": "code",
   "execution_count": 2,
   "metadata": {},
   "outputs": [],
   "source": [
    "import sys\n",
    "sys.path.append(\"/home/mihaelabaksic/proj/2023-languagelearning\")\n",
    "sys.path.append(\"/home/mihaelabaksic/proj/2023-languagelearning/src\") \n",
    "sys.path.append(\"/home/mihaelabaksic/proj/2023-languagelearning/src/templates\") \n",
    "\n",
    "%load_ext autoreload\n",
    "%autoreload 2"
   ]
  },
  {
   "cell_type": "code",
   "execution_count": 41,
   "metadata": {},
   "outputs": [],
   "source": [
    "from thread import Thread\n",
    "from prompt_builder import PromptBuilder\n",
    "from utils import load_template\n",
    "from utils import load_cefr\n",
    "from parameters import GPTParameters\n",
    "import keys\n",
    "\n",
    "import openai"
   ]
  },
  {
   "cell_type": "code",
   "execution_count": 4,
   "metadata": {},
   "outputs": [],
   "source": [
    "openai.api_key = keys.OPENAI_API_KEY"
   ]
  },
  {
   "cell_type": "code",
   "execution_count": 9,
   "metadata": {},
   "outputs": [],
   "source": [
    "\n",
    "builder = PromptBuilder()\n",
    "t = Thread()\n"
   ]
  },
  {
   "cell_type": "code",
   "execution_count": 62,
   "metadata": {},
   "outputs": [],
   "source": [
    "template = '{0}. The user is a {2}. Act as if you were {3}. Initiate a conversation as {3} in {1}. Generate one conversation line. You can only speak {1} on level {4}. {4} is defined as {5}. Start the response with: {3}: ...'\n",
    "# args: setting, language, user_role, GPT_role, language_level, level_description\n",
    "\n",
    "language = 'English'\n",
    "language_level = 'A2'\n",
    "level_description = load_cefr(language_level, '../templates/language_levels_cefr.json')"
   ]
  },
  {
   "cell_type": "code",
   "execution_count": 37,
   "metadata": {},
   "outputs": [],
   "source": [
    "examples = [\n",
    "{\n",
    "    'setting' : 'In a cafe',\n",
    "    'roles': ['waiter','customer'],\n",
    "    'GPT_role': 'waiter',\n",
    "    'user_role': 'customer',\n",
    "},\n",
    "{\n",
    "    'setting': 'Enchanted forest',\n",
    "    'roles': ['explorer', 'forest spirit'],\n",
    "    'GPT_role': 'forest spirit',\n",
    "    'user_role': 'explorer',\n",
    "},\n",
    "{\n",
    "    'setting' : 'Talking to Yann LeCun on a conference afterparty',\n",
    "    \"roles\": [\"conference attendee\", \"Yann LeCun\"],\n",
    "    \"GPT_role\": \"Yann LeCun\",\n",
    "    \"user_role\": \"conference attendee\",\n",
    "    \n",
    "}\n",
    "]\n"
   ]
  },
  {
   "cell_type": "code",
   "execution_count": 63,
   "metadata": {},
   "outputs": [
    {
     "name": "stdout",
     "output_type": "stream",
     "text": [
      "Prompt:  In a cafe. The user is a customer. Act as if you were waiter. Initiate a conversation as waiter in English. Generate one conversation line. You can only speak English on level A2. A2 is defined as Basic - Can understand sentences and frequently used expressions related to areas of most immediate relevance (e.g. very basic personal and family information, shopping, local geography, employment). Can communicate in simple and routine tasks requiring a simple and direct exchange of information on familiar and routine matters.  Can describe in simple terms aspects of his/her background, immediate environment and matters in areas of immediate need.. Start the response with: waiter: ...\n",
      "   Temp:  0.1   Result:  waiter: Good morning! How can I assist you today?\n",
      "   Temp:  0.3   Result:  waiter: Good afternoon! How can I assist you today?\n",
      "   Temp:  0.6   Result:  waiter: Good afternoon! How can I assist you today?\n",
      "   Temp:  0.7   Result:  waiter: Good afternoon! How can I assist you today?\n",
      "   Temp:  0.95   Result:  waiter: Good morning! Welcome to our cafe. How may I assist you today?\n",
      "\n",
      "\n",
      "Prompt:  Enchanted forest. The user is a explorer. Act as if you were forest spirit. Initiate a conversation as forest spirit in English. Generate one conversation line. You can only speak English on level A2. A2 is defined as Basic - Can understand sentences and frequently used expressions related to areas of most immediate relevance (e.g. very basic personal and family information, shopping, local geography, employment). Can communicate in simple and routine tasks requiring a simple and direct exchange of information on familiar and routine matters.  Can describe in simple terms aspects of his/her background, immediate environment and matters in areas of immediate need.. Start the response with: forest spirit: ...\n",
      "   Temp:  0.1   Result:  forest spirit: Welcome, brave explorer, to the enchanted forest. What brings you to this mystical realm?\n",
      "   Temp:  0.3   Result:  forest spirit: Welcome, brave explorer, to the enchanted forest. What brings you to this mystical realm?\n",
      "   Temp:  0.6   Result:  forest spirit: Welcome, brave explorer, to the enchanted forest. What brings you to this mystical realm?\n",
      "   Temp:  0.7   Result:  forest spirit: Greetings, brave explorer! What brings you to the enchanted forest today?\n",
      "   Temp:  0.95   Result:  forest spirit: Ah, weary traveler, you have found your way into my enchanted realm. What brings you to the heart of this mystical forest?\n",
      "\n",
      "\n",
      "Prompt:  Talking to Yann LeCun on a conference afterparty. The user is a conference attendee. Act as if you were Yann LeCun. Initiate a conversation as Yann LeCun in English. Generate one conversation line. You can only speak English on level A2. A2 is defined as Basic - Can understand sentences and frequently used expressions related to areas of most immediate relevance (e.g. very basic personal and family information, shopping, local geography, employment). Can communicate in simple and routine tasks requiring a simple and direct exchange of information on familiar and routine matters.  Can describe in simple terms aspects of his/her background, immediate environment and matters in areas of immediate need.. Start the response with: Yann LeCun: ...\n",
      "   Temp:  0.1   Result:  Yann LeCun: Hello there! I hope you're enjoying the conference. Is there anything specific you'd like to discuss or any questions you have about my work in artificial intelligence?\n",
      "   Temp:  0.3   Result:  Yann LeCun: Hello there! How are you enjoying the conference so far?\n",
      "   Temp:  0.6   Result:  Yann LeCun: Hello there! How are you enjoying the conference so far?\n",
      "   Temp:  0.7   Result:  Yann LeCun: Hi there! It's great to meet you at this conference afterparty. What brings you here tonight?\n",
      "   Temp:  0.95   Result:  Yann LeCun: Hello there! It's great to meet you at this conference. How has your experience been so far?\n",
      "\n",
      "\n"
     ]
    }
   ],
   "source": [
    "temps = [0.1, 0.3, 0.6, 0.7, 0.95]\n",
    "\n",
    "\n",
    "for e in examples:\n",
    "    builder.reset()\n",
    "    builder.add_template(template, (e['setting'], language, e['user_role'], e['GPT_role'], language_level, level_description))\n",
    "    prompt = builder.build()\n",
    "    print('Prompt: ', prompt)\n",
    "    \n",
    "    for temp in temps:\n",
    "        \n",
    "        t = Thread(params=GPTParameters(temperature=temp))\n",
    "        t.add_assistant_prompt(prompt)\n",
    "        result = t.send()\n",
    "        t.pop()\n",
    "        print('   Temp: ', temp, '  Result: ', result.content)\n",
    "    \n",
    "    print()\n",
    "    print()"
   ]
  },
  {
   "cell_type": "code",
   "execution_count": null,
   "metadata": {},
   "outputs": [],
   "source": []
  }
 ],
 "metadata": {
  "kernelspec": {
   "display_name": "internship",
   "language": "python",
   "name": "python3"
  },
  "language_info": {
   "codemirror_mode": {
    "name": "ipython",
    "version": 3
   },
   "file_extension": ".py",
   "mimetype": "text/x-python",
   "name": "python",
   "nbconvert_exporter": "python",
   "pygments_lexer": "ipython3",
   "version": "3.8.10"
  },
  "orig_nbformat": 4
 },
 "nbformat": 4,
 "nbformat_minor": 2
}

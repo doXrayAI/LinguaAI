{
 "cells": [
  {
   "cell_type": "markdown",
   "metadata": {},
   "source": [
    "## Generating conversation caption\n",
    "\n",
    "To get into the conversation setting and explain it to the user, generate conversation caption based on the user input and inferred roles."
   ]
  },
  {
   "cell_type": "code",
   "execution_count": 2,
   "metadata": {},
   "outputs": [
    {
     "name": "stdout",
     "output_type": "stream",
     "text": [
      "The autoreload extension is already loaded. To reload it, use:\n",
      "  %reload_ext autoreload\n"
     ]
    }
   ],
   "source": [
    "import sys\n",
    "sys.path.append(\"/home/mihaelabaksic/proj/2023-languagelearning\")\n",
    "sys.path.append(\"/home/mihaelabaksic/proj/2023-languagelearning/src\") \n",
    "sys.path.append(\"/home/mihaelabaksic/proj/2023-languagelearning/src/templates\") \n",
    "\n",
    "%load_ext autoreload\n",
    "%autoreload 2"
   ]
  },
  {
   "cell_type": "code",
   "execution_count": 3,
   "metadata": {},
   "outputs": [],
   "source": [
    "from completion_thread import CompletionThread\n",
    "from prompt_builder import PromptBuilder\n",
    "from utils import load_template\n",
    "import keys\n",
    "\n",
    "import openai\n"
   ]
  },
  {
   "cell_type": "code",
   "execution_count": 4,
   "metadata": {},
   "outputs": [],
   "source": [
    "openai.api_key = keys.OPENAI_API_KEY"
   ]
  },
  {
   "cell_type": "code",
   "execution_count": 15,
   "metadata": {},
   "outputs": [],
   "source": [
    "prompt_alternatives =[ 'Generate a conversation caption. The setting : Amsterdam walking tour. There are 2 participants. Participants are tourist and tour guide. Write 1-2 sentences to explain what is happening. Clearly state who are the participants'\n",
    " , 'Generate a conversation caption. The setting : talking to a friend. There are 2 participants. The participants are friend and me. Write 1-2 sentences to explain what is happening. Clearly state who are the participants'                      \n",
    "                     \n",
    "]"
   ]
  },
  {
   "cell_type": "code",
   "execution_count": 18,
   "metadata": {},
   "outputs": [
    {
     "name": "stdout",
     "output_type": "stream",
     "text": [
      ".\n",
      "\n",
      "Tourist and tour guide are enjoying a leisurely stroll around the beautiful canals of Amsterdam on a walking tour. The tour guide is pointing out the various historical and cultural sights of the city to the fascinated tourist.\n",
      "Friend and I are catching up after a long time, discussing our favorite hobbies and plans for the weekend.\n"
     ]
    }
   ],
   "source": [
    "t = CompletionThread()\n",
    "\n",
    "for p in prompt_alternatives:\n",
    "    rez = t.send(p)\n",
    "    print(rez)"
   ]
  },
  {
   "cell_type": "markdown",
   "metadata": {},
   "source": [
    "#### Prompt building\n",
    "\n",
    "Building a story caption prompt from the object returned by role inference."
   ]
  },
  {
   "cell_type": "code",
   "execution_count": 25,
   "metadata": {},
   "outputs": [],
   "source": [
    "caption_template = load_template('conversation_caption_generation', '../templates/templates.json')\n",
    "\n",
    "role_inference = {'roles': ['fairy', 'adventurer'],\n",
    " 'GPT_role': 'fairy',\n",
    " 'user_role': 'adventurer',\n",
    " 'setting': 'Enchanted forest'}\n",
    "\n",
    "input = (role_inference['setting'], role_inference['GPT_role'], role_inference['user_role'])\n",
    "\n",
    "assert(len(input) == caption_template['n_args'])"
   ]
  },
  {
   "cell_type": "code",
   "execution_count": 26,
   "metadata": {},
   "outputs": [
    {
     "data": {
      "text/plain": [
       "\"Generate a conversation caption. The setting :Enchanted forest. There are 2 participants. Participants are fairy and adventurer. Write 1-2 sentences to explain what is happening. Clearly state who are the participants. Don't generate new lines.\""
      ]
     },
     "execution_count": 26,
     "metadata": {},
     "output_type": "execute_result"
    }
   ],
   "source": [
    "builder = PromptBuilder()\n",
    "\n",
    "prompt = builder.add_template(caption_template['template'], input).build()\n",
    "prompt"
   ]
  },
  {
   "cell_type": "markdown",
   "metadata": {},
   "source": [
    "#### Generating a caption"
   ]
  },
  {
   "cell_type": "code",
   "execution_count": 27,
   "metadata": {},
   "outputs": [
    {
     "data": {
      "text/plain": [
       "'The fairy and adventurer take a break in the enchanted forest, marveling at the captivating beauty of their surroundings.'"
      ]
     },
     "execution_count": 27,
     "metadata": {},
     "output_type": "execute_result"
    }
   ],
   "source": [
    "t = CompletionThread()\n",
    "\n",
    "result = t.send(prompt)\n",
    "\n",
    "result"
   ]
  },
  {
   "cell_type": "code",
   "execution_count": null,
   "metadata": {},
   "outputs": [],
   "source": []
  }
 ],
 "metadata": {
  "kernelspec": {
   "display_name": "internship",
   "language": "python",
   "name": "python3"
  },
  "language_info": {
   "codemirror_mode": {
    "name": "ipython",
    "version": 3
   },
   "file_extension": ".py",
   "mimetype": "text/x-python",
   "name": "python",
   "nbconvert_exporter": "python",
   "pygments_lexer": "ipython3",
   "version": "3.8.10"
  },
  "orig_nbformat": 4
 },
 "nbformat": 4,
 "nbformat_minor": 2
}

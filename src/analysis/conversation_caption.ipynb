{
 "cells": [
  {
   "cell_type": "markdown",
   "metadata": {},
   "source": [
    "## Generating conversation caption\n",
    "\n",
    "To get into the conversation setting and explain it to the user, generate conversation caption based on the user input and inferred roles."
   ]
  },
  {
   "cell_type": "code",
   "execution_count": 1,
   "metadata": {},
   "outputs": [],
   "source": [
    "import sys\n",
    "sys.path.append(\"/home/mihaelabaksic/proj/2023-languagelearning\")\n",
    "sys.path.append(\"/home/mihaelabaksic/proj/2023-languagelearning/src\") \n",
    "sys.path.append(\"/home/mihaelabaksic/proj/2023-languagelearning/src/templates\") \n",
    "\n",
    "%load_ext autoreload\n",
    "%autoreload 2"
   ]
  },
  {
   "cell_type": "code",
   "execution_count": 2,
   "metadata": {},
   "outputs": [],
   "source": [
    "from single_run_thread import SingleRunThread\n",
    "from prompt_builder import PromptBuilder\n",
    "from utils import load_template\n",
    "import keys\n",
    "\n",
    "import openai\n"
   ]
  },
  {
   "cell_type": "code",
   "execution_count": 3,
   "metadata": {},
   "outputs": [],
   "source": [
    "openai.api_key = keys.OPENAI_API_KEY"
   ]
  },
  {
   "cell_type": "code",
   "execution_count": 6,
   "metadata": {},
   "outputs": [],
   "source": [
    "prompt_alternatives =[ 'Generate a setting caption. The setting : Amsterdam walking tour. There are 2 participants. Participants are tourist and tour guide. Write 1-2 sentences to explain what is happening. Clearly state who are the participants'\n",
    " , 'Generate a setting caption. The setting : talking to a friend. There are 2 participants. The participants are friend and me. Write 1-2 sentences to explain what is happening. Clearly state who are the participants'                      \n",
    "                     \n",
    "]"
   ]
  },
  {
   "cell_type": "code",
   "execution_count": 7,
   "metadata": {},
   "outputs": [
    {
     "name": "stdout",
     "output_type": "stream",
     "text": [
      "A tourist and a tour guide explore the picturesque streets of Amsterdam during a walking tour, immersing themselves in the city's rich history and vibrant culture.\n",
      "The photo captures a heartwarming moment as I engage in a lively conversation with my best friend, sharing stories and laughter, creating memories that will last a lifetime.\n"
     ]
    }
   ],
   "source": [
    "t = SingleRunThread()\n",
    "\n",
    "for p in prompt_alternatives:\n",
    "    rez = t.send(p)\n",
    "    print(rez)"
   ]
  },
  {
   "cell_type": "markdown",
   "metadata": {},
   "source": [
    "#### Prompt building\n",
    "\n",
    "Building a story caption prompt from the object returned by role inference."
   ]
  },
  {
   "cell_type": "code",
   "execution_count": 8,
   "metadata": {},
   "outputs": [],
   "source": [
    "caption_template = load_template('conversation_caption_generation', '../templates/templates.json')\n",
    "\n",
    "role_inference = {'roles': ['fairy', 'adventurer'],\n",
    " 'GPT_role': 'fairy',\n",
    " 'user_role': 'adventurer',\n",
    " 'setting': 'Enchanted forest'}\n",
    "\n",
    "input = (role_inference['setting'], role_inference['GPT_role'], role_inference['user_role'])\n",
    "\n",
    "assert(len(input) == caption_template['n_args'])"
   ]
  },
  {
   "cell_type": "code",
   "execution_count": 9,
   "metadata": {},
   "outputs": [
    {
     "data": {
      "text/plain": [
       "\"Generate a setting caption. The setting :Enchanted forest. There are 2 participants. Participants are fairy and adventurer. Write 1-2 sentences to explain what is happening. Clearly state who are the participants. Don't generate new lines.\""
      ]
     },
     "execution_count": 9,
     "metadata": {},
     "output_type": "execute_result"
    }
   ],
   "source": [
    "builder = PromptBuilder()\n",
    "\n",
    "prompt = builder.add_template(caption_template['template'], input).build()\n",
    "prompt"
   ]
  },
  {
   "cell_type": "markdown",
   "metadata": {},
   "source": [
    "#### Generating a caption"
   ]
  },
  {
   "cell_type": "code",
   "execution_count": 10,
   "metadata": {},
   "outputs": [
    {
     "data": {
      "text/plain": [
       "'In the heart of the enchanting forest, a curious adventurer and a mischievous fairy exchange whispers, as the adventurer seeks guidance on their quest to find a hidden treasure buried deep within the ancient trees.'"
      ]
     },
     "execution_count": 10,
     "metadata": {},
     "output_type": "execute_result"
    }
   ],
   "source": [
    "t = SingleRunThread()\n",
    "\n",
    "result = t.send(prompt)\n",
    "\n",
    "result"
   ]
  },
  {
   "cell_type": "code",
   "execution_count": null,
   "metadata": {},
   "outputs": [],
   "source": []
  }
 ],
 "metadata": {
  "kernelspec": {
   "display_name": "internship",
   "language": "python",
   "name": "python3"
  },
  "language_info": {
   "codemirror_mode": {
    "name": "ipython",
    "version": 3
   },
   "file_extension": ".py",
   "mimetype": "text/x-python",
   "name": "python",
   "nbconvert_exporter": "python",
   "pygments_lexer": "ipython3",
   "version": "3.8.10"
  },
  "orig_nbformat": 4
 },
 "nbformat": 4,
 "nbformat_minor": 2
}

{
 "cells": [
  {
   "cell_type": "markdown",
   "metadata": {},
   "source": [
    "# Language level evaluation"
   ]
  },
  {
   "cell_type": "code",
   "execution_count": 1,
   "metadata": {},
   "outputs": [],
   "source": [
    "from notebook_init import notebook_init, notebook_imports\n",
    "\n",
    "notebook_init()\n",
    "notebook_imports()\n",
    "\n",
    "from src.bots.evaluation_bot import LanguageLevelEvaluationBot\n",
    "\n",
    "from sklearn.metrics import accuracy_score"
   ]
  },
  {
   "cell_type": "code",
   "execution_count": 2,
   "metadata": {},
   "outputs": [],
   "source": [
    "examples = [\n",
    "    ('The author\\'s nuanced use of symbolism and intricate narrative structure elevate the novel, making it a captivating exploration of the human psyche', 'A1', 1),\n",
    "    ('I recently read an interesting article about the impact of technology on modern society.', 'A1', 2),\n",
    "    ('I like to read. My favourite book is Alice in Wonderland', 'A1', 3),\n",
    "    ('The author\\'s nuanced use of symbolism and intricate narrative structure elevate the novel, making it a captivating exploration of the human psyche', 'A2', 1),\n",
    "    ('I would have really enjoyed the boat ride, such a pitty it is cancelled.', 'A2', 2),\n",
    "    ('I enjoy reading books and watching movies in my free time.', 'A2', 3),\n",
    "    ('The author\\'s nuanced use of symbolism and intricate narrative structure elevate the novel, making it a captivating exploration of the human psyche','B1', 1),\n",
    "    ('The author\\'s eloquent use of language captivates readers and imbues the narrative with a profound sense of emotional depth.', 'B1', 2),\n",
    "    ('I like to read books and watch movies in my free time.', 'B1', 3),\n",
    "    ('I love my mom a lot.', 'B2', 1),\n",
    "    ('I like to read books and watch movies in my free time.', 'B2', 2),\n",
    "    ('I recently read an interesting article about climate change and its effects on marine life.', 'B2', 3),\n",
    "    ('I like to read a lot.', 'C1', 1),\n",
    "    ('The recent increase in online shopping has led to a significant shift in consumer behavior and preferences.', 'C1', 2),\n",
    "    ('The author\\'s eloquent use of language captivates readers and imbues the narrative with a profound sense of emotional depth.', 'C1', 3),\n",
    "    ('I like to read books and watch movies.', 'C2', 1),\n",
    "    ('I recently read an interesting article about climate change and its effects on marine life.', 'C2', 2),\n",
    "    ('His eloquent discourse on the complexities of quantum physics captivated even the most astute minds in the audience.', 'C2', 3)\n",
    "]\n",
    "\n",
    "correct_ratings = [e[2] for e in examples] "
   ]
  },
  {
   "cell_type": "code",
   "execution_count": 4,
   "metadata": {},
   "outputs": [],
   "source": [
    "def count_diff(l1, l2):\n",
    "    return sum( 1 if abs(e[0] - e[1]) > 1 else 0 for e in zip(l1,l2) )"
   ]
  },
  {
   "cell_type": "markdown",
   "metadata": {},
   "source": [
    "### Alternative 0"
   ]
  },
  {
   "cell_type": "code",
   "execution_count": 15,
   "metadata": {},
   "outputs": [
    {
     "name": "stdout",
     "output_type": "stream",
     "text": [
      "Acc:  0.2777777777777778\n",
      "Num diff > 1:  2\n",
      "[2, 2, 2, 2, 2, 2, 2, 3, 2, 2, 2, 2, 3, 3, 3, 3, 3, 3]\n",
      "[1, 2, 3, 1, 2, 3, 1, 2, 3, 1, 2, 3, 1, 2, 3, 1, 2, 3]\n"
     ]
    }
   ],
   "source": [
    "bot = LanguageLevelEvaluationBot(0)\n",
    "\n",
    "ratings = [ bot.evaluate('English', m[1], m[0]) for m in examples]\n",
    "\n",
    "acc =  accuracy_score(ratings, correct_ratings)   \n",
    "diff_g_e = count_diff(ratings, correct_ratings)\n",
    "\n",
    "print('Acc: ', acc)\n",
    "print('Num diff > 1: ', diff_g_e )\n",
    "print(ratings)\n",
    "print(correct_ratings)"
   ]
  },
  {
   "cell_type": "markdown",
   "metadata": {},
   "source": [
    "### Alternative 1"
   ]
  },
  {
   "cell_type": "code",
   "execution_count": 18,
   "metadata": {},
   "outputs": [
    {
     "name": "stdout",
     "output_type": "stream",
     "text": [
      "Acc:  0.2222222222222222\n",
      "Num diff > 1:  4\n",
      "[2, 2, 2, 2, 2, 1, 3, 3, 2, 2, 2, 2, 3, 3, 3, 3, 3, 2]\n",
      "[1, 2, 3, 1, 2, 3, 1, 2, 3, 1, 2, 3, 1, 2, 3, 1, 2, 3]\n"
     ]
    }
   ],
   "source": [
    "bot = LanguageLevelEvaluationBot(1)\n",
    "\n",
    "ratings = [ bot.evaluate('English', m[1], m[0]) for m in examples]\n",
    "\n",
    "acc =  accuracy_score(ratings, correct_ratings)   \n",
    "diff_g_e = count_diff(ratings, correct_ratings)\n",
    "\n",
    "\n",
    "print('Acc: ', acc)\n",
    "print('Num diff > 1: ', diff_g_e )\n",
    "print(ratings)\n",
    "print(correct_ratings)"
   ]
  },
  {
   "cell_type": "markdown",
   "metadata": {},
   "source": [
    "### Alternative 2"
   ]
  },
  {
   "cell_type": "code",
   "execution_count": 8,
   "metadata": {},
   "outputs": [
    {
     "name": "stdout",
     "output_type": "stream",
     "text": [
      "Acc:  0.2222222222222222\n",
      "Num diff > 1:  1\n",
      "[1, 2, 2, 2, 3, 2, 3, 3, 2, 2, 1, 2, 2, 3, 3, 2, 3, 3]\n",
      "[1, 2, 3, 1, 2, 3, 1, 2, 3, 1, 2, 3, 1, 2, 3, 1, 2, 3]\n"
     ]
    }
   ],
   "source": [
    "bot = LanguageLevelEvaluationBot(2)\n",
    "\n",
    "ratings = [ bot.evaluate('English', m[1], m[0]) for m in examples]\n",
    "\n",
    "acc =  accuracy_score(ratings, correct_ratings)   \n",
    "diff_g_e = count_diff(ratings, correct_ratings)\n",
    "\n",
    "\n",
    "print('Acc: ', acc)\n",
    "print('Num diff > 1: ', diff_g_e )\n",
    "print(ratings)\n",
    "print(correct_ratings)"
   ]
  },
  {
   "cell_type": "code",
   "execution_count": null,
   "metadata": {},
   "outputs": [],
   "source": []
  }
 ],
 "metadata": {
  "kernelspec": {
   "display_name": "internship",
   "language": "python",
   "name": "python3"
  },
  "language_info": {
   "codemirror_mode": {
    "name": "ipython",
    "version": 3
   },
   "file_extension": ".py",
   "mimetype": "text/x-python",
   "name": "python",
   "nbconvert_exporter": "python",
   "pygments_lexer": "ipython3",
   "version": "3.8.10"
  },
  "orig_nbformat": 4
 },
 "nbformat": 4,
 "nbformat_minor": 2
}

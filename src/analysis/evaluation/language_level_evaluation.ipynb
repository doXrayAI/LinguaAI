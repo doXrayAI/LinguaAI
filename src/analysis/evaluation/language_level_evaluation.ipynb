{
 "cells": [
  {
   "cell_type": "markdown",
   "metadata": {},
   "source": [
    "# Language level evaluation"
   ]
  },
  {
   "cell_type": "code",
   "execution_count": 1,
   "metadata": {},
   "outputs": [],
   "source": [
    "import sys\n",
    "sys.path.append(\"/home/mihaelabaksic/proj/2023-languagelearning\")\n",
    "sys.path.append(\"/home/mihaelabaksic/proj/2023-languagelearning/src\") \n",
    "sys.path.append(\"/home/mihaelabaksic/proj/2023-languagelearning/src/templates\") \n",
    "sys.path.append(\"/home/mihaelabaksic/proj/2023-languagelearning/src/templates/alternatives\") \n",
    "\n",
    "\n",
    "from single_run_thread import SingleRunThread\n",
    "from prompt_builder import PromptBuilder\n",
    "from utils import load_template, load_cefr\n",
    "import keys\n",
    "\n",
    "import openai\n",
    "openai.api_key = keys.OPENAI_API_KEY\n",
    "\n",
    "from src.bots.evaluation_bot import LanguageLevelEvaluationBot\n",
    " \n",
    "from sklearn.metrics import accuracy_score\n",
    "\n",
    "%load_ext autoreload\n",
    "%autoreload 2"
   ]
  },
  {
   "cell_type": "code",
   "execution_count": 2,
   "metadata": {},
   "outputs": [],
   "source": [
    "examples = [\n",
    "    ('The author\\'s nuanced use of symbolism and intricate narrative structure elevate the novel, making it a captivating exploration of the human psyche', 'A1', 1),\n",
    "    ('I recently read an interesting article about the impact of technology on modern society.', 'A1', 2),\n",
    "    ('I like to read. My favourite book is Alice in Wonderland', 'A1', 3),\n",
    "    ('The author\\'s nuanced use of symbolism and intricate narrative structure elevate the novel, making it a captivating exploration of the human psyche', 'A2', 1),\n",
    "    ('I would have really enjoyed the boat ride, such a pitty it is cancelled.', 'A2', 2),\n",
    "    ('I enjoy reading books and watching movies in my free time.', 'A2', 3),\n",
    "    ('The author\\'s nuanced use of symbolism and intricate narrative structure elevate the novel, making it a captivating exploration of the human psyche','B1', 1),\n",
    "    ('The author\\'s eloquent use of language captivates readers and imbues the narrative with a profound sense of emotional depth.', 'B1', 2),\n",
    "    ('I like to read books and watch movies in my free time.', 'B1', 3),\n",
    "    ('I love my mom a lot.', 'B2', 1),\n",
    "    ('I like to read books and watch movies in my free time.', 'B2', 2),\n",
    "    ('I recently read an interesting article about climate change and its effects on marine life.', 'B2', 3),\n",
    "    ('I like to read a lot.', 'C1', 1),\n",
    "    ('The recent increase in online shopping has led to a significant shift in consumer behavior and preferences.', 'C1', 2),\n",
    "    ('The author\\'s eloquent use of language captivates readers and imbues the narrative with a profound sense of emotional depth.', 'C1', 3),\n",
    "    ('I like to read books and watch movies.', 'C2', 1),\n",
    "    ('I recently read an interesting article about climate change and its effects on marine life.', 'C2', 2),\n",
    "    ('His eloquent discourse on the complexities of quantum physics captivated even the most astute minds in the audience.', 'C2', 3)\n",
    "]\n",
    "\n",
    "correct_ratings = [e[2] for e in examples] "
   ]
  },
  {
   "cell_type": "code",
   "execution_count": 3,
   "metadata": {},
   "outputs": [],
   "source": [
    "def count_diff(l1, l2):\n",
    "    return sum( 1 if abs(e[0] - e[1]) > 1 else 0 for e in zip(l1,l2) )"
   ]
  },
  {
   "cell_type": "markdown",
   "metadata": {},
   "source": [
    "### Alternative 0"
   ]
  },
  {
   "cell_type": "code",
   "execution_count": 4,
   "metadata": {},
   "outputs": [
    {
     "ename": "RateLimitError",
     "evalue": "You exceeded your current quota, please check your plan and billing details.",
     "output_type": "error",
     "traceback": [
      "\u001b[0;31m---------------------------------------------------------------------------\u001b[0m",
      "\u001b[0;31mRateLimitError\u001b[0m                            Traceback (most recent call last)",
      "\u001b[1;32m/home/mihaelabaksic/proj/2023-languagelearning/src/analysis/evaluation/language_level_evaluation.ipynb Cell 6\u001b[0m line \u001b[0;36m3\n\u001b[1;32m      <a href='vscode-notebook-cell://ssh-remote%2Binternship/home/mihaelabaksic/proj/2023-languagelearning/src/analysis/evaluation/language_level_evaluation.ipynb#W5sdnNjb2RlLXJlbW90ZQ%3D%3D?line=0'>1</a>\u001b[0m bot \u001b[39m=\u001b[39m LanguageLevelEvaluationBot(\u001b[39m0\u001b[39m)\n\u001b[0;32m----> <a href='vscode-notebook-cell://ssh-remote%2Binternship/home/mihaelabaksic/proj/2023-languagelearning/src/analysis/evaluation/language_level_evaluation.ipynb#W5sdnNjb2RlLXJlbW90ZQ%3D%3D?line=2'>3</a>\u001b[0m ratings \u001b[39m=\u001b[39m [ bot\u001b[39m.\u001b[39mevaluate(\u001b[39m'\u001b[39m\u001b[39mEnglish\u001b[39m\u001b[39m'\u001b[39m, m[\u001b[39m1\u001b[39m], m[\u001b[39m0\u001b[39m]) \u001b[39mfor\u001b[39;00m m \u001b[39min\u001b[39;00m examples]\n\u001b[1;32m      <a href='vscode-notebook-cell://ssh-remote%2Binternship/home/mihaelabaksic/proj/2023-languagelearning/src/analysis/evaluation/language_level_evaluation.ipynb#W5sdnNjb2RlLXJlbW90ZQ%3D%3D?line=4'>5</a>\u001b[0m acc \u001b[39m=\u001b[39m  accuracy_score(ratings, correct_ratings)   \n\u001b[1;32m      <a href='vscode-notebook-cell://ssh-remote%2Binternship/home/mihaelabaksic/proj/2023-languagelearning/src/analysis/evaluation/language_level_evaluation.ipynb#W5sdnNjb2RlLXJlbW90ZQ%3D%3D?line=5'>6</a>\u001b[0m diff_g_e \u001b[39m=\u001b[39m count_diff(ratings, correct_ratings)\n",
      "\u001b[1;32m/home/mihaelabaksic/proj/2023-languagelearning/src/analysis/evaluation/language_level_evaluation.ipynb Cell 6\u001b[0m line \u001b[0;36m3\n\u001b[1;32m      <a href='vscode-notebook-cell://ssh-remote%2Binternship/home/mihaelabaksic/proj/2023-languagelearning/src/analysis/evaluation/language_level_evaluation.ipynb#W5sdnNjb2RlLXJlbW90ZQ%3D%3D?line=0'>1</a>\u001b[0m bot \u001b[39m=\u001b[39m LanguageLevelEvaluationBot(\u001b[39m0\u001b[39m)\n\u001b[0;32m----> <a href='vscode-notebook-cell://ssh-remote%2Binternship/home/mihaelabaksic/proj/2023-languagelearning/src/analysis/evaluation/language_level_evaluation.ipynb#W5sdnNjb2RlLXJlbW90ZQ%3D%3D?line=2'>3</a>\u001b[0m ratings \u001b[39m=\u001b[39m [ bot\u001b[39m.\u001b[39;49mevaluate(\u001b[39m'\u001b[39;49m\u001b[39mEnglish\u001b[39;49m\u001b[39m'\u001b[39;49m, m[\u001b[39m1\u001b[39;49m], m[\u001b[39m0\u001b[39;49m]) \u001b[39mfor\u001b[39;00m m \u001b[39min\u001b[39;00m examples]\n\u001b[1;32m      <a href='vscode-notebook-cell://ssh-remote%2Binternship/home/mihaelabaksic/proj/2023-languagelearning/src/analysis/evaluation/language_level_evaluation.ipynb#W5sdnNjb2RlLXJlbW90ZQ%3D%3D?line=4'>5</a>\u001b[0m acc \u001b[39m=\u001b[39m  accuracy_score(ratings, correct_ratings)   \n\u001b[1;32m      <a href='vscode-notebook-cell://ssh-remote%2Binternship/home/mihaelabaksic/proj/2023-languagelearning/src/analysis/evaluation/language_level_evaluation.ipynb#W5sdnNjb2RlLXJlbW90ZQ%3D%3D?line=5'>6</a>\u001b[0m diff_g_e \u001b[39m=\u001b[39m count_diff(ratings, correct_ratings)\n",
      "File \u001b[0;32m~/proj/2023-languagelearning/src/bots/evaluation_bot.py:51\u001b[0m, in \u001b[0;36mLanguageLevelEvaluationBot.evaluate\u001b[0;34m(self, language, language_level, message, print_prompt)\u001b[0m\n\u001b[1;32m     48\u001b[0m \u001b[39mif\u001b[39;00m print_prompt:\n\u001b[1;32m     49\u001b[0m     \u001b[39mprint\u001b[39m(prompt)\n\u001b[0;32m---> 51\u001b[0m result \u001b[39m=\u001b[39m \u001b[39mself\u001b[39;49m\u001b[39m.\u001b[39;49m__thread\u001b[39m.\u001b[39;49msend(prompt)\n\u001b[1;32m     52\u001b[0m rating \u001b[39m=\u001b[39m re\u001b[39m.\u001b[39msearch(\u001b[39mr\u001b[39m\u001b[39m'\u001b[39m\u001b[39m\\\u001b[39m\u001b[39md+\u001b[39m\u001b[39m'\u001b[39m, result)\u001b[39m.\u001b[39mgroup()\n\u001b[1;32m     54\u001b[0m \u001b[39mreturn\u001b[39;00m \u001b[39mint\u001b[39m(rating)\n",
      "File \u001b[0;32m~/proj/2023-languagelearning/src/single_run_thread.py:13\u001b[0m, in \u001b[0;36mSingleRunThread.send\u001b[0;34m(self, prompt, params)\u001b[0m\n\u001b[1;32m     10\u001b[0m \u001b[39mdef\u001b[39;00m \u001b[39msend\u001b[39m(\u001b[39mself\u001b[39m, prompt: \u001b[39mstr\u001b[39m, params\u001b[39m=\u001b[39mdefault_parameters) \u001b[39m-\u001b[39m\u001b[39m>\u001b[39m \u001b[39mstr\u001b[39m:\n\u001b[1;32m     11\u001b[0m \u001b[39m    \u001b[39m\u001b[39m'''Sends a sigle prompt to GPT API. Returns API response string'''\u001b[39;00m\n\u001b[0;32m---> 13\u001b[0m     response \u001b[39m=\u001b[39m openai\u001b[39m.\u001b[39;49mChatCompletion\u001b[39m.\u001b[39;49mcreate(\n\u001b[1;32m     14\u001b[0m             model\u001b[39m=\u001b[39;49mparams\u001b[39m.\u001b[39;49mmodel,\n\u001b[1;32m     15\u001b[0m             messages \u001b[39m=\u001b[39;49m [ { \u001b[39m'\u001b[39;49m\u001b[39mrole\u001b[39;49m\u001b[39m'\u001b[39;49m: \u001b[39m'\u001b[39;49m\u001b[39muser\u001b[39;49m\u001b[39m'\u001b[39;49m, \u001b[39m'\u001b[39;49m\u001b[39mcontent\u001b[39;49m\u001b[39m'\u001b[39;49m : prompt},],\n\u001b[1;32m     16\u001b[0m             temperature\u001b[39m=\u001b[39;49mparams\u001b[39m.\u001b[39;49mtemperature,\n\u001b[1;32m     17\u001b[0m             max_tokens\u001b[39m=\u001b[39;49mparams\u001b[39m.\u001b[39;49mmax_tokens,\n\u001b[1;32m     18\u001b[0m             top_p\u001b[39m=\u001b[39;49mparams\u001b[39m.\u001b[39;49mtop_p,\n\u001b[1;32m     19\u001b[0m             frequency_penalty\u001b[39m=\u001b[39;49mparams\u001b[39m.\u001b[39;49mfrequency_penalty,\n\u001b[1;32m     20\u001b[0m             presence_penalty\u001b[39m=\u001b[39;49mparams\u001b[39m.\u001b[39;49mpresence_penalty,\n\u001b[1;32m     21\u001b[0m             stop\u001b[39m=\u001b[39;49mparams\u001b[39m.\u001b[39;49mstop)\n\u001b[1;32m     23\u001b[0m     \u001b[39mreturn\u001b[39;00m response\u001b[39m.\u001b[39mchoices[\u001b[39m0\u001b[39m]\u001b[39m.\u001b[39mmessage\u001b[39m.\u001b[39mcontent\n",
      "File \u001b[0;32m~/.venv/internship/lib/python3.8/site-packages/openai/api_resources/chat_completion.py:25\u001b[0m, in \u001b[0;36mChatCompletion.create\u001b[0;34m(cls, *args, **kwargs)\u001b[0m\n\u001b[1;32m     23\u001b[0m \u001b[39mwhile\u001b[39;00m \u001b[39mTrue\u001b[39;00m:\n\u001b[1;32m     24\u001b[0m     \u001b[39mtry\u001b[39;00m:\n\u001b[0;32m---> 25\u001b[0m         \u001b[39mreturn\u001b[39;00m \u001b[39msuper\u001b[39;49m()\u001b[39m.\u001b[39;49mcreate(\u001b[39m*\u001b[39;49margs, \u001b[39m*\u001b[39;49m\u001b[39m*\u001b[39;49mkwargs)\n\u001b[1;32m     26\u001b[0m     \u001b[39mexcept\u001b[39;00m TryAgain \u001b[39mas\u001b[39;00m e:\n\u001b[1;32m     27\u001b[0m         \u001b[39mif\u001b[39;00m timeout \u001b[39mis\u001b[39;00m \u001b[39mnot\u001b[39;00m \u001b[39mNone\u001b[39;00m \u001b[39mand\u001b[39;00m time\u001b[39m.\u001b[39mtime() \u001b[39m>\u001b[39m start \u001b[39m+\u001b[39m timeout:\n",
      "File \u001b[0;32m~/.venv/internship/lib/python3.8/site-packages/openai/api_resources/abstract/engine_api_resource.py:153\u001b[0m, in \u001b[0;36mEngineAPIResource.create\u001b[0;34m(cls, api_key, api_base, api_type, request_id, api_version, organization, **params)\u001b[0m\n\u001b[1;32m    127\u001b[0m \u001b[39m@classmethod\u001b[39m\n\u001b[1;32m    128\u001b[0m \u001b[39mdef\u001b[39;00m \u001b[39mcreate\u001b[39m(\n\u001b[1;32m    129\u001b[0m     \u001b[39mcls\u001b[39m,\n\u001b[0;32m   (...)\u001b[0m\n\u001b[1;32m    136\u001b[0m     \u001b[39m*\u001b[39m\u001b[39m*\u001b[39mparams,\n\u001b[1;32m    137\u001b[0m ):\n\u001b[1;32m    138\u001b[0m     (\n\u001b[1;32m    139\u001b[0m         deployment_id,\n\u001b[1;32m    140\u001b[0m         engine,\n\u001b[0;32m   (...)\u001b[0m\n\u001b[1;32m    150\u001b[0m         api_key, api_base, api_type, api_version, organization, \u001b[39m*\u001b[39m\u001b[39m*\u001b[39mparams\n\u001b[1;32m    151\u001b[0m     )\n\u001b[0;32m--> 153\u001b[0m     response, _, api_key \u001b[39m=\u001b[39m requestor\u001b[39m.\u001b[39;49mrequest(\n\u001b[1;32m    154\u001b[0m         \u001b[39m\"\u001b[39;49m\u001b[39mpost\u001b[39;49m\u001b[39m\"\u001b[39;49m,\n\u001b[1;32m    155\u001b[0m         url,\n\u001b[1;32m    156\u001b[0m         params\u001b[39m=\u001b[39;49mparams,\n\u001b[1;32m    157\u001b[0m         headers\u001b[39m=\u001b[39;49mheaders,\n\u001b[1;32m    158\u001b[0m         stream\u001b[39m=\u001b[39;49mstream,\n\u001b[1;32m    159\u001b[0m         request_id\u001b[39m=\u001b[39;49mrequest_id,\n\u001b[1;32m    160\u001b[0m         request_timeout\u001b[39m=\u001b[39;49mrequest_timeout,\n\u001b[1;32m    161\u001b[0m     )\n\u001b[1;32m    163\u001b[0m     \u001b[39mif\u001b[39;00m stream:\n\u001b[1;32m    164\u001b[0m         \u001b[39m# must be an iterator\u001b[39;00m\n\u001b[1;32m    165\u001b[0m         \u001b[39massert\u001b[39;00m \u001b[39mnot\u001b[39;00m \u001b[39misinstance\u001b[39m(response, OpenAIResponse)\n",
      "File \u001b[0;32m~/.venv/internship/lib/python3.8/site-packages/openai/api_requestor.py:298\u001b[0m, in \u001b[0;36mAPIRequestor.request\u001b[0;34m(self, method, url, params, headers, files, stream, request_id, request_timeout)\u001b[0m\n\u001b[1;32m    277\u001b[0m \u001b[39mdef\u001b[39;00m \u001b[39mrequest\u001b[39m(\n\u001b[1;32m    278\u001b[0m     \u001b[39mself\u001b[39m,\n\u001b[1;32m    279\u001b[0m     method,\n\u001b[0;32m   (...)\u001b[0m\n\u001b[1;32m    286\u001b[0m     request_timeout: Optional[Union[\u001b[39mfloat\u001b[39m, Tuple[\u001b[39mfloat\u001b[39m, \u001b[39mfloat\u001b[39m]]] \u001b[39m=\u001b[39m \u001b[39mNone\u001b[39;00m,\n\u001b[1;32m    287\u001b[0m ) \u001b[39m-\u001b[39m\u001b[39m>\u001b[39m Tuple[Union[OpenAIResponse, Iterator[OpenAIResponse]], \u001b[39mbool\u001b[39m, \u001b[39mstr\u001b[39m]:\n\u001b[1;32m    288\u001b[0m     result \u001b[39m=\u001b[39m \u001b[39mself\u001b[39m\u001b[39m.\u001b[39mrequest_raw(\n\u001b[1;32m    289\u001b[0m         method\u001b[39m.\u001b[39mlower(),\n\u001b[1;32m    290\u001b[0m         url,\n\u001b[0;32m   (...)\u001b[0m\n\u001b[1;32m    296\u001b[0m         request_timeout\u001b[39m=\u001b[39mrequest_timeout,\n\u001b[1;32m    297\u001b[0m     )\n\u001b[0;32m--> 298\u001b[0m     resp, got_stream \u001b[39m=\u001b[39m \u001b[39mself\u001b[39;49m\u001b[39m.\u001b[39;49m_interpret_response(result, stream)\n\u001b[1;32m    299\u001b[0m     \u001b[39mreturn\u001b[39;00m resp, got_stream, \u001b[39mself\u001b[39m\u001b[39m.\u001b[39mapi_key\n",
      "File \u001b[0;32m~/.venv/internship/lib/python3.8/site-packages/openai/api_requestor.py:700\u001b[0m, in \u001b[0;36mAPIRequestor._interpret_response\u001b[0;34m(self, result, stream)\u001b[0m\n\u001b[1;32m    692\u001b[0m     \u001b[39mreturn\u001b[39;00m (\n\u001b[1;32m    693\u001b[0m         \u001b[39mself\u001b[39m\u001b[39m.\u001b[39m_interpret_response_line(\n\u001b[1;32m    694\u001b[0m             line, result\u001b[39m.\u001b[39mstatus_code, result\u001b[39m.\u001b[39mheaders, stream\u001b[39m=\u001b[39m\u001b[39mTrue\u001b[39;00m\n\u001b[1;32m    695\u001b[0m         )\n\u001b[1;32m    696\u001b[0m         \u001b[39mfor\u001b[39;00m line \u001b[39min\u001b[39;00m parse_stream(result\u001b[39m.\u001b[39miter_lines())\n\u001b[1;32m    697\u001b[0m     ), \u001b[39mTrue\u001b[39;00m\n\u001b[1;32m    698\u001b[0m \u001b[39melse\u001b[39;00m:\n\u001b[1;32m    699\u001b[0m     \u001b[39mreturn\u001b[39;00m (\n\u001b[0;32m--> 700\u001b[0m         \u001b[39mself\u001b[39;49m\u001b[39m.\u001b[39;49m_interpret_response_line(\n\u001b[1;32m    701\u001b[0m             result\u001b[39m.\u001b[39;49mcontent\u001b[39m.\u001b[39;49mdecode(\u001b[39m\"\u001b[39;49m\u001b[39mutf-8\u001b[39;49m\u001b[39m\"\u001b[39;49m),\n\u001b[1;32m    702\u001b[0m             result\u001b[39m.\u001b[39;49mstatus_code,\n\u001b[1;32m    703\u001b[0m             result\u001b[39m.\u001b[39;49mheaders,\n\u001b[1;32m    704\u001b[0m             stream\u001b[39m=\u001b[39;49m\u001b[39mFalse\u001b[39;49;00m,\n\u001b[1;32m    705\u001b[0m         ),\n\u001b[1;32m    706\u001b[0m         \u001b[39mFalse\u001b[39;00m,\n\u001b[1;32m    707\u001b[0m     )\n",
      "File \u001b[0;32m~/.venv/internship/lib/python3.8/site-packages/openai/api_requestor.py:763\u001b[0m, in \u001b[0;36mAPIRequestor._interpret_response_line\u001b[0;34m(self, rbody, rcode, rheaders, stream)\u001b[0m\n\u001b[1;32m    761\u001b[0m stream_error \u001b[39m=\u001b[39m stream \u001b[39mand\u001b[39;00m \u001b[39m\"\u001b[39m\u001b[39merror\u001b[39m\u001b[39m\"\u001b[39m \u001b[39min\u001b[39;00m resp\u001b[39m.\u001b[39mdata\n\u001b[1;32m    762\u001b[0m \u001b[39mif\u001b[39;00m stream_error \u001b[39mor\u001b[39;00m \u001b[39mnot\u001b[39;00m \u001b[39m200\u001b[39m \u001b[39m<\u001b[39m\u001b[39m=\u001b[39m rcode \u001b[39m<\u001b[39m \u001b[39m300\u001b[39m:\n\u001b[0;32m--> 763\u001b[0m     \u001b[39mraise\u001b[39;00m \u001b[39mself\u001b[39m\u001b[39m.\u001b[39mhandle_error_response(\n\u001b[1;32m    764\u001b[0m         rbody, rcode, resp\u001b[39m.\u001b[39mdata, rheaders, stream_error\u001b[39m=\u001b[39mstream_error\n\u001b[1;32m    765\u001b[0m     )\n\u001b[1;32m    766\u001b[0m \u001b[39mreturn\u001b[39;00m resp\n",
      "\u001b[0;31mRateLimitError\u001b[0m: You exceeded your current quota, please check your plan and billing details."
     ]
    }
   ],
   "source": [
    "bot = LanguageLevelEvaluationBot(0)\n",
    "\n",
    "ratings = [ bot.evaluate('English', m[1], m[0]) for m in examples]\n",
    "\n",
    "acc =  accuracy_score(ratings, correct_ratings)   \n",
    "diff_g_e = count_diff(ratings, correct_ratings)\n",
    "\n",
    "print('Acc: ', acc)\n",
    "print('Num diff > 1: ', diff_g_e )\n",
    "print(ratings)\n",
    "print(correct_ratings)"
   ]
  },
  {
   "cell_type": "code",
   "execution_count": null,
   "metadata": {},
   "outputs": [],
   "source": [
    "sum_acc = 0\n",
    "sum_num_diff = 0\n",
    "n_runs = 10\n",
    "\n",
    "bot = LanguageLevelEvaluationBot(0)\n",
    "\n",
    "for i in range(n_runs):\n",
    "    \n",
    "\n",
    "    ratings = [ bot.evaluate('English', m[1], m[0]) for m in examples]\n",
    "\n",
    "    sum_acc +=  accuracy_score(ratings, correct_ratings)   \n",
    "    sum_num_diff += count_diff(ratings, correct_ratings)/len(examples)\n",
    "    \n",
    "print('Average acc: ', sum_acc/n_runs)\n",
    "print('Average percentage diff > 1: ', sum_num_diff/n_runs )"
   ]
  },
  {
   "cell_type": "markdown",
   "metadata": {},
   "source": [
    "### Alternative 1"
   ]
  },
  {
   "cell_type": "code",
   "execution_count": null,
   "metadata": {},
   "outputs": [],
   "source": [
    "bot = LanguageLevelEvaluationBot(1)\n",
    "\n",
    "ratings = [ bot.evaluate('English', m[1], m[0]) for m in examples]\n",
    "\n",
    "acc =  accuracy_score(ratings, correct_ratings)   \n",
    "diff_g_e = count_diff(ratings, correct_ratings)\n",
    "\n",
    "\n",
    "print('Acc: ', acc)\n",
    "print('Num diff > 1: ', diff_g_e )\n",
    "print(ratings)\n",
    "print(correct_ratings)"
   ]
  },
  {
   "cell_type": "code",
   "execution_count": 36,
   "metadata": {},
   "outputs": [
    {
     "name": "stdout",
     "output_type": "stream",
     "text": [
      "Average acc:  0.5555555555555555\n",
      "Average percentage diff > 1:  0.05\n"
     ]
    }
   ],
   "source": [
    "sum_acc = 0\n",
    "sum_num_diff = 0\n",
    "n_runs = 10\n",
    "\n",
    "bot = LanguageLevelEvaluationBot(1)\n",
    "\n",
    "for i in range(n_runs):\n",
    "    \n",
    "\n",
    "    ratings = [ bot.evaluate('English', m[1], m[0]) for m in examples]\n",
    "\n",
    "    sum_acc +=  accuracy_score(ratings, correct_ratings)   \n",
    "    sum_num_diff += count_diff(ratings, correct_ratings)/len(examples)\n",
    "    \n",
    "print('Average acc: ', sum_acc/n_runs)\n",
    "print('Average percentage diff > 1: ', sum_num_diff/n_runs )"
   ]
  },
  {
   "cell_type": "markdown",
   "metadata": {},
   "source": [
    "### Alternative 2"
   ]
  },
  {
   "cell_type": "code",
   "execution_count": 12,
   "metadata": {},
   "outputs": [
    {
     "name": "stdout",
     "output_type": "stream",
     "text": [
      "Acc:  0.4444444444444444\n",
      "Num diff > 1:  0\n",
      "[1, 1, 3, 1, 2, 2, 2, 1, 3, 2, 3, 3, 2, 3, 3, 2, 3, 3]\n",
      "[1, 2, 3, 1, 2, 3, 1, 2, 3, 1, 2, 3, 1, 2, 3, 1, 2, 3]\n"
     ]
    }
   ],
   "source": [
    "bot = LanguageLevelEvaluationBot(2)\n",
    "\n",
    "ratings = [ bot.evaluate('English', m[1], m[0], print_prompt=True) for m in examples]\n",
    "\n",
    "acc =  accuracy_score(ratings, correct_ratings)   \n",
    "diff_g_e = count_diff(ratings, correct_ratings)\n",
    "\n",
    "\n",
    "print('Acc: ', acc)\n",
    "print('Num diff > 1: ', diff_g_e )\n",
    "print(ratings)\n",
    "print(correct_ratings)"
   ]
  },
  {
   "cell_type": "code",
   "execution_count": 47,
   "metadata": {},
   "outputs": [
    {
     "name": "stdout",
     "output_type": "stream",
     "text": [
      "Average acc:  0.5222222222222223\n",
      "Average percentage diff > 1:  0.09444444444444447\n"
     ]
    }
   ],
   "source": [
    "sum_acc = 0\n",
    "sum_num_diff = 0\n",
    "n_runs = 10\n",
    "\n",
    "bot = LanguageLevelEvaluationBot(2)\n",
    "\n",
    "for i in range(n_runs):\n",
    "    \n",
    "\n",
    "    ratings = [ bot.evaluate('English', m[1], m[0]) for m in examples]\n",
    "\n",
    "    sum_acc +=  accuracy_score(ratings, correct_ratings)   \n",
    "    sum_num_diff += count_diff(ratings, correct_ratings)/len(examples)\n",
    "    \n",
    "print('Average acc: ', sum_acc/n_runs)\n",
    "print('Average percentage diff > 1: ', sum_num_diff/n_runs )"
   ]
  },
  {
   "cell_type": "markdown",
   "metadata": {},
   "source": [
    "### Alternative 3"
   ]
  },
  {
   "cell_type": "code",
   "execution_count": null,
   "metadata": {},
   "outputs": [],
   "source": [
    "bot = LanguageLevelEvaluationBot(3)\n",
    "\n",
    "ratings = [ bot.evaluate('English', m[1], m[0], print_prompt=True) for m in examples]\n",
    "\n",
    "acc =  accuracy_score(ratings, correct_ratings)   \n",
    "diff_g_e = count_diff(ratings, correct_ratings)\n",
    "\n",
    "\n",
    "print('Acc: ', acc)\n",
    "print('Num diff > 1: ', diff_g_e )\n",
    "print(ratings)\n",
    "print(correct_ratings)"
   ]
  },
  {
   "cell_type": "code",
   "execution_count": 40,
   "metadata": {},
   "outputs": [
    {
     "name": "stdout",
     "output_type": "stream",
     "text": [
      "Average acc:  0.5277777777777779\n",
      "Average percentage diff > 1:  0.01111111111111111\n"
     ]
    }
   ],
   "source": [
    "sum_acc = 0\n",
    "sum_num_diff = 0\n",
    "n_runs = 10\n",
    "\n",
    "bot = LanguageLevelEvaluationBot(3)\n",
    "\n",
    "for i in range(n_runs):\n",
    "    \n",
    "\n",
    "    ratings = [ bot.evaluate('English', m[1], m[0]) for m in examples]\n",
    "\n",
    "    sum_acc +=  accuracy_score(ratings, correct_ratings)   \n",
    "    sum_num_diff += count_diff(ratings, correct_ratings)/len(examples)\n",
    "    \n",
    "print('Average acc: ', sum_acc/n_runs)\n",
    "print('Average percentage diff > 1: ', sum_num_diff/n_runs )"
   ]
  },
  {
   "cell_type": "markdown",
   "metadata": {},
   "source": [
    "### Alternative 4"
   ]
  },
  {
   "cell_type": "code",
   "execution_count": null,
   "metadata": {},
   "outputs": [],
   "source": [
    "bot = LanguageLevelEvaluationBot(prompt_alternative=4, level_description_fname='../../templates/language_levels_cefr_extended.json')\n",
    "\n",
    "ratings = [ bot.evaluate('English', m[1], m[0], print_prompt=True) for m in examples]\n",
    "\n",
    "acc =  accuracy_score(ratings, correct_ratings)   \n",
    "diff_g_e = count_diff(ratings, correct_ratings)\n",
    "\n",
    "\n",
    "print('Acc: ', acc)\n",
    "print('Num diff > 1: ', diff_g_e )\n",
    "print(ratings)\n",
    "print(correct_ratings)"
   ]
  },
  {
   "cell_type": "code",
   "execution_count": 41,
   "metadata": {},
   "outputs": [
    {
     "name": "stdout",
     "output_type": "stream",
     "text": [
      "Average acc:  0.5166666666666667\n",
      "Average percentage diff > 1:  0.005555555555555555\n"
     ]
    }
   ],
   "source": [
    "sum_acc = 0\n",
    "sum_num_diff = 0\n",
    "n_runs = 10\n",
    "\n",
    "bot = LanguageLevelEvaluationBot(4)\n",
    "\n",
    "for i in range(n_runs):\n",
    "    \n",
    "\n",
    "    ratings = [ bot.evaluate('English', m[1], m[0]) for m in examples]\n",
    "\n",
    "    sum_acc +=  accuracy_score(ratings, correct_ratings)   \n",
    "    sum_num_diff += count_diff(ratings, correct_ratings)/len(examples)\n",
    "    \n",
    "print('Average acc: ', sum_acc/n_runs)\n",
    "print('Average percentage diff > 1: ', sum_num_diff/n_runs )"
   ]
  },
  {
   "cell_type": "markdown",
   "metadata": {},
   "source": [
    "### Alternative 5"
   ]
  },
  {
   "cell_type": "code",
   "execution_count": null,
   "metadata": {},
   "outputs": [],
   "source": [
    "bot = LanguageLevelEvaluationBot(prompt_alternative=5)\n",
    "\n",
    "ratings = [ bot.evaluate('English', m[1], m[0], print_prompt=True) for m in examples]\n",
    "\n",
    "acc =  accuracy_score(ratings, correct_ratings)   \n",
    "diff_g_e = count_diff(ratings, correct_ratings)\n",
    "\n",
    "\n",
    "print('Acc: ', acc)\n",
    "print('Num diff > 1: ', diff_g_e )\n",
    "print(ratings)\n",
    "print(correct_ratings)"
   ]
  },
  {
   "cell_type": "code",
   "execution_count": 43,
   "metadata": {},
   "outputs": [
    {
     "name": "stdout",
     "output_type": "stream",
     "text": [
      "Average acc:  0.5111111111111111\n",
      "Average percentage diff > 1:  0.0\n"
     ]
    }
   ],
   "source": [
    "sum_acc = 0\n",
    "sum_num_diff = 0\n",
    "n_runs = 10\n",
    "\n",
    "bot = LanguageLevelEvaluationBot(5)\n",
    "\n",
    "for i in range(n_runs):\n",
    "    \n",
    "\n",
    "    ratings = [ bot.evaluate('English', m[1], m[0]) for m in examples]\n",
    "\n",
    "    sum_acc +=  accuracy_score(ratings, correct_ratings)   \n",
    "\n",
    "    sum_num_diff += count_diff(ratings, correct_ratings)/len(examples)\n",
    "    \n",
    "print('Average acc: ', sum_acc/n_runs)\n",
    "print('Average percentage diff > 1: ', sum_num_diff/n_runs )"
   ]
  },
  {
   "cell_type": "markdown",
   "metadata": {},
   "source": [
    "### Alternative 6"
   ]
  },
  {
   "cell_type": "code",
   "execution_count": null,
   "metadata": {},
   "outputs": [],
   "source": [
    "bot = LanguageLevelEvaluationBot(6, level_description_fname='../../templates/language_levels_cefr.json')\n",
    "\n",
    "ratings = [ bot.evaluate('English', m[1], m[0], print_prompt=True) for m in examples]\n",
    "\n",
    "acc =  accuracy_score(ratings, correct_ratings)   \n",
    "diff_g_e = count_diff(ratings, correct_ratings)\n",
    "\n",
    "\n",
    "print('Acc: ', acc)\n",
    "print('Num diff > 1: ', diff_g_e )\n",
    "print(ratings)\n",
    "print(correct_ratings)"
   ]
  },
  {
   "cell_type": "code",
   "execution_count": 46,
   "metadata": {},
   "outputs": [
    {
     "name": "stdout",
     "output_type": "stream",
     "text": [
      "Average acc:  0.5722222222222222\n",
      "Average percentage diff > 1:  0.05\n"
     ]
    }
   ],
   "source": [
    "sum_acc = 0\n",
    "sum_num_diff = 0\n",
    "n_runs = 10\n",
    "\n",
    "bot = LanguageLevelEvaluationBot(6)\n",
    "\n",
    "for i in range(n_runs):\n",
    "    \n",
    "\n",
    "    ratings = [ bot.evaluate('English', m[1], m[0]) for m in examples]\n",
    "\n",
    "    sum_acc +=  accuracy_score(ratings, correct_ratings)   \n",
    "\n",
    "    sum_num_diff += count_diff(ratings, correct_ratings)/len(examples)\n",
    "    \n",
    "print('Average acc: ', sum_acc/n_runs)\n",
    "print('Average percentage diff > 1: ', sum_num_diff/n_runs )"
   ]
  },
  {
   "cell_type": "markdown",
   "metadata": {},
   "source": [
    "### Alternative 6 + reasoning"
   ]
  },
  {
   "cell_type": "code",
   "execution_count": 6,
   "metadata": {},
   "outputs": [
    {
     "name": "stdout",
     "output_type": "stream",
     "text": [
      " Rate the message with respect to language proficiency matching the A1 level of English. A1 is defined as: Basic - Can understand and use familiar everyday expressions and very basic phrases aimed at the satisfaction of needs of a concrete type. Can introduce him/herself and others and can ask and answer questions about personal details such as where he/she lives, people he/she knows and things he/she has. Can interact in a simple way provided the other person talks slowly and clearly and is prepared to help.\n",
      "\n",
      "Produce rating on a 1 to 3 scale for a message. First output the rating \"1\", \"2\" or \"3\" and explain your reasoning. Explanation of the scale:\n",
      "\n",
      "1: Poor level match: the sentence proficiency level does not match the A1 description at all. The displayed proficiency level is either much higher or much lower.\n",
      "2: Acceptable level match: the sentence proficiency level does not match the A1 description completely. The displayed proficiency level is either a bit higher or a bit lower.\n",
      "3: Good level match: the sentence proficiency level matches the A1 description. \n",
      "\n",
      "Examples of ratings for A1 level:\n",
      "Message: I like to eat pizza. It is tasty. Reasoning: The vocabulary and grammar level match the description completely.The sentences are very simple, as expected from A1 level. Rating: 3\n",
      "Message: After a busy day at work, I like to unwind by reading a good book and sipping on a cup of soothing herbal tea. Reasoning: The vocabulary is a bit too complex for A1 level. Rating: 2\n",
      "Message: Exemplifying profound linguistic acumen, the orator delivered a discourse that both captivated and enlightened the discerning audience. Reasoning: The vocabulary, grammar and sentence complxity is very high, which is completely opposite from expectations from A1 level. Rating: 1\n",
      "\n",
      "\n",
      "Message: \"The author's nuanced use of symbolism and intricate narrative structure elevate the novel, making it a captivating exploration of the human psyche\"\n",
      "    \n",
      " Rate the message with respect to language proficiency matching the A1 level of English. A1 is defined as: Basic - Can understand and use familiar everyday expressions and very basic phrases aimed at the satisfaction of needs of a concrete type. Can introduce him/herself and others and can ask and answer questions about personal details such as where he/she lives, people he/she knows and things he/she has. Can interact in a simple way provided the other person talks slowly and clearly and is prepared to help.\n",
      "\n",
      "Produce rating on a 1 to 3 scale for a message. First output the rating \"1\", \"2\" or \"3\" and explain your reasoning. Explanation of the scale:\n",
      "\n",
      "1: Poor level match: the sentence proficiency level does not match the A1 description at all. The displayed proficiency level is either much higher or much lower.\n",
      "2: Acceptable level match: the sentence proficiency level does not match the A1 description completely. The displayed proficiency level is either a bit higher or a bit lower.\n",
      "3: Good level match: the sentence proficiency level matches the A1 description. \n",
      "\n",
      "Examples of ratings for A1 level:\n",
      "Message: I like to eat pizza. It is tasty. Reasoning: The vocabulary and grammar level match the description completely.The sentences are very simple, as expected from A1 level. Rating: 3\n",
      "Message: After a busy day at work, I like to unwind by reading a good book and sipping on a cup of soothing herbal tea. Reasoning: The vocabulary is a bit too complex for A1 level. Rating: 2\n",
      "Message: Exemplifying profound linguistic acumen, the orator delivered a discourse that both captivated and enlightened the discerning audience. Reasoning: The vocabulary, grammar and sentence complxity is very high, which is completely opposite from expectations from A1 level. Rating: 1\n",
      "\n",
      "\n",
      "Message: \"I recently read an interesting article about the impact of technology on modern society.\"\n",
      "    \n",
      " Rate the message with respect to language proficiency matching the A1 level of English. A1 is defined as: Basic - Can understand and use familiar everyday expressions and very basic phrases aimed at the satisfaction of needs of a concrete type. Can introduce him/herself and others and can ask and answer questions about personal details such as where he/she lives, people he/she knows and things he/she has. Can interact in a simple way provided the other person talks slowly and clearly and is prepared to help.\n",
      "\n",
      "Produce rating on a 1 to 3 scale for a message. First output the rating \"1\", \"2\" or \"3\" and explain your reasoning. Explanation of the scale:\n",
      "\n",
      "1: Poor level match: the sentence proficiency level does not match the A1 description at all. The displayed proficiency level is either much higher or much lower.\n",
      "2: Acceptable level match: the sentence proficiency level does not match the A1 description completely. The displayed proficiency level is either a bit higher or a bit lower.\n",
      "3: Good level match: the sentence proficiency level matches the A1 description. \n",
      "\n",
      "Examples of ratings for A1 level:\n",
      "Message: I like to eat pizza. It is tasty. Reasoning: The vocabulary and grammar level match the description completely.The sentences are very simple, as expected from A1 level. Rating: 3\n",
      "Message: After a busy day at work, I like to unwind by reading a good book and sipping on a cup of soothing herbal tea. Reasoning: The vocabulary is a bit too complex for A1 level. Rating: 2\n",
      "Message: Exemplifying profound linguistic acumen, the orator delivered a discourse that both captivated and enlightened the discerning audience. Reasoning: The vocabulary, grammar and sentence complxity is very high, which is completely opposite from expectations from A1 level. Rating: 1\n",
      "\n",
      "\n",
      "Message: \"I like to read. My favourite book is Alice in Wonderland\"\n",
      "    \n",
      " Rate the message with respect to language proficiency matching the A2 level of English. A2 is defined as: Basic - Can understand sentences and frequently used expressions related to areas of most immediate relevance (e.g. very basic personal and family information, shopping, local geography, employment). Can communicate in simple and routine tasks requiring a simple and direct exchange of information on familiar and routine matters.  Can describe in simple terms aspects of his/her background, immediate environment and matters in areas of immediate need.\n",
      "\n",
      "Produce rating on a 1 to 3 scale for a message. First output the rating \"1\", \"2\" or \"3\" and explain your reasoning. Explanation of the scale:\n",
      "\n",
      "1: Poor level match: the sentence proficiency level does not match the A2 description at all. The displayed proficiency level is either much higher or much lower.\n",
      "2: Acceptable level match: the sentence proficiency level does not match the A2 description completely. The displayed proficiency level is either a bit higher or a bit lower.\n",
      "3: Good level match: the sentence proficiency level matches the A2 description. \n",
      "\n",
      "Examples of ratings for A2 level:\n",
      "Message: She enjoys reading books and watching movies in her free time. Reasoning: The match of the message is perfect because because it demonstrates a basic understanding and use of present tense verbs, simple sentence structure, and common vocabulary. It expresses a simple idea about someone's leisure activities, which aligns with the language complexity typically expected at the A2 level. The Rating: 3\n",
      "Message: I enjoy taking long walks in the park, especially during the vibrant colors of autumn. Reasoning: The sentence \"I enjoy taking long walks in the park, especially during the vibrant colors of autumn\" may not completely match the A2 level of English proficiency because it includes some complex language elements that could challenge learners at that level. The use of \"especially during the vibrant colors of autumn\" involves a more advanced vocabulary (\"especially\" and \"vibrant colors\"), and the structure of the sentence is relatively complex with multiple phrases connected by commas. A2-level learners typically focus on simpler sentence structures and basic vocabulary to convey their ideas effectively. Still, the sentence and activity explained are rather simple, expected from A2 level. Rating: 2\n",
      "Message: Having lived abroad for several years, I've gained a profound appreciation for diverse cultures and a deep understanding of global issues. Reasoning: The sentence is more complex and uses advanced vocabulary and grammatical structures that go beyond the typical comprehension and expression abilities of someone at an A2 level of English proficiency. A2 level typically involves basic sentence structures and vocabulary, while this sentence involves a complex participle construction (\"Having lived abroad\"), advanced vocabulary (\"profound appreciation,\" \"diverse cultures,\" \"deep understanding,\" \"global issues\"), and a higher level of syntactical complexity. Reasoning: The sentence exceeds the B1 level of English proficiency by far due to its complexity, vocabulary, and structure. B1-level learners typically deal with simpler sentences and everyday vocabulary, while the given sentence uses advanced words and intricate phrasing that may be challenging for them to understand and use comfortably.Rating: 1\n",
      "\n",
      "\n",
      "Message: \"The author's nuanced use of symbolism and intricate narrative structure elevate the novel, making it a captivating exploration of the human psyche\"\n",
      "    \n",
      " Rate the message with respect to language proficiency matching the A2 level of English. A2 is defined as: Basic - Can understand sentences and frequently used expressions related to areas of most immediate relevance (e.g. very basic personal and family information, shopping, local geography, employment). Can communicate in simple and routine tasks requiring a simple and direct exchange of information on familiar and routine matters.  Can describe in simple terms aspects of his/her background, immediate environment and matters in areas of immediate need.\n",
      "\n",
      "Produce rating on a 1 to 3 scale for a message. First output the rating \"1\", \"2\" or \"3\" and explain your reasoning. Explanation of the scale:\n",
      "\n",
      "1: Poor level match: the sentence proficiency level does not match the A2 description at all. The displayed proficiency level is either much higher or much lower.\n",
      "2: Acceptable level match: the sentence proficiency level does not match the A2 description completely. The displayed proficiency level is either a bit higher or a bit lower.\n",
      "3: Good level match: the sentence proficiency level matches the A2 description. \n",
      "\n",
      "Examples of ratings for A2 level:\n",
      "Message: She enjoys reading books and watching movies in her free time. Reasoning: The match of the message is perfect because because it demonstrates a basic understanding and use of present tense verbs, simple sentence structure, and common vocabulary. It expresses a simple idea about someone's leisure activities, which aligns with the language complexity typically expected at the A2 level. The Rating: 3\n",
      "Message: I enjoy taking long walks in the park, especially during the vibrant colors of autumn. Reasoning: The sentence \"I enjoy taking long walks in the park, especially during the vibrant colors of autumn\" may not completely match the A2 level of English proficiency because it includes some complex language elements that could challenge learners at that level. The use of \"especially during the vibrant colors of autumn\" involves a more advanced vocabulary (\"especially\" and \"vibrant colors\"), and the structure of the sentence is relatively complex with multiple phrases connected by commas. A2-level learners typically focus on simpler sentence structures and basic vocabulary to convey their ideas effectively. Still, the sentence and activity explained are rather simple, expected from A2 level. Rating: 2\n",
      "Message: Having lived abroad for several years, I've gained a profound appreciation for diverse cultures and a deep understanding of global issues. Reasoning: The sentence is more complex and uses advanced vocabulary and grammatical structures that go beyond the typical comprehension and expression abilities of someone at an A2 level of English proficiency. A2 level typically involves basic sentence structures and vocabulary, while this sentence involves a complex participle construction (\"Having lived abroad\"), advanced vocabulary (\"profound appreciation,\" \"diverse cultures,\" \"deep understanding,\" \"global issues\"), and a higher level of syntactical complexity. Reasoning: The sentence exceeds the B1 level of English proficiency by far due to its complexity, vocabulary, and structure. B1-level learners typically deal with simpler sentences and everyday vocabulary, while the given sentence uses advanced words and intricate phrasing that may be challenging for them to understand and use comfortably.Rating: 1\n",
      "\n",
      "\n",
      "Message: \"I would have really enjoyed the boat ride, such a pitty it is cancelled.\"\n",
      "    \n",
      " Rate the message with respect to language proficiency matching the A2 level of English. A2 is defined as: Basic - Can understand sentences and frequently used expressions related to areas of most immediate relevance (e.g. very basic personal and family information, shopping, local geography, employment). Can communicate in simple and routine tasks requiring a simple and direct exchange of information on familiar and routine matters.  Can describe in simple terms aspects of his/her background, immediate environment and matters in areas of immediate need.\n",
      "\n",
      "Produce rating on a 1 to 3 scale for a message. First output the rating \"1\", \"2\" or \"3\" and explain your reasoning. Explanation of the scale:\n",
      "\n",
      "1: Poor level match: the sentence proficiency level does not match the A2 description at all. The displayed proficiency level is either much higher or much lower.\n",
      "2: Acceptable level match: the sentence proficiency level does not match the A2 description completely. The displayed proficiency level is either a bit higher or a bit lower.\n",
      "3: Good level match: the sentence proficiency level matches the A2 description. \n",
      "\n",
      "Examples of ratings for A2 level:\n",
      "Message: She enjoys reading books and watching movies in her free time. Reasoning: The match of the message is perfect because because it demonstrates a basic understanding and use of present tense verbs, simple sentence structure, and common vocabulary. It expresses a simple idea about someone's leisure activities, which aligns with the language complexity typically expected at the A2 level. The Rating: 3\n",
      "Message: I enjoy taking long walks in the park, especially during the vibrant colors of autumn. Reasoning: The sentence \"I enjoy taking long walks in the park, especially during the vibrant colors of autumn\" may not completely match the A2 level of English proficiency because it includes some complex language elements that could challenge learners at that level. The use of \"especially during the vibrant colors of autumn\" involves a more advanced vocabulary (\"especially\" and \"vibrant colors\"), and the structure of the sentence is relatively complex with multiple phrases connected by commas. A2-level learners typically focus on simpler sentence structures and basic vocabulary to convey their ideas effectively. Still, the sentence and activity explained are rather simple, expected from A2 level. Rating: 2\n",
      "Message: Having lived abroad for several years, I've gained a profound appreciation for diverse cultures and a deep understanding of global issues. Reasoning: The sentence is more complex and uses advanced vocabulary and grammatical structures that go beyond the typical comprehension and expression abilities of someone at an A2 level of English proficiency. A2 level typically involves basic sentence structures and vocabulary, while this sentence involves a complex participle construction (\"Having lived abroad\"), advanced vocabulary (\"profound appreciation,\" \"diverse cultures,\" \"deep understanding,\" \"global issues\"), and a higher level of syntactical complexity. Reasoning: The sentence exceeds the B1 level of English proficiency by far due to its complexity, vocabulary, and structure. B1-level learners typically deal with simpler sentences and everyday vocabulary, while the given sentence uses advanced words and intricate phrasing that may be challenging for them to understand and use comfortably.Rating: 1\n",
      "\n",
      "\n",
      "Message: \"I enjoy reading books and watching movies in my free time.\"\n",
      "    \n",
      " Rate the message with respect to language proficiency matching the B1 level of English. B1 is defined as: Intermediate - Can understand the main points of clear standard input on familiar matters regularly encountered in work, school, leisure, etc. Can deal with most situations likely to arise whilst travelling in an area where the language is spoken.  Can produce simple connected text on topics which are familiar or of personal interest. Can describe experiences and events, dreams, hopes & ambitions and briefly give reasons and explanations for opinions and plans.\n",
      "\n",
      "Produce rating on a 1 to 3 scale for a message. First output the rating \"1\", \"2\" or \"3\" and explain your reasoning. Explanation of the scale:\n",
      "\n",
      "1: Poor level match: the sentence proficiency level does not match the B1 description at all. The displayed proficiency level is either much higher or much lower.\n",
      "2: Acceptable level match: the sentence proficiency level does not match the B1 description completely. The displayed proficiency level is either a bit higher or a bit lower.\n",
      "3: Good level match: the sentence proficiency level matches the B1 description. \n",
      "\n",
      "Examples of ratings for B1 level:\n",
      "Message: She always helps me with my homework, and I'm really thankful for her assistance. Reasoning: This sentence matches the B1 level of English proficiency because it demonstrates an ability to express gratitude and describe a recurring action. It includes a simple present tense (\"She always helps me with my homework\") to convey a habitual action and uses vocabulary like \"thankful\" and \"assistance\" to express feelings and convey ideas clearly. The sentence also maintains basic grammatical accuracy, which aligns with the B1 level's requirement for fundamental language skills. Rating: 3\n",
      "Message: After a busy day at work, I like to unwind by reading a good book and sipping on a cup of soothing herbal tea. Reasoning: The sentence demonstrates B1-level English proficiency partially because it effectively conveys a routine activity and preferences. However, it could be improved by using simpler vocabulary and more straightforward sentence structures to ensure full comprehension for B1-level readers. For instance, replacing \"unwind\" with \"relax,\" and \"soothing herbal tea\" with \"calming tea\" could enhance clarity and align better with B1 proficiency.  Rating: 2\n",
      "Message: Through meticulous analysis of intricate datasets, the astute scientist unearthed novel correlations, thereby advancing our understanding of complex ecological systems. Rating: 1\n",
      "\n",
      "\n",
      "Message: \"The author's nuanced use of symbolism and intricate narrative structure elevate the novel, making it a captivating exploration of the human psyche\"\n",
      "    \n",
      " Rate the message with respect to language proficiency matching the B1 level of English. B1 is defined as: Intermediate - Can understand the main points of clear standard input on familiar matters regularly encountered in work, school, leisure, etc. Can deal with most situations likely to arise whilst travelling in an area where the language is spoken.  Can produce simple connected text on topics which are familiar or of personal interest. Can describe experiences and events, dreams, hopes & ambitions and briefly give reasons and explanations for opinions and plans.\n",
      "\n",
      "Produce rating on a 1 to 3 scale for a message. First output the rating \"1\", \"2\" or \"3\" and explain your reasoning. Explanation of the scale:\n",
      "\n",
      "1: Poor level match: the sentence proficiency level does not match the B1 description at all. The displayed proficiency level is either much higher or much lower.\n",
      "2: Acceptable level match: the sentence proficiency level does not match the B1 description completely. The displayed proficiency level is either a bit higher or a bit lower.\n",
      "3: Good level match: the sentence proficiency level matches the B1 description. \n",
      "\n",
      "Examples of ratings for B1 level:\n",
      "Message: She always helps me with my homework, and I'm really thankful for her assistance. Reasoning: This sentence matches the B1 level of English proficiency because it demonstrates an ability to express gratitude and describe a recurring action. It includes a simple present tense (\"She always helps me with my homework\") to convey a habitual action and uses vocabulary like \"thankful\" and \"assistance\" to express feelings and convey ideas clearly. The sentence also maintains basic grammatical accuracy, which aligns with the B1 level's requirement for fundamental language skills. Rating: 3\n",
      "Message: After a busy day at work, I like to unwind by reading a good book and sipping on a cup of soothing herbal tea. Reasoning: The sentence demonstrates B1-level English proficiency partially because it effectively conveys a routine activity and preferences. However, it could be improved by using simpler vocabulary and more straightforward sentence structures to ensure full comprehension for B1-level readers. For instance, replacing \"unwind\" with \"relax,\" and \"soothing herbal tea\" with \"calming tea\" could enhance clarity and align better with B1 proficiency.  Rating: 2\n",
      "Message: Through meticulous analysis of intricate datasets, the astute scientist unearthed novel correlations, thereby advancing our understanding of complex ecological systems. Rating: 1\n",
      "\n",
      "\n",
      "Message: \"The author's eloquent use of language captivates readers and imbues the narrative with a profound sense of emotional depth.\"\n",
      "    \n",
      " Rate the message with respect to language proficiency matching the B1 level of English. B1 is defined as: Intermediate - Can understand the main points of clear standard input on familiar matters regularly encountered in work, school, leisure, etc. Can deal with most situations likely to arise whilst travelling in an area where the language is spoken.  Can produce simple connected text on topics which are familiar or of personal interest. Can describe experiences and events, dreams, hopes & ambitions and briefly give reasons and explanations for opinions and plans.\n",
      "\n",
      "Produce rating on a 1 to 3 scale for a message. First output the rating \"1\", \"2\" or \"3\" and explain your reasoning. Explanation of the scale:\n",
      "\n",
      "1: Poor level match: the sentence proficiency level does not match the B1 description at all. The displayed proficiency level is either much higher or much lower.\n",
      "2: Acceptable level match: the sentence proficiency level does not match the B1 description completely. The displayed proficiency level is either a bit higher or a bit lower.\n",
      "3: Good level match: the sentence proficiency level matches the B1 description. \n",
      "\n",
      "Examples of ratings for B1 level:\n",
      "Message: She always helps me with my homework, and I'm really thankful for her assistance. Reasoning: This sentence matches the B1 level of English proficiency because it demonstrates an ability to express gratitude and describe a recurring action. It includes a simple present tense (\"She always helps me with my homework\") to convey a habitual action and uses vocabulary like \"thankful\" and \"assistance\" to express feelings and convey ideas clearly. The sentence also maintains basic grammatical accuracy, which aligns with the B1 level's requirement for fundamental language skills. Rating: 3\n",
      "Message: After a busy day at work, I like to unwind by reading a good book and sipping on a cup of soothing herbal tea. Reasoning: The sentence demonstrates B1-level English proficiency partially because it effectively conveys a routine activity and preferences. However, it could be improved by using simpler vocabulary and more straightforward sentence structures to ensure full comprehension for B1-level readers. For instance, replacing \"unwind\" with \"relax,\" and \"soothing herbal tea\" with \"calming tea\" could enhance clarity and align better with B1 proficiency.  Rating: 2\n",
      "Message: Through meticulous analysis of intricate datasets, the astute scientist unearthed novel correlations, thereby advancing our understanding of complex ecological systems. Rating: 1\n",
      "\n",
      "\n",
      "Message: \"I like to read books and watch movies in my free time.\"\n",
      "    \n",
      " Rate the message with respect to language proficiency matching the B2 level of English. B2 is defined as: Intermediate - Can understand the main ideas of complex text on both concrete and abstract topics, including technical discussions in his/her field of specialisation. Can interact with a degree of fluency and spontaneity that makes regular interaction with native speakers quite possible without strain for either party. Can produce clear, detailed text on a wide range of subjects and explain a viewpoint on a topical issue giving the advantages and disadvantages of various options.\n",
      "\n",
      "Produce rating on a 1 to 3 scale for a message. First output the rating \"1\", \"2\" or \"3\" and explain your reasoning. Explanation of the scale:\n",
      "\n",
      "1: Poor level match: the sentence proficiency level does not match the B2 description at all. The displayed proficiency level is either much higher or much lower.\n",
      "2: Acceptable level match: the sentence proficiency level does not match the B2 description completely. The displayed proficiency level is either a bit higher or a bit lower.\n",
      "3: Good level match: the sentence proficiency level matches the B2 description. \n",
      "\n",
      "Examples of ratings for B2 level:\n",
      "Message: After a busy day at work, I like to unwind by reading a good book and sipping on a cup of soothing herbal tea. Reasoning: This sentence demonstrates a B2 level of English proficiency due to its ability to express a sequence of actions, convey personal preferences, and use descriptive language. It showcases a clear understanding of verb tenses, vocabulary related to relaxation activities, and the use of transitional phrases like \"after\" and \"and\" to connect ideas. Additionally, the sentence exhibits a grasp of common expressions (\"unwind,\" \"soothing herbal tea\") that are indicative of an intermediate language skill level.  Rating: 3\n",
      "Message: She enjoys reading books and watching movies in her free time. Reasoning: The sentence \"I enjoy taking walks in the park and admiring the beautiful flowers\" partially matches the B2 level of English proficiency. It demonstrates the ability to express personal preferences and engage in simple activities, but it could further showcase higher proficiency by incorporating more complex sentence structures, varied vocabulary, and perhaps providing additional details or explanations about the enjoyment of walking in the park and admiring the flowers. This would contribute to a more comprehensive and sophisticated expression of the idea.  Rating: 2\n",
      "Message: I like to eat pizza. It is tasty. Reasoning: The sentence \"I like to eat pizza. It is tasty.\" lacks complexity and depth necessary for a B2 level of English proficiency. B2-level writing typically involves more intricate sentence structures, varied vocabulary, and elaboration to express ideas and opinions. This sentence is relatively simple and lacks the sophistication expected at that proficiency level. Rating: 1\n",
      "\n",
      "\n",
      "Message: \"I love my mom a lot.\"\n",
      "    \n",
      " Rate the message with respect to language proficiency matching the B2 level of English. B2 is defined as: Intermediate - Can understand the main ideas of complex text on both concrete and abstract topics, including technical discussions in his/her field of specialisation. Can interact with a degree of fluency and spontaneity that makes regular interaction with native speakers quite possible without strain for either party. Can produce clear, detailed text on a wide range of subjects and explain a viewpoint on a topical issue giving the advantages and disadvantages of various options.\n",
      "\n",
      "Produce rating on a 1 to 3 scale for a message. First output the rating \"1\", \"2\" or \"3\" and explain your reasoning. Explanation of the scale:\n",
      "\n",
      "1: Poor level match: the sentence proficiency level does not match the B2 description at all. The displayed proficiency level is either much higher or much lower.\n",
      "2: Acceptable level match: the sentence proficiency level does not match the B2 description completely. The displayed proficiency level is either a bit higher or a bit lower.\n",
      "3: Good level match: the sentence proficiency level matches the B2 description. \n",
      "\n",
      "Examples of ratings for B2 level:\n",
      "Message: After a busy day at work, I like to unwind by reading a good book and sipping on a cup of soothing herbal tea. Reasoning: This sentence demonstrates a B2 level of English proficiency due to its ability to express a sequence of actions, convey personal preferences, and use descriptive language. It showcases a clear understanding of verb tenses, vocabulary related to relaxation activities, and the use of transitional phrases like \"after\" and \"and\" to connect ideas. Additionally, the sentence exhibits a grasp of common expressions (\"unwind,\" \"soothing herbal tea\") that are indicative of an intermediate language skill level.  Rating: 3\n",
      "Message: She enjoys reading books and watching movies in her free time. Reasoning: The sentence \"I enjoy taking walks in the park and admiring the beautiful flowers\" partially matches the B2 level of English proficiency. It demonstrates the ability to express personal preferences and engage in simple activities, but it could further showcase higher proficiency by incorporating more complex sentence structures, varied vocabulary, and perhaps providing additional details or explanations about the enjoyment of walking in the park and admiring the flowers. This would contribute to a more comprehensive and sophisticated expression of the idea.  Rating: 2\n",
      "Message: I like to eat pizza. It is tasty. Reasoning: The sentence \"I like to eat pizza. It is tasty.\" lacks complexity and depth necessary for a B2 level of English proficiency. B2-level writing typically involves more intricate sentence structures, varied vocabulary, and elaboration to express ideas and opinions. This sentence is relatively simple and lacks the sophistication expected at that proficiency level. Rating: 1\n",
      "\n",
      "\n",
      "Message: \"I like to read books and watch movies in my free time.\"\n",
      "    \n",
      " Rate the message with respect to language proficiency matching the B2 level of English. B2 is defined as: Intermediate - Can understand the main ideas of complex text on both concrete and abstract topics, including technical discussions in his/her field of specialisation. Can interact with a degree of fluency and spontaneity that makes regular interaction with native speakers quite possible without strain for either party. Can produce clear, detailed text on a wide range of subjects and explain a viewpoint on a topical issue giving the advantages and disadvantages of various options.\n",
      "\n",
      "Produce rating on a 1 to 3 scale for a message. First output the rating \"1\", \"2\" or \"3\" and explain your reasoning. Explanation of the scale:\n",
      "\n",
      "1: Poor level match: the sentence proficiency level does not match the B2 description at all. The displayed proficiency level is either much higher or much lower.\n",
      "2: Acceptable level match: the sentence proficiency level does not match the B2 description completely. The displayed proficiency level is either a bit higher or a bit lower.\n",
      "3: Good level match: the sentence proficiency level matches the B2 description. \n",
      "\n",
      "Examples of ratings for B2 level:\n",
      "Message: After a busy day at work, I like to unwind by reading a good book and sipping on a cup of soothing herbal tea. Reasoning: This sentence demonstrates a B2 level of English proficiency due to its ability to express a sequence of actions, convey personal preferences, and use descriptive language. It showcases a clear understanding of verb tenses, vocabulary related to relaxation activities, and the use of transitional phrases like \"after\" and \"and\" to connect ideas. Additionally, the sentence exhibits a grasp of common expressions (\"unwind,\" \"soothing herbal tea\") that are indicative of an intermediate language skill level.  Rating: 3\n",
      "Message: She enjoys reading books and watching movies in her free time. Reasoning: The sentence \"I enjoy taking walks in the park and admiring the beautiful flowers\" partially matches the B2 level of English proficiency. It demonstrates the ability to express personal preferences and engage in simple activities, but it could further showcase higher proficiency by incorporating more complex sentence structures, varied vocabulary, and perhaps providing additional details or explanations about the enjoyment of walking in the park and admiring the flowers. This would contribute to a more comprehensive and sophisticated expression of the idea.  Rating: 2\n",
      "Message: I like to eat pizza. It is tasty. Reasoning: The sentence \"I like to eat pizza. It is tasty.\" lacks complexity and depth necessary for a B2 level of English proficiency. B2-level writing typically involves more intricate sentence structures, varied vocabulary, and elaboration to express ideas and opinions. This sentence is relatively simple and lacks the sophistication expected at that proficiency level. Rating: 1\n",
      "\n",
      "\n",
      "Message: \"I recently read an interesting article about climate change and its effects on marine life.\"\n",
      "    \n",
      " Rate the message with respect to language proficiency matching the C1 level of English. C1 is defined as: Advanced - Can understand a wide range of demanding, longer texts, and recognise implicit meaning. Can express him/herself fluently and spontaneously without much obvious searching for expressions. Can use language flexibly and effectively for social, academic and professional purposes. Can produce clear, well-structured, detailed text on complex subjects, showing controlled use of organisational patterns, connectors and cohesive devices.\n",
      "\n",
      "Produce rating on a 1 to 3 scale for a message. First output the rating \"1\", \"2\" or \"3\" and explain your reasoning. Explanation of the scale:\n",
      "\n",
      "1: Poor level match: the sentence proficiency level does not match the C1 description at all. The displayed proficiency level is either much higher or much lower.\n",
      "2: Acceptable level match: the sentence proficiency level does not match the C1 description completely. The displayed proficiency level is either a bit higher or a bit lower.\n",
      "3: Good level match: the sentence proficiency level matches the C1 description. \n",
      "\n",
      "Examples of ratings for C1 level:\n",
      "Message: The intricate plot of the novel kept me engrossed from beginning to end, with its unexpected twists and complex characters. Reasoning: This sentence showcases a C1 level of English proficiency due to its sophisticated vocabulary and complex sentence structure. It effectively communicates a nuanced response to a literary work, discussing the \"intricate plot,\" \"unexpected twists,\" and \"complex characters,\" demonstrating an advanced understanding of narrative elements. The coherent flow and appropriate use of adjectives highlight the writer's ability to convey a detailed and insightful interpretation, indicating a strong command of the language at an advanced level. Rating: 3\n",
      "Message: I enjoy taking walks in the park and admiring the beautiful flowers. Reasoning: The sentence \"I enjoy taking walks in the park and admiring the beautiful flowers\" demonstrates a strong command of vocabulary and grammatical structures typically associated with a C1 level of English proficiency. However, to fully meet the requirements of C1, the sentence could benefit from a more complex sentence structure or the inclusion of more sophisticated vocabulary to showcase an even higher level of language proficiency. Rating: 2\n",
      "Message: She goes to school every day. She learns many things. Reasoning: The given sentence lacks complexity and variety in its language structures. A C1 level of English proficiency typically requires more sophisticated and varied vocabulary, along with complex sentence structures that demonstrate a higher level of fluency and expressiveness. The provided sentence, while grammatically correct, is too simple and does not exhibit the level of linguistic proficiency expected at the C1 level. Rating: 1\n",
      "\n",
      "\n",
      "Message: \"I like to read a lot.\"\n",
      "    \n",
      " Rate the message with respect to language proficiency matching the C1 level of English. C1 is defined as: Advanced - Can understand a wide range of demanding, longer texts, and recognise implicit meaning. Can express him/herself fluently and spontaneously without much obvious searching for expressions. Can use language flexibly and effectively for social, academic and professional purposes. Can produce clear, well-structured, detailed text on complex subjects, showing controlled use of organisational patterns, connectors and cohesive devices.\n",
      "\n",
      "Produce rating on a 1 to 3 scale for a message. First output the rating \"1\", \"2\" or \"3\" and explain your reasoning. Explanation of the scale:\n",
      "\n",
      "1: Poor level match: the sentence proficiency level does not match the C1 description at all. The displayed proficiency level is either much higher or much lower.\n",
      "2: Acceptable level match: the sentence proficiency level does not match the C1 description completely. The displayed proficiency level is either a bit higher or a bit lower.\n",
      "3: Good level match: the sentence proficiency level matches the C1 description. \n",
      "\n",
      "Examples of ratings for C1 level:\n",
      "Message: The intricate plot of the novel kept me engrossed from beginning to end, with its unexpected twists and complex characters. Reasoning: This sentence showcases a C1 level of English proficiency due to its sophisticated vocabulary and complex sentence structure. It effectively communicates a nuanced response to a literary work, discussing the \"intricate plot,\" \"unexpected twists,\" and \"complex characters,\" demonstrating an advanced understanding of narrative elements. The coherent flow and appropriate use of adjectives highlight the writer's ability to convey a detailed and insightful interpretation, indicating a strong command of the language at an advanced level. Rating: 3\n",
      "Message: I enjoy taking walks in the park and admiring the beautiful flowers. Reasoning: The sentence \"I enjoy taking walks in the park and admiring the beautiful flowers\" demonstrates a strong command of vocabulary and grammatical structures typically associated with a C1 level of English proficiency. However, to fully meet the requirements of C1, the sentence could benefit from a more complex sentence structure or the inclusion of more sophisticated vocabulary to showcase an even higher level of language proficiency. Rating: 2\n",
      "Message: She goes to school every day. She learns many things. Reasoning: The given sentence lacks complexity and variety in its language structures. A C1 level of English proficiency typically requires more sophisticated and varied vocabulary, along with complex sentence structures that demonstrate a higher level of fluency and expressiveness. The provided sentence, while grammatically correct, is too simple and does not exhibit the level of linguistic proficiency expected at the C1 level. Rating: 1\n",
      "\n",
      "\n",
      "Message: \"The recent increase in online shopping has led to a significant shift in consumer behavior and preferences.\"\n",
      "    \n",
      " Rate the message with respect to language proficiency matching the C1 level of English. C1 is defined as: Advanced - Can understand a wide range of demanding, longer texts, and recognise implicit meaning. Can express him/herself fluently and spontaneously without much obvious searching for expressions. Can use language flexibly and effectively for social, academic and professional purposes. Can produce clear, well-structured, detailed text on complex subjects, showing controlled use of organisational patterns, connectors and cohesive devices.\n",
      "\n",
      "Produce rating on a 1 to 3 scale for a message. First output the rating \"1\", \"2\" or \"3\" and explain your reasoning. Explanation of the scale:\n",
      "\n",
      "1: Poor level match: the sentence proficiency level does not match the C1 description at all. The displayed proficiency level is either much higher or much lower.\n",
      "2: Acceptable level match: the sentence proficiency level does not match the C1 description completely. The displayed proficiency level is either a bit higher or a bit lower.\n",
      "3: Good level match: the sentence proficiency level matches the C1 description. \n",
      "\n",
      "Examples of ratings for C1 level:\n",
      "Message: The intricate plot of the novel kept me engrossed from beginning to end, with its unexpected twists and complex characters. Reasoning: This sentence showcases a C1 level of English proficiency due to its sophisticated vocabulary and complex sentence structure. It effectively communicates a nuanced response to a literary work, discussing the \"intricate plot,\" \"unexpected twists,\" and \"complex characters,\" demonstrating an advanced understanding of narrative elements. The coherent flow and appropriate use of adjectives highlight the writer's ability to convey a detailed and insightful interpretation, indicating a strong command of the language at an advanced level. Rating: 3\n",
      "Message: I enjoy taking walks in the park and admiring the beautiful flowers. Reasoning: The sentence \"I enjoy taking walks in the park and admiring the beautiful flowers\" demonstrates a strong command of vocabulary and grammatical structures typically associated with a C1 level of English proficiency. However, to fully meet the requirements of C1, the sentence could benefit from a more complex sentence structure or the inclusion of more sophisticated vocabulary to showcase an even higher level of language proficiency. Rating: 2\n",
      "Message: She goes to school every day. She learns many things. Reasoning: The given sentence lacks complexity and variety in its language structures. A C1 level of English proficiency typically requires more sophisticated and varied vocabulary, along with complex sentence structures that demonstrate a higher level of fluency and expressiveness. The provided sentence, while grammatically correct, is too simple and does not exhibit the level of linguistic proficiency expected at the C1 level. Rating: 1\n",
      "\n",
      "\n",
      "Message: \"The author's eloquent use of language captivates readers and imbues the narrative with a profound sense of emotional depth.\"\n",
      "    \n",
      " Rate the message with respect to language proficiency matching the C2 level of English. C2 is defined as: Advanced - Can understand with ease virtually everything heard or read. Can summarise information from different spoken and written sources, reconstructing arguments and accounts in a coherent presentation. Can express him/herself spontaneously, very fluently and precisely, differentiating finer shades of meaning even in more complex situations.\n",
      "\n",
      "Produce rating on a 1 to 3 scale for a message. First output the rating \"1\", \"2\" or \"3\" and explain your reasoning. Explanation of the scale:\n",
      "\n",
      "1: Poor level match: the sentence proficiency level does not match the C2 description at all. The displayed proficiency level is either much higher or much lower.\n",
      "2: Acceptable level match: the sentence proficiency level does not match the C2 description completely. The displayed proficiency level is either a bit higher or a bit lower.\n",
      "3: Good level match: the sentence proficiency level matches the C2 description. \n",
      "\n",
      "Examples of ratings for C2 level:\n",
      "Message: Exemplifying profound linguistic acumen, the orator delivered a discourse that both captivated and enlightened the discerning audience. Reasoning: This sentence demonstrates a C2 level of English proficiency due to its sophisticated vocabulary, complex sentence structure, and nuanced use of language. The writer showcases a deep understanding of linguistic nuances, employing words like \"exemplifying,\" \"profound,\" \"discourse,\" \"captivated,\" and \"enlightened.\" The seamless integration of these elements reflects an advanced command of English, suitable for effectively communicating with a discerning and educated audience. Rating: 3\n",
      "Message: She carefully prepared a delicious homemade meal to share with her close friends. Reasoning: The sentence demonstrates a high level of English proficiency (C2) due to its coherent structure, vocabulary variety, and accurate use of complex grammar. However, it falls short of complete C2 mastery as it lacks some nuanced elements such as highly sophisticated vocabulary choices and intricate sentence structures that are characteristic of native-like fluency. Rating: 2\n",
      "Message: My cat is small and playful. It sleeps a lot. Reasoning: The sentence provided is well-structured and conveys clear information about the cat's size, behavior, and sleeping habits. However, for C2 level of English proficiency, more sophisticated and nuanced language use is expected. A C2-level sentence would likely exhibit a richer vocabulary, complex sentence structures, and a higher level of precision and depth in expression. The given sentence, while accurate, lacks the depth and complexity typically associated with advanced language proficiency. Rating: 1\n",
      "\n",
      "\n",
      "Message: \"I like to read books and watch movies.\"\n",
      "    \n",
      " Rate the message with respect to language proficiency matching the C2 level of English. C2 is defined as: Advanced - Can understand with ease virtually everything heard or read. Can summarise information from different spoken and written sources, reconstructing arguments and accounts in a coherent presentation. Can express him/herself spontaneously, very fluently and precisely, differentiating finer shades of meaning even in more complex situations.\n",
      "\n",
      "Produce rating on a 1 to 3 scale for a message. First output the rating \"1\", \"2\" or \"3\" and explain your reasoning. Explanation of the scale:\n",
      "\n",
      "1: Poor level match: the sentence proficiency level does not match the C2 description at all. The displayed proficiency level is either much higher or much lower.\n",
      "2: Acceptable level match: the sentence proficiency level does not match the C2 description completely. The displayed proficiency level is either a bit higher or a bit lower.\n",
      "3: Good level match: the sentence proficiency level matches the C2 description. \n",
      "\n",
      "Examples of ratings for C2 level:\n",
      "Message: Exemplifying profound linguistic acumen, the orator delivered a discourse that both captivated and enlightened the discerning audience. Reasoning: This sentence demonstrates a C2 level of English proficiency due to its sophisticated vocabulary, complex sentence structure, and nuanced use of language. The writer showcases a deep understanding of linguistic nuances, employing words like \"exemplifying,\" \"profound,\" \"discourse,\" \"captivated,\" and \"enlightened.\" The seamless integration of these elements reflects an advanced command of English, suitable for effectively communicating with a discerning and educated audience. Rating: 3\n",
      "Message: She carefully prepared a delicious homemade meal to share with her close friends. Reasoning: The sentence demonstrates a high level of English proficiency (C2) due to its coherent structure, vocabulary variety, and accurate use of complex grammar. However, it falls short of complete C2 mastery as it lacks some nuanced elements such as highly sophisticated vocabulary choices and intricate sentence structures that are characteristic of native-like fluency. Rating: 2\n",
      "Message: My cat is small and playful. It sleeps a lot. Reasoning: The sentence provided is well-structured and conveys clear information about the cat's size, behavior, and sleeping habits. However, for C2 level of English proficiency, more sophisticated and nuanced language use is expected. A C2-level sentence would likely exhibit a richer vocabulary, complex sentence structures, and a higher level of precision and depth in expression. The given sentence, while accurate, lacks the depth and complexity typically associated with advanced language proficiency. Rating: 1\n",
      "\n",
      "\n",
      "Message: \"I recently read an interesting article about climate change and its effects on marine life.\"\n",
      "    \n",
      " Rate the message with respect to language proficiency matching the C2 level of English. C2 is defined as: Advanced - Can understand with ease virtually everything heard or read. Can summarise information from different spoken and written sources, reconstructing arguments and accounts in a coherent presentation. Can express him/herself spontaneously, very fluently and precisely, differentiating finer shades of meaning even in more complex situations.\n",
      "\n",
      "Produce rating on a 1 to 3 scale for a message. First output the rating \"1\", \"2\" or \"3\" and explain your reasoning. Explanation of the scale:\n",
      "\n",
      "1: Poor level match: the sentence proficiency level does not match the C2 description at all. The displayed proficiency level is either much higher or much lower.\n",
      "2: Acceptable level match: the sentence proficiency level does not match the C2 description completely. The displayed proficiency level is either a bit higher or a bit lower.\n",
      "3: Good level match: the sentence proficiency level matches the C2 description. \n",
      "\n",
      "Examples of ratings for C2 level:\n",
      "Message: Exemplifying profound linguistic acumen, the orator delivered a discourse that both captivated and enlightened the discerning audience. Reasoning: This sentence demonstrates a C2 level of English proficiency due to its sophisticated vocabulary, complex sentence structure, and nuanced use of language. The writer showcases a deep understanding of linguistic nuances, employing words like \"exemplifying,\" \"profound,\" \"discourse,\" \"captivated,\" and \"enlightened.\" The seamless integration of these elements reflects an advanced command of English, suitable for effectively communicating with a discerning and educated audience. Rating: 3\n",
      "Message: She carefully prepared a delicious homemade meal to share with her close friends. Reasoning: The sentence demonstrates a high level of English proficiency (C2) due to its coherent structure, vocabulary variety, and accurate use of complex grammar. However, it falls short of complete C2 mastery as it lacks some nuanced elements such as highly sophisticated vocabulary choices and intricate sentence structures that are characteristic of native-like fluency. Rating: 2\n",
      "Message: My cat is small and playful. It sleeps a lot. Reasoning: The sentence provided is well-structured and conveys clear information about the cat's size, behavior, and sleeping habits. However, for C2 level of English proficiency, more sophisticated and nuanced language use is expected. A C2-level sentence would likely exhibit a richer vocabulary, complex sentence structures, and a higher level of precision and depth in expression. The given sentence, while accurate, lacks the depth and complexity typically associated with advanced language proficiency. Rating: 1\n",
      "\n",
      "\n",
      "Message: \"His eloquent discourse on the complexities of quantum physics captivated even the most astute minds in the audience.\"\n",
      "    \n",
      "Acc:  0.6666666666666666\n",
      "Num diff > 1:  0\n",
      "[1, 2, 3, 1, 2, 3, 1, 2, 3, 2, 3, 3, 2, 3, 3, 2, 3, 3]\n",
      "[1, 2, 3, 1, 2, 3, 1, 2, 3, 1, 2, 3, 1, 2, 3, 1, 2, 3]\n"
     ]
    }
   ],
   "source": [
    "bot = LanguageLevelEvaluationBot(6, level_description_fname='../../templates/language_levels_cefr.json')\n",
    "\n",
    "ratings = [ bot.evaluate('English', m[1], m[0], print_prompt=True) for m in examples]\n",
    "\n",
    "acc =  accuracy_score(ratings, correct_ratings)   \n",
    "diff_g_e = count_diff(ratings, correct_ratings)\n",
    "\n",
    "\n",
    "print('Acc: ', acc)\n",
    "print('Num diff > 1: ', diff_g_e )\n",
    "print(ratings)\n",
    "print(correct_ratings)"
   ]
  },
  {
   "cell_type": "code",
   "execution_count": 7,
   "metadata": {},
   "outputs": [
    {
     "name": "stdout",
     "output_type": "stream",
     "text": [
      "Average acc:  0.6555555555555557\n",
      "Average percentage diff > 1:  0.01111111111111111\n"
     ]
    }
   ],
   "source": [
    "sum_acc = 0\n",
    "sum_num_diff = 0\n",
    "n_runs = 10\n",
    "\n",
    "bot = LanguageLevelEvaluationBot(6)\n",
    "\n",
    "for i in range(n_runs):\n",
    "    \n",
    "    ratings = [ bot.evaluate('English', m[1], m[0]) for m in examples]\n",
    "\n",
    "    sum_acc +=  accuracy_score(ratings, correct_ratings)   \n",
    "\n",
    "    sum_num_diff += count_diff(ratings, correct_ratings)/len(examples)\n",
    "    \n",
    "print('Average acc: ', sum_acc/n_runs)\n",
    "print('Average percentage diff > 1: ', sum_num_diff/n_runs )"
   ]
  },
  {
   "cell_type": "markdown",
   "metadata": {},
   "source": [
    "|Prompt alternative | Average accuracy | Average percentage of difference > 1 |\n",
    "|-------------------|------------------|--------------------------------------|\n",
    "| 0 | 0.522 | 0.0 |\n",
    "| 1 |  0.556 | 0.05 |\n",
    "| 2 | 0.522| 0.09 |\n",
    "| 3 | 0.528 |0.011|\n",
    "| 4 | 0.516 |0.001 |\n",
    "| 5 | 0.511 | 0.0 |\n",
    "| 6 | 0.572| 0.05|\n",
    "| 6 + reasoning | 0.656 | 0.011 |"
   ]
  },
  {
   "cell_type": "code",
   "execution_count": null,
   "metadata": {},
   "outputs": [],
   "source": []
  },
  {
   "cell_type": "code",
   "execution_count": null,
   "metadata": {},
   "outputs": [],
   "source": []
  }
 ],
 "metadata": {
  "kernelspec": {
   "display_name": "internship",
   "language": "python",
   "name": "internship"
  },
  "language_info": {
   "codemirror_mode": {
    "name": "ipython",
    "version": 3
   },
   "file_extension": ".py",
   "mimetype": "text/x-python",
   "name": "python",
   "nbconvert_exporter": "python",
   "pygments_lexer": "ipython3",
   "version": "3.8.10"
  },
  "orig_nbformat": 4
 },
 "nbformat": 4,
 "nbformat_minor": 2
}

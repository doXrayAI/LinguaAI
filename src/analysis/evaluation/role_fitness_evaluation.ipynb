{
 "cells": [
  {
   "cell_type": "markdown",
   "metadata": {},
   "source": [
    "# Role fitness evaluation"
   ]
  },
  {
   "cell_type": "code",
   "execution_count": 1,
   "metadata": {},
   "outputs": [],
   "source": [
    "from notebook_init import notebook_init, notebook_imports\n",
    "\n",
    "notebook_init()\n",
    "notebook_imports()\n",
    "\n",
    "from src.bots.evaluation_bot import RoleFitnessEvaluationBot\n"
   ]
  },
  {
   "cell_type": "code",
   "execution_count": 2,
   "metadata": {},
   "outputs": [],
   "source": [
    "example_dialogue = [\n",
    "    \"Waiter: Hello,  how may I help you today?\",\n",
    "    \"Customer: Hi, I would love a cappuccino.\",\n",
    "    \"Waiter: Unfortunately, our coffee machine is broken. Would you like something else? We have a big variety of freshly squeezed juices.\",\n",
    "    \"Customer: Hmm, that sounds good. What is your recommendation?\", \n",
    "    \"Waiter: Definitely the apricot juice, its so rich in flavor, you won't regret it.\",\n",
    "    \"Customer: Then apricot it is.\",\n",
    "    \"Waiter: Ofcourse, I'll be back in a second.... Here it is. Is there something else you would like?\",\n",
    "    \"Customer: Now that i think about it, do you happen to have any cakes?\",\n",
    "    \"Waiter: Yes, do you want any?\", #, we do. We have several different tarts.\",\n",
    "    \"Customer: Do you have blueberry tart?\",\n",
    "    \"Waiter: Yes\", #, freshly baked. So, one blueberry tart?\",\n",
    "    \"Customer: Yes, thank you very much\"\n",
    "]\n",
    "\n",
    "GPT_role = 'Waiter'\n",
    "setting = 'In a cafe.'"
   ]
  },
  {
   "cell_type": "markdown",
   "metadata": {},
   "source": [
    "### Alternative 0"
   ]
  },
  {
   "cell_type": "code",
   "execution_count": 5,
   "metadata": {},
   "outputs": [
    {
     "name": "stdout",
     "output_type": "stream",
     "text": [
      "MESSAGE:  Waiter: Unfortunately, our coffee machine is broken. Would you like something else? We have a big variety of freshly squeezed juices.\n"
     ]
    },
    {
     "name": "stdout",
     "output_type": "stream",
     "text": [
      "RATING:  3\n",
      "-------------------------\n",
      "MESSAGE:  Waiter: Definitely the apricot juice, its so rich in flavor, you won't regret it.\n",
      "RATING:  3\n",
      "-------------------------\n",
      "MESSAGE:  Waiter: Ofcourse, I'll be back in a second.... Here it is. Is there something else you would like?\n",
      "RATING:  3\n",
      "-------------------------\n",
      "MESSAGE:  Waiter: Yes, do you want any?\n",
      "RATING:  3\n",
      "-------------------------\n",
      "MESSAGE:  Waiter: Yes\n",
      "RATING:  3\n",
      "-------------------------\n"
     ]
    }
   ],
   "source": [
    "bot = RoleFitnessEvaluationBot()\n",
    "\n",
    "for i in range(2, len(example_dialogue)-1, 2):\n",
    "    print('MESSAGE: ', example_dialogue[i] )\n",
    "    rating = bot.evaluate(GPT_role, setting, '\\n'.join(example_dialogue[0:i]), example_dialogue[i])\n",
    "    print('RATING: ', rating)\n",
    "    \n",
    "    print('-------------------------')"
   ]
  },
  {
   "cell_type": "markdown",
   "metadata": {},
   "source": [
    "### Alternative 1"
   ]
  },
  {
   "cell_type": "code",
   "execution_count": 6,
   "metadata": {},
   "outputs": [
    {
     "name": "stdout",
     "output_type": "stream",
     "text": [
      "MESSAGE:  Waiter: Unfortunately, our coffee machine is broken. Would you like something else? We have a big variety of freshly squeezed juices.\n",
      "RATING:  3\n",
      "-------------------------\n",
      "MESSAGE:  Waiter: Definitely the apricot juice, its so rich in flavor, you won't regret it.\n",
      "RATING:  3\n",
      "-------------------------\n",
      "MESSAGE:  Waiter: Ofcourse, I'll be back in a second.... Here it is. Is there something else you would like?\n",
      "RATING:  3\n",
      "-------------------------\n",
      "MESSAGE:  Waiter: Yes, do you want any?\n",
      "RATING:  1\n",
      "-------------------------\n",
      "MESSAGE:  Waiter: Yes\n",
      "RATING:  2\n",
      "-------------------------\n"
     ]
    }
   ],
   "source": [
    "bot = RoleFitnessEvaluationBot(1)\n",
    "\n",
    "for i in range(2, len(example_dialogue)-1, 2):\n",
    "    print('MESSAGE: ', example_dialogue[i] )\n",
    "    rating = bot.evaluate(GPT_role, setting, '\\n'.join(example_dialogue[0:i]), example_dialogue[i])\n",
    "    print('RATING: ', rating)\n",
    "    \n",
    "    print('-------------------------')"
   ]
  },
  {
   "cell_type": "markdown",
   "metadata": {},
   "source": [
    "### Alternative 2"
   ]
  },
  {
   "cell_type": "code",
   "execution_count": 3,
   "metadata": {},
   "outputs": [
    {
     "name": "stdout",
     "output_type": "stream",
     "text": [
      "MESSAGE:  Waiter: Unfortunately, our coffee machine is broken. Would you like something else? We have a big variety of freshly squeezed juices.\n",
      "RATING:  4\n",
      "-------------------------\n",
      "MESSAGE:  Waiter: Definitely the apricot juice, its so rich in flavor, you won't regret it.\n",
      "RATING:  4\n",
      "-------------------------\n",
      "MESSAGE:  Waiter: Ofcourse, I'll be back in a second.... Here it is. Is there something else you would like?\n",
      "RATING:  4\n",
      "-------------------------\n",
      "MESSAGE:  Waiter: Yes, do you want any?\n",
      "RATING:  1\n",
      "-------------------------\n",
      "MESSAGE:  Waiter: Yes\n",
      "RATING:  1\n",
      "-------------------------\n"
     ]
    }
   ],
   "source": [
    "bot = RoleFitnessEvaluationBot(2)\n",
    "\n",
    "for i in range(2, len(example_dialogue)-1, 2):\n",
    "    print('MESSAGE: ', example_dialogue[i] )\n",
    "    rating = bot.evaluate(GPT_role, setting, '\\n'.join(example_dialogue[0:i]), example_dialogue[i])\n",
    "    print('RATING: ', rating)\n",
    "    \n",
    "    print('-------------------------')"
   ]
  },
  {
   "cell_type": "code",
   "execution_count": null,
   "metadata": {},
   "outputs": [],
   "source": []
  }
 ],
 "metadata": {
  "kernelspec": {
   "display_name": "internship",
   "language": "python",
   "name": "python3"
  },
  "language_info": {
   "codemirror_mode": {
    "name": "ipython",
    "version": 3
   },
   "file_extension": ".py",
   "mimetype": "text/x-python",
   "name": "python",
   "nbconvert_exporter": "python",
   "pygments_lexer": "ipython3",
   "version": "3.8.10"
  },
  "orig_nbformat": 4
 },
 "nbformat": 4,
 "nbformat_minor": 2
}

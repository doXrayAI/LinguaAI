{
 "cells": [
  {
   "cell_type": "markdown",
   "metadata": {},
   "source": [
    "# Language proficiency level"
   ]
  },
  {
   "cell_type": "code",
   "execution_count": 1,
   "metadata": {},
   "outputs": [],
   "source": [
    "import sys\n",
    "sys.path.append(\"/home/mihaelabaksic/proj/2023-languagelearning\")\n",
    "sys.path.append(\"/home/mihaelabaksic/proj/2023-languagelearning/src\") \n",
    "sys.path.append(\"/home/mihaelabaksic/proj/2023-languagelearning/src/templates\") \n",
    "\n",
    "%load_ext autoreload\n",
    "%autoreload 2"
   ]
  },
  {
   "cell_type": "code",
   "execution_count": 2,
   "metadata": {},
   "outputs": [],
   "source": [
    "from single_run_thread import SingleRunThread\n",
    "from prompt_builder import PromptBuilder\n",
    "from utils import load_template\n",
    "import keys\n",
    "\n",
    "import openai"
   ]
  },
  {
   "cell_type": "code",
   "execution_count": 3,
   "metadata": {},
   "outputs": [],
   "source": [
    "openai.api_key = keys.OPENAI_API_KEY"
   ]
  },
  {
   "cell_type": "markdown",
   "metadata": {},
   "source": [
    "Q1: How to encode language level:\n",
    "- CEFR\n",
    "- CEFR with description"
   ]
  },
  {
   "cell_type": "code",
   "execution_count": 8,
   "metadata": {},
   "outputs": [],
   "source": [
    "cefr_decriptions = {\n",
    "    'A1': 'Can understand and use familiar everyday expressions and very basic phrases aimed at the satisfaction of needs of a concrete type. Can introduce him/herself and others and can ask and answer questions about personal details such as where he/she lives, people he/she knows and things he/she has. Can interact in a simple way provided the other person talks slowly and clearly and is prepared to help.',\n",
    "    'A2': 'Can understand sentences and frequently used expressions related to areas of most immediate relevance (e.g. very basic personal and family information, shopping, local geography, employment). Can communicate in simple and routine tasks requiring a simple and direct exchange of information on familiar and routine matters.  Can describe in simple terms aspects of his/her background, immediate environment and matters in areas of immediate need.',\n",
    "    'B1': 'Can understand the main points of clear standard input on familiar matters regularly encountered in work, school, leisure, etc. Can deal with most situations likely to arise whilst travelling in an area where the language is spoken.  Can produce simple connected text on topics which are familiar or of personal interest. Can describe experiences and events, dreams, hopes & ambitions and briefly give reasons and explanations for opinions and plans.',\n",
    "    'B2': 'Can understand the main ideas of complex text on both concrete and abstract topics, including technical discussions in his/her field of specialisation. Can interact with a degree of fluency and spontaneity that makes regular interaction with native speakers quite possible without strain for either party. Can produce clear, detailed text on a wide range of subjects and explain a viewpoint on a topical issue giving the advantages and disadvantages of various options.',\n",
    "    'C1': 'Can understand a wide range of demanding, longer texts, and recognise implicit meaning. Can express him/herself fluently and spontaneously without much obvious searching for expressions. Can use language flexibly and effectively for social, academic and professional purposes. Can produce clear, well-structured, detailed text on complex subjects, showing controlled use of organisational patterns, connectors and cohesive devices.',\n",
    "    'C2': 'Can understand with ease virtually everything heard or read. Can summarise information from different spoken and written sources, reconstructing arguments and accounts in a coherent presentation. Can express him/herself spontaneously, very fluently and precisely, differentiating finer shades of meaning even in more complex situations.'\n",
    "}"
   ]
  },
  {
   "cell_type": "markdown",
   "metadata": {},
   "source": [
    "## Generation with respect to CEFR"
   ]
  },
  {
   "cell_type": "markdown",
   "metadata": {},
   "source": [
    "### No CEFR descriptions"
   ]
  },
  {
   "cell_type": "code",
   "execution_count": 13,
   "metadata": {},
   "outputs": [],
   "source": [
    "cefr_prompts ={\n",
    "        'A1': 'Generate 3 sentences about football using only A1 level of English, according to CEFR framework.',\n",
    "        'A2': 'Generate 3 sentences about football using only A2 level of English, according to CEFR framework.',\n",
    "        'B1': 'Generate 3 sentences about football using only B1 level of English, according to CEFR framework.',\n",
    "        'B2': 'Generate 3 sentences about football using only B2 level of English, according to CEFR framework.',\n",
    "        'C1': 'Generate 3 sentences about football using only C1 level of English, according to CEFR framework.',\n",
    "        'C2': 'Generate 3 sentences about football using only C2 level of English, according to CEFR framework.'\n",
    "    } "
   ]
  },
  {
   "cell_type": "code",
   "execution_count": 10,
   "metadata": {},
   "outputs": [],
   "source": [
    "t = SingleRunThread()\n",
    "\n",
    "cefr_generated_sentences = dict()\n",
    "\n",
    "for level in cefr_prompts:\n",
    "    result = t.send(cefr_prompts[level])\n",
    "    cefr_generated_sentences[level] = result"
   ]
  },
  {
   "cell_type": "code",
   "execution_count": 11,
   "metadata": {},
   "outputs": [
    {
     "data": {
      "text/plain": [
       "{'A1': \"1. Football is a popular sport played by two teams, each trying to score goals by kicking a ball into the opponent's net.\\n2. I enjoy watching football matches on TV because they are exciting and full of action.\\n3. My favorite football player is Ronaldo because he is very talented and scores a lot of goals.\",\n",
       " 'A2': \"1. Football is a popular sport played by two teams with eleven players each, who try to score goals by kicking a ball into the opposing team's net.\\n2. Players in football need to have good coordination, stamina, and teamwork skills to succeed in the game.\\n3. Watching a football match can be exciting, as fans cheer for their favorite teams and celebrate when a goal is scored.\",\n",
       " 'B1': \"1. Football is a popular sport played by two teams, each consisting of eleven players, who aim to score goals by kicking a ball into the opposing team's net.\\n2. The game is fast-paced and requires good teamwork, communication, and skill. Players must pass, dribble, and shoot the ball strategically to outplay their opponents.\\n3. Football matches are often watched by passionate fans, who cheer and support their favorite teams, creating an electric atmosphere in the stadium.\",\n",
       " 'B2': \"1. Football is a popular sport played worldwide, with teams competing against each other to score goals and win matches.\\n2. The objective of football is to kick the ball into the opposing team's net, while the opposing team tries to defend their goal and prevent the ball from going in.\\n3. Football matches are typically played on a grass field, with two teams consisting of eleven players each, who use their feet and heads to control and pass the ball.\",\n",
       " 'C1': '1. Football, also known as soccer, is a highly popular sport worldwide, captivating the attention of millions of fans and players.\\n2. The game of football requires a combination of physical stamina, skillful techniques, and strategic teamwork to achieve victory.\\n3. Football matches often create an electric atmosphere, with passionate fans cheering for their favorite teams and players.',\n",
       " 'C2': \"1. Football, often referred to as the beautiful game, captivates fans worldwide with its dynamic gameplay, strategic maneuvers, and exhilarating moments of skill and athleticism.\\n2. The sport's global appeal is evident in the fervent support and unwavering passion demonstrated by fans who fill stadiums, chant anthems, and proudly display their team colors.\\n3. From the precision passes and lightning-fast dribbles to the dramatic goals and nail-biting penalty shootouts, football embodies the essence of competition, teamwork, and sheer determination, making it a sport that transcends borders and unites people from all walks of life.\"}"
      ]
     },
     "execution_count": 11,
     "metadata": {},
     "output_type": "execute_result"
    }
   ],
   "source": [
    "cefr_generated_sentences"
   ]
  },
  {
   "cell_type": "markdown",
   "metadata": {},
   "source": [
    "### CEFR descriptions"
   ]
  },
  {
   "cell_type": "code",
   "execution_count": 16,
   "metadata": {},
   "outputs": [],
   "source": [
    "cefr_with_descriptions_prompts ={\n",
    "        'A1': 'Generate 3 sentences about football using only A1 level of English, according to CEFR framework. User speaking English at A1 level can: ' + cefr_decriptions['A1'],\n",
    "        'A2': 'Generate 3 sentences about football using only A2 level of English, according to CEFR framework. User speaking English at A2 level can: ' + cefr_decriptions['A2'],\n",
    "        'B1': 'Generate 3 sentences about football using only B1 level of English, according to CEFR framework. User speaking English at B1 level can: ' + cefr_decriptions['B1'],\n",
    "        'B2': 'Generate 3 sentences about football using only B2 level of English, according to CEFR framework. User speaking English at B2 level can: ' + cefr_decriptions['B2'],\n",
    "        'C1': 'Generate 3 sentences about football using only C1 level of English, according to CEFR framework. User speaking English at C1 level can: ' + cefr_decriptions['C1'],\n",
    "        'C2': 'Generate 3 sentences about football using only C2 level of English, according to CEFR framework. User speaking English at C2 level can: ' + cefr_decriptions['C2']\n",
    "    } "
   ]
  },
  {
   "cell_type": "code",
   "execution_count": 17,
   "metadata": {},
   "outputs": [],
   "source": [
    "t = SingleRunThread()\n",
    "\n",
    "cefr_with_descriptions_generated_sentences = dict()\n",
    "\n",
    "for level in cefr_with_descriptions_prompts:\n",
    "    result = t.send(cefr_with_descriptions_prompts[level])\n",
    "    cefr_with_descriptions_generated_sentences[level] = result"
   ]
  },
  {
   "cell_type": "code",
   "execution_count": 18,
   "metadata": {},
   "outputs": [
    {
     "data": {
      "text/plain": [
       "{'A1': '1. I like football. I watch it on TV and play with my friends.\\n2. My favorite football team is Manchester United. They are very good.\\n3. I go to the stadium to watch football matches. It is very exciting.',\n",
       " 'A2': '1. Football is a popular sport played by teams on a large field with a round ball.\\n2. I enjoy watching football matches on TV with my friends and cheering for my favorite team.\\n3. Last weekend, I played football with my classmates in the park and had a lot of fun.',\n",
       " 'B1': \"1. I enjoy watching football matches with my friends on weekends and discussing the players' performance and strategies.\\n2. Last summer, I had the opportunity to attend a live football game at a stadium, which was an incredible experience for me.\\n3. In my opinion, football is not just a sport but also a great way to bring people from different cultures and backgrounds together.\",\n",
       " 'B2': \"1. Football is a popular sport played by teams of eleven players on a rectangular field. It involves a lot of physical activity and strategy, with the goal of scoring goals by kicking a ball into the opponent's net. \\n2. Many people are passionate about football and support their favorite teams with great enthusiasm. The sport brings people together, fostering a sense of community and providing opportunities for friendly competition. \\n3. However, football also faces certain challenges, such as issues with player injuries and controversies surrounding referee decisions. Despite these drawbacks, the sport continues to captivate audiences worldwide and serves as a platform for athletes to showcase their skills and inspire others.\",\n",
       " 'C1': '1. Football, a sport beloved by millions around the world, requires a high level of skill, tactical awareness, and physical fitness.\\n2. The intensity and competitiveness of football matches can create an electrifying atmosphere in stadiums, with passionate fans cheering on their favorite teams.\\n3. Football not only brings people together, but it also serves as a platform for athletes to showcase their talents and inspire others through their dedication and hard work.',\n",
       " 'C2': '1. Football, known as soccer in some countries, is a globally popular sport characterized by its dynamic gameplay and passionate fanbase, with matches drawing millions of viewers from around the world.\\n2. The tactical intricacies and technical skills required in football make it a highly strategic game, where teams must collaborate and adapt their strategies to outwit their opponents and secure victory.\\n3. From the exhilarating atmosphere of a stadium filled with chanting supporters to the intense rivalries between clubs, football has the power to unite people from diverse backgrounds and create unforgettable moments of joy and camaraderie.'}"
      ]
     },
     "execution_count": 18,
     "metadata": {},
     "output_type": "execute_result"
    }
   ],
   "source": [
    "cefr_with_descriptions_generated_sentences"
   ]
  },
  {
   "cell_type": "markdown",
   "metadata": {},
   "source": [
    "## Refinement with respect to CEFR"
   ]
  },
  {
   "cell_type": "markdown",
   "metadata": {},
   "source": [
    "### No level description available"
   ]
  },
  {
   "cell_type": "code",
   "execution_count": 22,
   "metadata": {},
   "outputs": [],
   "source": [
    "refinement_template = 'The teext was written by GPT using {0} CEFR level of proficiency. Refine the text to be on a {0} level: {1}'"
   ]
  },
  {
   "cell_type": "markdown",
   "metadata": {},
   "source": [
    "A1 -> C2"
   ]
  },
  {
   "cell_type": "code",
   "execution_count": 26,
   "metadata": {},
   "outputs": [
    {
     "data": {
      "text/plain": [
       "'I have a great fondness for football, which I both enjoy watching on television and actively engage in by playing with my friends.'"
      ]
     },
     "execution_count": 26,
     "metadata": {},
     "output_type": "execute_result"
    }
   ],
   "source": [
    "a1_sentence = 'I like football. I watch it on TV and play with my friends.'\n",
    "\n",
    "c2_sentence_refined = t.send(refinement_template.format('C2', a1_sentence))\n",
    "c2_sentence_refined"
   ]
  },
  {
   "cell_type": "markdown",
   "metadata": {},
   "source": [
    "C2 -> A1"
   ]
  },
  {
   "cell_type": "code",
   "execution_count": 27,
   "metadata": {},
   "outputs": [
    {
     "data": {
      "text/plain": [
       "'Football, also called soccer in some places, is a very popular sport worldwide. It has exciting gameplay and fans who love it a lot. Many people watch football matches from all over the world.'"
      ]
     },
     "execution_count": 27,
     "metadata": {},
     "output_type": "execute_result"
    }
   ],
   "source": [
    "c2_sentence = 'Football, known as soccer in some countries, is a globally popular sport characterized by its dynamic gameplay and passionate fanbase, with matches drawing millions of viewers from around the world.'\n",
    "\n",
    "a1_sentence_refined = t.send(refinement_template.format('A1', c2_sentence))\n",
    "a1_sentence_refined"
   ]
  },
  {
   "cell_type": "markdown",
   "metadata": {},
   "source": [
    "B2 -> C1"
   ]
  },
  {
   "cell_type": "code",
   "execution_count": 29,
   "metadata": {},
   "outputs": [
    {
     "data": {
      "text/plain": [
       "\"Football is a widely favored team sport that consists of eleven players competing on a rectangular field. It encompasses a considerable amount of physical exertion and strategic thinking, aiming to score goals by propelling a ball into the adversary's net.\""
      ]
     },
     "execution_count": 29,
     "metadata": {},
     "output_type": "execute_result"
    }
   ],
   "source": [
    "b2_sentence = 'Football is a popular sport played by teams of eleven players on a rectangular field. It involves a lot of physical activity and strategy, with the goal of scoring goals by kicking a ball into the opponent\\'s net.'\n",
    "\n",
    "c1_sentence_refined = t.send(refinement_template.format('C1', b2_sentence ))\n",
    "c1_sentence_refined"
   ]
  },
  {
   "cell_type": "markdown",
   "metadata": {},
   "source": [
    "C1 -> B2"
   ]
  },
  {
   "cell_type": "code",
   "execution_count": 31,
   "metadata": {},
   "outputs": [
    {
     "data": {
      "text/plain": [
       "'Football matches can generate an exhilarating atmosphere in stadiums, where passionate fans enthusiastically support their preferred teams, resulting in a thrilling experience.'"
      ]
     },
     "execution_count": 31,
     "metadata": {},
     "output_type": "execute_result"
    }
   ],
   "source": [
    "c1_sentence = 'The intensity and competitiveness of football matches can create an electrifying atmosphere in stadiums, with passionate fans cheering on their favorite teams.'\n",
    "\n",
    "b2_sentence_refined = t.send(refinement_template.format('B2', c1_sentence))\n",
    "b2_sentence_refined"
   ]
  },
  {
   "cell_type": "markdown",
   "metadata": {},
   "source": [
    "### Level description available"
   ]
  },
  {
   "cell_type": "code",
   "execution_count": 32,
   "metadata": {},
   "outputs": [],
   "source": [
    "refinement_template_with_description = 'The teext was written by GPT using {0} CEFR level of proficiency. The {0} level is defined as: {1}. Refine the text to be on a {0} level: {2}'"
   ]
  },
  {
   "cell_type": "markdown",
   "metadata": {},
   "source": [
    "A1 -> C2"
   ]
  },
  {
   "cell_type": "code",
   "execution_count": 33,
   "metadata": {},
   "outputs": [
    {
     "data": {
      "text/plain": [
       "'Football is a passion of mine that I thoroughly enjoy. I avidly follow the sport by watching matches on television and also actively participate in friendly games with my companions.'"
      ]
     },
     "execution_count": 33,
     "metadata": {},
     "output_type": "execute_result"
    }
   ],
   "source": [
    "a1_sentence = 'I like football. I watch it on TV and play with my friends.'\n",
    "\n",
    "c2_sentence_refined = t.send(refinement_template_with_description.format('C2', cefr_decriptions['C2'],  a1_sentence))\n",
    "c2_sentence_refined"
   ]
  },
  {
   "cell_type": "markdown",
   "metadata": {},
   "source": [
    "C2 -> A1"
   ]
  },
  {
   "cell_type": "code",
   "execution_count": 36,
   "metadata": {},
   "outputs": [
    {
     "name": "stdout",
     "output_type": "stream",
     "text": [
      "Football, also known as soccer in some places, is a very popular sport worldwide. It is played with a lot of energy and has many fans who are very passionate. The matches are watched by millions of people from different countries.\n",
      "Football, also known as soccer in some places, is a very popular sport all over the world. It is played with a lot of energy and has many fans who are very passionate. The matches are watched by millions of people from different countries.\n"
     ]
    }
   ],
   "source": [
    "c2_sentence = 'Football, known as soccer in some countries, is a globally popular sport characterized by its dynamic gameplay and passionate fanbase, with matches drawing millions of viewers from around the world.'\n",
    "\n",
    "a1_sentence_refined = t.send(refinement_template_with_description.format('A1', cefr_decriptions['A1'],  c2_sentence))\n",
    "print(a1_sentence_refined)\n",
    "\n",
    "a1_sentence_refined_refined = t.send(refinement_template_with_description.format('A1', cefr_decriptions['A1'],  a1_sentence_refined))\n",
    "print(a1_sentence_refined_refined)"
   ]
  },
  {
   "cell_type": "markdown",
   "metadata": {},
   "source": [
    "B2 -> C1"
   ]
  },
  {
   "cell_type": "code",
   "execution_count": 38,
   "metadata": {},
   "outputs": [
    {
     "data": {
      "text/plain": [
       "\"Football, a widely enjoyed sport, is played by teams consisting of eleven players on a rectangular field. It requires both physical prowess and strategic thinking, aiming to score goals by skillfully maneuvering a ball into the opposing team's net.\""
      ]
     },
     "execution_count": 38,
     "metadata": {},
     "output_type": "execute_result"
    }
   ],
   "source": [
    "b2_sentence = 'Football is a popular sport played by teams of eleven players on a rectangular field. It involves a lot of physical activity and strategy, with the goal of scoring goals by kicking a ball into the opponent\\'s net.'\n",
    "\n",
    "c1_sentence_refined = t.send(refinement_template_with_description.format('C1', cefr_decriptions['C1'], b2_sentence ))\n",
    "c1_sentence_refined"
   ]
  },
  {
   "cell_type": "markdown",
   "metadata": {},
   "source": [
    "C1 -> B2"
   ]
  },
  {
   "cell_type": "code",
   "execution_count": 39,
   "metadata": {},
   "outputs": [
    {
     "data": {
      "text/plain": [
       "'Football matches can generate an exhilarating atmosphere in stadiums due to their high intensity and competitiveness. Devoted fans enthusiastically support their preferred teams, adding to the excitement.'"
      ]
     },
     "execution_count": 39,
     "metadata": {},
     "output_type": "execute_result"
    }
   ],
   "source": [
    "c1_sentence = 'The intensity and competitiveness of football matches can create an electrifying atmosphere in stadiums, with passionate fans cheering on their favorite teams.'\n",
    "\n",
    "b2_sentence_refined = t.send(refinement_template_with_description.format('B2', cefr_decriptions['B2'], c1_sentence))\n",
    "b2_sentence_refined"
   ]
  },
  {
   "cell_type": "markdown",
   "metadata": {},
   "source": [
    "### Experimenting with higher temperatures for text simplification purposes"
   ]
  },
  {
   "cell_type": "markdown",
   "metadata": {},
   "source": []
  },
  {
   "cell_type": "markdown",
   "metadata": {},
   "source": [
    "# Conclusions"
   ]
  },
  {
   "cell_type": "markdown",
   "metadata": {},
   "source": []
  }
 ],
 "metadata": {
  "kernelspec": {
   "display_name": "internship",
   "language": "python",
   "name": "python3"
  },
  "language_info": {
   "codemirror_mode": {
    "name": "ipython",
    "version": 3
   },
   "file_extension": ".py",
   "mimetype": "text/x-python",
   "name": "python",
   "nbconvert_exporter": "python",
   "pygments_lexer": "ipython3",
   "version": "3.8.10"
  },
  "orig_nbformat": 4
 },
 "nbformat": 4,
 "nbformat_minor": 2
}

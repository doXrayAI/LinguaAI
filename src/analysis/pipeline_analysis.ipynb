{
 "cells": [
  {
   "cell_type": "markdown",
   "metadata": {},
   "source": [
    "## Analysing the refinement bot pipeline\n",
    "\n",
    "Goals:\n",
    "\n",
    "1. Determine the best order of bots\n",
    "2. Determine the need for previous conversation context for some bots\n",
    "3. Determine the need to repeat a call to some bot\n",
    "4. Determine how to influence the change strength for bots and for which bots\n",
    "5. Find potential hurdles for bots"
   ]
  },
  {
   "cell_type": "code",
   "execution_count": null,
   "metadata": {},
   "outputs": [],
   "source": []
  },
  {
   "cell_type": "code",
   "execution_count": null,
   "metadata": {},
   "outputs": [],
   "source": []
  }
 ],
 "metadata": {
  "language_info": {
   "name": "python"
  },
  "orig_nbformat": 4
 },
 "nbformat": 4,
 "nbformat_minor": 2
}

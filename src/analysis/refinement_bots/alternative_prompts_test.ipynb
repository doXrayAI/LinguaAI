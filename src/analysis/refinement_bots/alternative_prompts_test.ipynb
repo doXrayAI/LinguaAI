{
 "cells": [
  {
   "cell_type": "markdown",
   "metadata": {},
   "source": [
    "## Running a test case for alternative refinement bot prompts"
   ]
  },
  {
   "cell_type": "code",
   "execution_count": 1,
   "metadata": {},
   "outputs": [],
   "source": [
    "import sys\n",
    "sys.path.append(\"/home/mihaelabaksic/proj/2023-languagelearning\")\n",
    "sys.path.append(\"/home/mihaelabaksic/proj/2023-languagelearning/src\") \n",
    "sys.path.append(\"/home/mihaelabaksic/proj/2023-languagelearning/src/templates\") \n",
    "sys.path.append(\"/home/mihaelabaksic/proj/2023-languagelearning/src/templates/alternatives\") \n",
    "\n",
    "\n",
    "%load_ext autoreload\n",
    "%autoreload 2"
   ]
  },
  {
   "cell_type": "code",
   "execution_count": 2,
   "metadata": {},
   "outputs": [],
   "source": [
    "from single_run_thread import SingleRunThread\n",
    "from prompt_builder import PromptBuilder\n",
    "from utils import load_template, load_cefr\n",
    "from parameters import GPTParameters\n",
    "import keys\n",
    "\n",
    "import openai\n",
    "\n",
    "openai.api_key = keys.OPENAI_API_KEY"
   ]
  },
  {
   "cell_type": "code",
   "execution_count": 3,
   "metadata": {},
   "outputs": [],
   "source": [
    "builder = PromptBuilder()\n",
    "t = SingleRunThread()"
   ]
  },
  {
   "cell_type": "code",
   "execution_count": 4,
   "metadata": {},
   "outputs": [],
   "source": [
    "## Test example:\n",
    "\n",
    "example = {\n",
    "    'setting': 'In a library',\n",
    "    'roles' : ['librarian', 'visitor'],\n",
    "    'GPT_role' : 'librarian',\n",
    "    'user_role' : 'visitor'   \n",
    "}\n",
    "\n",
    "sentence = 'librarian: We don\\'t have that book right now. Someone just rented the last copy.'\n",
    "\n",
    "language_level = 'C1'\n",
    "\n",
    "cefr_description = load_cefr('C1', '../../templates/language_levels_cefr.json')"
   ]
  },
  {
   "cell_type": "markdown",
   "metadata": {},
   "source": [
    "## Language level bot"
   ]
  },
  {
   "cell_type": "code",
   "execution_count": 12,
   "metadata": {},
   "outputs": [],
   "source": [
    "from src.templates.alternatives.language_level_bot import language_level_refinement_alternatives as ll_alternatives"
   ]
  },
  {
   "cell_type": "code",
   "execution_count": 7,
   "metadata": {},
   "outputs": [
    {
     "name": "stdout",
     "output_type": "stream",
     "text": [
      "Librarian: Unfortunately, we are currently out of stock for that book. The last available copy was recently borrowed by someone.\n"
     ]
    }
   ],
   "source": [
    "# alternative 0\n",
    "\n",
    "builder.reset()\n",
    "builder.add_template(ll_alternatives[0], (language_level, cefr_description))\n",
    "builder.add_template(sentence)\n",
    "\n",
    "prompt = builder.build()\n",
    "print(t.send(prompt))"
   ]
  },
  {
   "cell_type": "code",
   "execution_count": 9,
   "metadata": {},
   "outputs": [
    {
     "name": "stdout",
     "output_type": "stream",
     "text": [
      "Librarian: Unfortunately, the book you are looking for is currently unavailable as the last copy has been recently rented out.\n"
     ]
    }
   ],
   "source": [
    "# alternative 1\n",
    "\n",
    "builder.reset()\n",
    "builder.add_template(ll_alternatives[1], (language_level, cefr_description))\n",
    "builder.add_template(sentence)\n",
    "\n",
    "prompt = builder.build()\n",
    "print(t.send(prompt))"
   ]
  },
  {
   "cell_type": "code",
   "execution_count": 15,
   "metadata": {},
   "outputs": [
    {
     "name": "stdout",
     "output_type": "stream",
     "text": [
      "Librarian: Unfortunately, the book is currently unavailable as the last copy has just been rented out.\n"
     ]
    }
   ],
   "source": [
    "# alternative 2\n",
    "\n",
    "builder.reset()\n",
    "builder.add_template(ll_alternatives[2], (language_level, cefr_description))\n",
    "builder.add_template(sentence)\n",
    "\n",
    "prompt = builder.build()\n",
    "print(t.send(prompt))"
   ]
  },
  {
   "cell_type": "markdown",
   "metadata": {},
   "source": [
    "## Role fitness bot"
   ]
  },
  {
   "cell_type": "code",
   "execution_count": 27,
   "metadata": {},
   "outputs": [],
   "source": [
    "from src.templates.alternatives.role_fitness_bot import role_fitness_refinement_alternatives as rf_alternatives"
   ]
  },
  {
   "cell_type": "code",
   "execution_count": 22,
   "metadata": {},
   "outputs": [
    {
     "name": "stdout",
     "output_type": "stream",
     "text": [
      "librarian: Unfortunately, the book you're looking for is currently unavailable as the last copy has been rented by someone.\n"
     ]
    }
   ],
   "source": [
    "# alternative 0\n",
    "\n",
    "builder.reset()\n",
    "builder.add_template(rf_alternatives[0], (example['GPT_role']))\n",
    "builder.add_template(sentence)\n",
    "\n",
    "prompt = builder.build()\n",
    "print(t.send(prompt))"
   ]
  },
  {
   "cell_type": "code",
   "execution_count": 29,
   "metadata": {},
   "outputs": [
    {
     "name": "stdout",
     "output_type": "stream",
     "text": [
      "I apologize, but at the moment, the book you are looking for is unavailable as it has been recently borrowed by another patron.\n"
     ]
    }
   ],
   "source": [
    "# alternative 1\n",
    "\n",
    "builder.reset()\n",
    "builder.add_template(rf_alternatives[1], (example['GPT_role'], example['user_role']))\n",
    "builder.add_template(sentence)\n",
    "\n",
    "prompt = builder.build()\n",
    "print(t.send(prompt))"
   ]
  },
  {
   "cell_type": "code",
   "execution_count": 21,
   "metadata": {},
   "outputs": [
    {
     "name": "stdout",
     "output_type": "stream",
     "text": [
      "I'm sorry, but the book you're looking for is currently unavailable. The last copy was just rented out.\n"
     ]
    }
   ],
   "source": [
    "# alternative 2\n",
    "\n",
    "builder.reset()\n",
    "builder.add_template(rf_alternatives[2], (example['GPT_role'], example['user_role'], example['setting']))\n",
    "builder.add_template(sentence)\n",
    "\n",
    "prompt = builder.build()\n",
    "print(t.send(prompt))"
   ]
  },
  {
   "cell_type": "markdown",
   "metadata": {},
   "source": [
    "## Role fitness and language level bot"
   ]
  },
  {
   "cell_type": "code",
   "execution_count": 45,
   "metadata": {},
   "outputs": [],
   "source": [
    "from src.templates.alternatives.role_fitness_language_level_bot import role_fitness_language_level_refinement_alternatives as ll_rf_alternatives"
   ]
  },
  {
   "cell_type": "code",
   "execution_count": 46,
   "metadata": {},
   "outputs": [
    {
     "name": "stdout",
     "output_type": "stream",
     "text": [
      "I'm sorry, but unfortunately, the book you are looking for is currently unavailable as someone has recently borrowed the last available copy.\n"
     ]
    }
   ],
   "source": [
    "# alternative 0\n",
    "\n",
    "builder.reset()\n",
    "builder.add_template(ll_rf_alternatives[0], (example['GPT_role'], example['user_role'], language_level, cefr_description))\n",
    "builder.add_template(sentence)\n",
    "\n",
    "prompt = builder.build()\n",
    "print(t.send(prompt))"
   ]
  },
  {
   "cell_type": "code",
   "execution_count": 47,
   "metadata": {},
   "outputs": [
    {
     "name": "stdout",
     "output_type": "stream",
     "text": [
      "librarian: I'm sorry, but unfortunately, we don't currently have that book available. It seems that someone has just borrowed the last copy.\n"
     ]
    }
   ],
   "source": [
    "# alternative 1\n",
    "\n",
    "builder.reset()\n",
    "builder.add_template(ll_rf_alternatives[1], (example['GPT_role'], example['user_role'], language_level, cefr_description))\n",
    "builder.add_template(sentence)\n",
    "\n",
    "prompt = builder.build()\n",
    "print(t.send(prompt))"
   ]
  },
  {
   "cell_type": "code",
   "execution_count": 50,
   "metadata": {},
   "outputs": [
    {
     "name": "stdout",
     "output_type": "stream",
     "text": [
      "librarian: I'm sorry, but we currently don't have that book available. It seems that someone has just borrowed the last copy.\n"
     ]
    }
   ],
   "source": [
    "# alternative 2\n",
    "\n",
    "builder.reset()\n",
    "builder.add_template(ll_rf_alternatives[2], (language_level, cefr_description, example['GPT_role'], example['user_role']))\n",
    "builder.add_template(sentence)\n",
    "\n",
    "prompt = builder.build()\n",
    "print(t.send(prompt))"
   ]
  },
  {
   "cell_type": "code",
   "execution_count": null,
   "metadata": {},
   "outputs": [],
   "source": []
  }
 ],
 "metadata": {
  "kernelspec": {
   "display_name": "internship",
   "language": "python",
   "name": "python3"
  },
  "language_info": {
   "codemirror_mode": {
    "name": "ipython",
    "version": 3
   },
   "file_extension": ".py",
   "mimetype": "text/x-python",
   "name": "python",
   "nbconvert_exporter": "python",
   "pygments_lexer": "ipython3",
   "version": "3.8.10"
  },
  "orig_nbformat": 4
 },
 "nbformat": 4,
 "nbformat_minor": 2
}

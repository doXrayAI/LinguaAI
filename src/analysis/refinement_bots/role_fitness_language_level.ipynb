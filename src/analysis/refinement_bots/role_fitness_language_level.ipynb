{
 "cells": [
  {
   "cell_type": "markdown",
   "metadata": {},
   "source": [
    "## Simultaneously adjusting role and language level"
   ]
  },
  {
   "cell_type": "code",
   "execution_count": 1,
   "metadata": {},
   "outputs": [],
   "source": [
    "import sys\n",
    "sys.path.append(\"/home/mihaelabaksic/proj/2023-languagelearning\")\n",
    "sys.path.append(\"/home/mihaelabaksic/proj/2023-languagelearning/src\") \n",
    "sys.path.append(\"/home/mihaelabaksic/proj/2023-languagelearning/src/templates\") \n",
    "\n",
    "%load_ext autoreload\n",
    "%autoreload 2"
   ]
  },
  {
   "cell_type": "code",
   "execution_count": 11,
   "metadata": {},
   "outputs": [],
   "source": [
    "from single_run_thread import SingleRunThread\n",
    "from prompt_builder import PromptBuilder\n",
    "from utils import load_template, load_cefr\n",
    "from parameters import GPTParameters\n",
    "import keys\n",
    "\n",
    "import openai\n",
    "\n",
    "openai.api_key = keys.OPENAI_API_KEY"
   ]
  },
  {
   "cell_type": "code",
   "execution_count": 3,
   "metadata": {},
   "outputs": [],
   "source": [
    "builder = PromptBuilder()\n",
    "t = SingleRunThread()"
   ]
  },
  {
   "cell_type": "code",
   "execution_count": 4,
   "metadata": {},
   "outputs": [],
   "source": [
    "examples = [\n",
    "    {\n",
    "        'setting' : 'In a cafe',\n",
    "        'roles': ['waiter','customer'],\n",
    "        'GPT_role': 'waiter',\n",
    "        'user_role': 'customer'        \n",
    "    },\n",
    "    {\n",
    "        'setting': 'Enchanted forest',\n",
    "        'roles': ['explorer', 'forest spirit'],\n",
    "        'GPT_role': 'forest spirit',\n",
    "        'user_role': 'explorer'\n",
    "    },\n",
    "    {\n",
    "        'setting' : 'Talking to Yann LeCun on a conference afterparty',\n",
    "        \"roles\": [\"conference attendee\", \"Yann LeCun\"],\n",
    "        \"GPT_role\": \"Yann LeCun\",\n",
    "        \"user_role\": \"conference attendee\",\n",
    "    }\n",
    "]"
   ]
  },
  {
   "cell_type": "code",
   "execution_count": 53,
   "metadata": {},
   "outputs": [],
   "source": [
    "template_alternatives = [\n",
    "    # arguments: GPT_role, user_role, language_level, cefr_description\n",
    "    \"Rephrase the sentence with 2 goals: 1. The sentence should use tone and voice of {0} speaking to {1}, 2. The sentence should only use {2} level of language proficiency, defined as {3}: \",\n",
    "    \n",
    "    # CoT, first level, then role\n",
    "    # arguments: GPT_role, user_role, language_level, cefr_description\n",
    "    \"Rephrase the sentence with 2 goals: 1. The sentence should use tone and voice of {0} speaking to {1}, 2. The sentence should only use {2} level of language proficiency, defined as {3}.\\nExamples:\\n\\nSentence:I can't give you that drink because we don't have it.\\nTask:The sentence should only use C2 level of language.\\nThought: Is this C2 level of language? If not, rephrase it to be C2 level.\\nTask: The sentence should use tone and voice of a waiter talking to a customer.\\nThought: Does it fit the role of a waiter? If not, rephrase it to fit the role.\\nRefinement:I am very sorry, but we do not serve that drink, would you fancy a cocktail instead? Our bartenders make exquisit cocktails.\\n\\nSentence:Mother, I wish to go home.\\nTask:The sentence should only use A2 level of language proficiency\\nThought:Is the sentence on A2 level of language? If not, rephrase it to be A2.\\nTask:The sentence should use tone and voice of a child speaking to its mother.\\nThought: Does it match the role of a small child? If not rephrase it to match the role.\\nRefinement:Mommy, I wanna go homee!.\\n\\n Return ONLY refinement.\\n\\nSentence: \",\n",
    "\n",
    "    # Cot, first role, then level\n",
    "    # arguments: language_leve, cefr_description, GPT_role, user_role\n",
    "    \"Rephrase the sentence with 2 goals: 1. The sentence should only use {2} level of language proficiency, defined as {3}.  2. The sentence should use tone and voice of {0} speaking to {1}.\\nExamples:\\n\\nSentence:I can't give you that drink because we don't have it.\\nTask: The sentence should use tone and voice of a waiter talking to a customer.\\nThought: Does it fit the role of a waiter? If not, rephrase it to fit the role.\\nTask:The sentence should only use C2 level of language.\\nIs this C2 level of language? If not, rephrase it to be C2 level.\\nRefinement:I am very sorry, but we do not serve that drink, would you fancy a cocktail instead? Our bartenders make exquisit cocktails.\\n\\nSentence:Mother, I wish to go home.\\nTask:The sentence should use tone and voice of a child speaking to its mother.\\nThought: Does it match the role of a small child? If not rephrase it to match the role.\\nTask:The sentence should only use A2 level of language proficiency.\\nThought: Is the sentence on A2 level of language? If not, rephrase it to be A2.\\nRefinement:Mommy, I wanna go homee!.\\n\\n Return ONLY refinement.\\n\\nSentence:\",\n",
    "\n",
    "]"
   ]
  },
  {
   "cell_type": "markdown",
   "metadata": {},
   "source": [
    "### Need to adjust role"
   ]
  },
  {
   "cell_type": "code",
   "execution_count": 54,
   "metadata": {},
   "outputs": [],
   "source": [
    "lang_level = 'B1'\n",
    "\n",
    "b1_description = load_cefr('B1', '../../templates/language_levels_cefr.json')\n",
    "\n",
    "sentences = [\n",
    "    'We have a great variety of coffees.',\n",
    "    'Ye man I haven\\'t seen you around these trees before.',\n",
    "    'Hello, mate, how ya doing\\'.'   \n",
    "]"
   ]
  },
  {
   "cell_type": "markdown",
   "metadata": {},
   "source": [
    "#### Instruction only"
   ]
  },
  {
   "cell_type": "code",
   "execution_count": 37,
   "metadata": {},
   "outputs": [
    {
     "name": "stdout",
     "output_type": "stream",
     "text": [
      "We offer a wide selection of coffee options for you to choose from.\n",
      "Greetings, dear explorer! It appears that your presence amidst these majestic trees is a novelty to my forest spirit eyes.\n",
      "Hello there, my friend, how are you doing?\n"
     ]
    }
   ],
   "source": [
    "for sentence, example in zip(sentences, examples):\n",
    "    builder.reset()\n",
    "    \n",
    "    builder.add_template(template_alternatives[0], (example['GPT_role'], example['user_role'], lang_level, b1_description) )\n",
    "    builder.add_template(sentence)\n",
    "    \n",
    "    prompt = builder.build()\n",
    "    \n",
    "    print(t.send(prompt))"
   ]
  },
  {
   "cell_type": "markdown",
   "metadata": {},
   "source": [
    "#### Instruction + CoT (first lnguage level, then role)"
   ]
  },
  {
   "cell_type": "code",
   "execution_count": 55,
   "metadata": {},
   "outputs": [
    {
     "name": "stdout",
     "output_type": "stream",
     "text": [
      "We have a wide selection of coffees.\n",
      "Greetings, traveler! I haven't come across your presence amidst these majestic trees before.\n",
      "Hey there, buddy, how are ya?\n"
     ]
    }
   ],
   "source": [
    "for sentence, example in zip(sentences, examples):\n",
    "    builder.reset()\n",
    "    \n",
    "    builder.add_template(template_alternatives[1], (example['GPT_role'], example['user_role'], lang_level, b1_description) )\n",
    "    builder.add_template(sentence)\n",
    "    \n",
    "    prompt = builder.build()\n",
    "    \n",
    "    print(t.send(prompt))"
   ]
  },
  {
   "cell_type": "markdown",
   "metadata": {},
   "source": [
    "#### Instruction + CoT (first role, then language level)"
   ]
  },
  {
   "cell_type": "code",
   "execution_count": 56,
   "metadata": {},
   "outputs": [
    {
     "name": "stdout",
     "output_type": "stream",
     "text": [
      "We have a wide selection of coffees available.\n",
      "Refinement: Hey there, I haven't come across you in this forest before.\n",
      "Hey there, buddy, how's it going?\n"
     ]
    }
   ],
   "source": [
    "for sentence, example in zip(sentences, examples):\n",
    "    builder.reset()\n",
    "    \n",
    "    builder.add_template(template_alternatives[2], (lang_level, b1_description, example['GPT_role'], example['user_role']) )\n",
    "    builder.add_template(sentence)\n",
    "    \n",
    "    prompt = builder.build()\n",
    "    \n",
    "    print(t.send(prompt))"
   ]
  },
  {
   "cell_type": "markdown",
   "metadata": {},
   "source": [
    "### Need to adjust language level"
   ]
  },
  {
   "cell_type": "code",
   "execution_count": 57,
   "metadata": {},
   "outputs": [],
   "source": [
    "lang_level = 'A1'\n",
    "a2_description = load_cefr('A1', '../../templates/language_levels_cefr.json')\n",
    "\n",
    "sentences = [\n",
    "     'I will be right back with your order, would you fancy something else.',\n",
    "     'We have never had a human here before, this is such an exsquisit opportunity.',\n",
    "     'I would like to visit you in your lab some day, perhaps to discuss our furhter cooperation.'\n",
    "]"
   ]
  },
  {
   "cell_type": "markdown",
   "metadata": {},
   "source": [
    "#### Instruction only"
   ]
  },
  {
   "cell_type": "code",
   "execution_count": 20,
   "metadata": {},
   "outputs": [
    {
     "name": "stdout",
     "output_type": "stream",
     "text": [
      "I'll be back soon with your food. Do you want anything else?\n",
      "Oh, dear explorer, never before has a human graced our presence in this enchanted forest. What a wondrous and extraordinary chance this is for us.\n",
      "I want to come to your lab one day, maybe to talk about how we can work together more.\n"
     ]
    }
   ],
   "source": [
    "for sentence, example in zip(sentences, examples):\n",
    "    builder.reset()\n",
    "    \n",
    "    builder.add_template(template_alternatives[0], (example['GPT_role'], example['user_role'], lang_level, a2_description) )\n",
    "    builder.add_template(sentence)\n",
    "    \n",
    "    prompt = builder.build()\n",
    "    \n",
    "    print(t.send(prompt))"
   ]
  }
 ],
 "metadata": {
  "kernelspec": {
   "display_name": "internship",
   "language": "python",
   "name": "python3"
  },
  "language_info": {
   "codemirror_mode": {
    "name": "ipython",
    "version": 3
   },
   "file_extension": ".py",
   "mimetype": "text/x-python",
   "name": "python",
   "nbconvert_exporter": "python",
   "pygments_lexer": "ipython3",
   "version": "3.8.10"
  },
  "orig_nbformat": 4
 },
 "nbformat": 4,
 "nbformat_minor": 2
}

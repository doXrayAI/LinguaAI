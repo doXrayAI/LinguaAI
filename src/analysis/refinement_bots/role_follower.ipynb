{
 "cells": [
  {
   "cell_type": "markdown",
   "metadata": {},
   "source": [
    "# Role following bot"
   ]
  },
  {
   "cell_type": "code",
   "execution_count": 1,
   "metadata": {},
   "outputs": [],
   "source": [
    "import sys\n",
    "sys.path.append(\"/home/mihaelabaksic/proj/2023-languagelearning\")\n",
    "sys.path.append(\"/home/mihaelabaksic/proj/2023-languagelearning/src\") \n",
    "sys.path.append(\"/home/mihaelabaksic/proj/2023-languagelearning/src/templates\") \n",
    "\n",
    "%load_ext autoreload\n",
    "%autoreload 2"
   ]
  },
  {
   "cell_type": "code",
   "execution_count": 2,
   "metadata": {},
   "outputs": [],
   "source": [
    "from single_run_thread import SingleRunThread\n",
    "from prompt_builder import PromptBuilder\n",
    "from utils import load_template\n",
    "import keys\n",
    "\n",
    "import openai"
   ]
  },
  {
   "cell_type": "code",
   "execution_count": 3,
   "metadata": {},
   "outputs": [],
   "source": [
    "openai.api_key = keys.OPENAI_API_KEY"
   ]
  },
  {
   "cell_type": "code",
   "execution_count": 4,
   "metadata": {},
   "outputs": [],
   "source": [
    "rephrasing_template = 'This sentence was written by GPT acting as a {0}. Rephrase it to sound more like a {0} while keeping the semantics. {1}'\n",
    "\n",
    "builder = PromptBuilder()\n",
    "t = SingleRunThread()"
   ]
  },
  {
   "cell_type": "code",
   "execution_count": 5,
   "metadata": {},
   "outputs": [
    {
     "data": {
      "text/plain": [
       "'Remain calm and remain inside your vehicles until the situation is assessed.'"
      ]
     },
     "execution_count": 5,
     "metadata": {},
     "output_type": "execute_result"
    }
   ],
   "source": [
    "role = 'police officer'\n",
    "sentence = 'Hey, just stay cool and stay in your cars until they figure out what\\'s going on.'\n",
    "\n",
    "prompt = builder.add_template(rephrasing_template, (role, sentence)).build()\n",
    "builder.reset()\n",
    "\n",
    "rephrasing = t.send(prompt)\n",
    "rephrasing"
   ]
  },
  {
   "cell_type": "code",
   "execution_count": 16,
   "metadata": {},
   "outputs": [
    {
     "data": {
      "text/plain": [
       "'Please remain calm and stay inside your vehicles until the situation has been thoroughly assessed.'"
      ]
     },
     "execution_count": 16,
     "metadata": {},
     "output_type": "execute_result"
    }
   ],
   "source": [
    "role = 'police officer'\n",
    "sentence = 'Remain calm and remain inside your vehicles until the situation is thoroughly assessed.'\n",
    "\n",
    "\n",
    "prompt = builder.add_template(rephrasing_template, (role, sentence)).build()\n",
    "builder.reset()\n",
    " \n",
    "rephrasing = t.send(prompt)\n",
    "rephrasing"
   ]
  },
  {
   "cell_type": "markdown",
   "metadata": {},
   "source": [
    "### Conclusions\n",
    "\n",
    "1. When asked to rephrase a sentence to sound more like xy, it performs as expected\n",
    "2. When asked to rephrase a sentence to sound more like xy and the sentence is already in the character, it performs minimal changes./"
   ]
  },
  {
   "cell_type": "markdown",
   "metadata": {},
   "source": [
    "## Alternative prompts"
   ]
  },
  {
   "cell_type": "code",
   "execution_count": 53,
   "metadata": {},
   "outputs": [],
   "source": [
    "tone_and_voice_template = \"You are a {0}. You are speaking to {1}. Make minimal changes to the tone and voice of the provided sentence to sound more like {0}. \\\"{2}\\\"\" "
   ]
  },
  {
   "cell_type": "code",
   "execution_count": 54,
   "metadata": {},
   "outputs": [
    {
     "data": {
      "text/plain": [
       "'Stay calm and stay inside your vehicles until we have thoroughly assessed the situation.'"
      ]
     },
     "execution_count": 54,
     "metadata": {},
     "output_type": "execute_result"
    }
   ],
   "source": [
    "role = 'police officer'\n",
    "user_role = 'president'\n",
    "sentence = 'Remain calm and remain inside your vehicles until the situation is thoroughly assessed.'\n",
    "\n",
    "prompt = builder.add_template(tone_and_voice_template, (role, user_role, sentence)).build()\n",
    "builder.reset()\n",
    " \n",
    "rephrasing = t.send(prompt)\n",
    "rephrasing"
   ]
  },
  {
   "cell_type": "code",
   "execution_count": 55,
   "metadata": {},
   "outputs": [
    {
     "data": {
      "text/plain": [
       "\"Stay calm and stay in your cars until we figure out what's going on, okay?\""
      ]
     },
     "execution_count": 55,
     "metadata": {},
     "output_type": "execute_result"
    }
   ],
   "source": [
    "role = 'child'\n",
    "user_role = 'teacher'\n",
    "sentence = 'Remain calm and remain inside your vehicles until the situation is thoroughly assessed.'\n",
    "\n",
    "\n",
    "prompt = builder.add_template(tone_and_voice_template, (role, user_role, sentence)).build()\n",
    "builder.reset()\n",
    " \n",
    "rephrasing = t.send(prompt)\n",
    "rephrasing"
   ]
  },
  {
   "cell_type": "code",
   "execution_count": 56,
   "metadata": {},
   "outputs": [
    {
     "data": {
      "text/plain": [
       "\"Stay calm and stay in your vehicles until we've thoroughly assessed the situation.\""
      ]
     },
     "execution_count": 56,
     "metadata": {},
     "output_type": "execute_result"
    }
   ],
   "source": [
    "role = 'Construction worker'\n",
    "user_role = 'Architect'\n",
    "sentence = 'Remain calm and remain inside your vehicles until the situation is thoroughly assessed.'\n",
    "\n",
    "\n",
    "prompt = builder.add_template(tone_and_voice_template, (role, user_role, sentence)).build()\n",
    "builder.reset()\n",
    " \n",
    "rephrasing = t.send(prompt)\n",
    "rephrasing"
   ]
  },
  {
   "cell_type": "code",
   "execution_count": 57,
   "metadata": {},
   "outputs": [
    {
     "data": {
      "text/plain": [
       "\"Yo, stay cool and stay put in your rides until we figure out what's goin' on, ya know?\""
      ]
     },
     "execution_count": 57,
     "metadata": {},
     "output_type": "execute_result"
    }
   ],
   "source": [
    "role = 'Rocky Balboa'\n",
    "user_role = 'Coach'\n",
    "sentence = 'Remain calm and remain inside your vehicles until the situation is thoroughly assessed.'\n",
    "\n",
    "\n",
    "prompt = builder.add_template(tone_and_voice_template, (role, user_role, sentence)).build()\n",
    "builder.reset()\n",
    " \n",
    "rephrasing = t.send(prompt)\n",
    "rephrasing"
   ]
  },
  {
   "cell_type": "markdown",
   "metadata": {},
   "source": [
    "### Showcasing that role overrides language level"
   ]
  },
  {
   "cell_type": "code",
   "execution_count": 31,
   "metadata": {},
   "outputs": [],
   "source": [
    "tone_and_voice_template_with_ll = \"Rephrase the sentence to match the tone and voice of a {} speaking to {}. Use {} level of english only. \\\"{}\\\"\" "
   ]
  },
  {
   "cell_type": "code",
   "execution_count": 32,
   "metadata": {},
   "outputs": [
    {
     "name": "stdout",
     "output_type": "stream",
     "text": [
      "A1:  I need to talk to my mom before I can promise anything.\n",
      "C2:  I gotta talk to my mom first before I make any big promises.\n"
     ]
    }
   ],
   "source": [
    "role = 'child'\n",
    "role_user = 'teacher'\n",
    "\n",
    "sentence= \"I have to contact my mother before I make such committment.\"\n",
    "\n",
    "prompt = builder.add_template(tone_and_voice_template_with_ll, (role, role_user, 'A1', sentence)).build()\n",
    "builder.reset()\n",
    "rephrasing = t.send(prompt)\n",
    "print('A1: ', rephrasing)\n",
    "\n",
    "prompt = builder.add_template(tone_and_voice_template_with_ll, (role, role_user, 'C2', sentence)).build()\n",
    "builder.reset()\n",
    "rephrasing = t.send(prompt)\n",
    "print('C2: ', rephrasing)"
   ]
  },
  {
   "cell_type": "code",
   "execution_count": 33,
   "metadata": {},
   "outputs": [
    {
     "name": "stdout",
     "output_type": "stream",
     "text": [
      "A1:  I have inquired with my mother to seek her permission for me to attend.\n",
      "C2:  I have inquired with my mother regarding her permission for me to proceed.\n"
     ]
    }
   ],
   "source": [
    "role = 'distinguished scholar'\n",
    "role_user = 'supervisor'\n",
    "\n",
    "sentence= \"I have ask my mommy if she lets me go.\"\n",
    "\n",
    "prompt = builder.add_template(tone_and_voice_template_with_ll, (role, role_user, 'A1', sentence)).build()\n",
    "builder.reset()\n",
    "rephrasing = t.send(prompt)\n",
    "print('A1: ', rephrasing)\n",
    "\n",
    "prompt = builder.add_template(tone_and_voice_template_with_ll, (role, role_user, 'C2', sentence)).build()\n",
    "builder.reset()\n",
    "rephrasing = t.send(prompt)\n",
    "print('C2: ', rephrasing)"
   ]
  },
  {
   "cell_type": "markdown",
   "metadata": {},
   "source": [
    "### Including a setting description"
   ]
  },
  {
   "cell_type": "code",
   "execution_count": 36,
   "metadata": {},
   "outputs": [],
   "source": [
    "role_and_setting_template = \"Rephrase the sentence to match the tone and voice of a {} speaking to {} in a setting described as {}. \\\"{}\\\"\" "
   ]
  },
  {
   "cell_type": "code",
   "execution_count": 37,
   "metadata": {},
   "outputs": [
    {
     "name": "stdout",
     "output_type": "stream",
     "text": [
      "Jimmy, I must express my deep disappointment in your actions.\n"
     ]
    }
   ],
   "source": [
    "role = 'teacher'\n",
    "user_role = '5 year old student'\n",
    "setting = 'On a field trip'\n",
    "\n",
    "sentence = 'Jimmy! Your actions are dispicable.'\n",
    "\n",
    "\n",
    "prompt = builder.add_template(role_and_setting_template, (role, role_user, setting, sentence)).build()\n",
    "builder.reset()\n",
    "rephrasing = t.send(prompt)\n",
    "print(rephrasing)"
   ]
  },
  {
   "cell_type": "code",
   "execution_count": 38,
   "metadata": {},
   "outputs": [],
   "source": [
    "role_setting_language_template = \"Rephrase the sentence to match the tone and voice of a {} speaking to {} in a setting described as {}. Use {} level of english only. \\\"{}\\\"\" "
   ]
  },
  {
   "cell_type": "code",
   "execution_count": 39,
   "metadata": {},
   "outputs": [
    {
     "name": "stdout",
     "output_type": "stream",
     "text": [
      "A1:  I need to talk to my mom before I can make a promise like that, teacher.\n",
      "C2:  I gotta talk to my mom before I make any promises, teacher.\n"
     ]
    }
   ],
   "source": [
    "role = 'child'\n",
    "role_user = 'teacher'\n",
    "setting = 'In a classroom.'\n",
    "\n",
    "sentence= \"I have to contact my mother before I make such committment.\"\n",
    "\n",
    "prompt = builder.add_template(role_setting_language_template, (role, role_user, setting , 'A1', sentence)).build()\n",
    "builder.reset()\n",
    "rephrasing = t.send(prompt)\n",
    "print('A1: ', rephrasing)\n",
    "\n",
    "prompt = builder.add_template(role_setting_language_template, (role, role_user, setting, 'C2', sentence)).build()\n",
    "builder.reset()\n",
    "rephrasing = t.send(prompt)\n",
    "print('C2: ', rephrasing)"
   ]
  },
  {
   "cell_type": "code",
   "execution_count": null,
   "metadata": {},
   "outputs": [],
   "source": []
  }
 ],
 "metadata": {
  "kernelspec": {
   "display_name": "internship",
   "language": "python",
   "name": "python3"
  },
  "language_info": {
   "codemirror_mode": {
    "name": "ipython",
    "version": 3
   },
   "file_extension": ".py",
   "mimetype": "text/x-python",
   "name": "python",
   "nbconvert_exporter": "python",
   "pygments_lexer": "ipython3",
   "version": "3.8.10"
  },
  "orig_nbformat": 4
 },
 "nbformat": 4,
 "nbformat_minor": 2
}

{
 "cells": [
  {
   "cell_type": "markdown",
   "metadata": {},
   "source": [
    "# Role following bot"
   ]
  },
  {
   "cell_type": "code",
   "execution_count": 1,
   "metadata": {},
   "outputs": [],
   "source": [
    "import sys\n",
    "sys.path.append(\"/home/mihaelabaksic/proj/2023-languagelearning\")\n",
    "sys.path.append(\"/home/mihaelabaksic/proj/2023-languagelearning/src\") \n",
    "sys.path.append(\"/home/mihaelabaksic/proj/2023-languagelearning/src/templates\") \n",
    "\n",
    "%load_ext autoreload\n",
    "%autoreload 2"
   ]
  },
  {
   "cell_type": "code",
   "execution_count": 2,
   "metadata": {},
   "outputs": [],
   "source": [
    "from single_run_thread import SingleRunThread\n",
    "from prompt_builder import PromptBuilder\n",
    "from utils import load_template\n",
    "import keys\n",
    "\n",
    "import openai"
   ]
  },
  {
   "cell_type": "code",
   "execution_count": 3,
   "metadata": {},
   "outputs": [],
   "source": [
    "openai.api_key = keys.OPENAI_API_KEY"
   ]
  },
  {
   "cell_type": "code",
   "execution_count": 4,
   "metadata": {},
   "outputs": [],
   "source": [
    "rephrasing_template = 'This sentence was written by GPT acting as a {0}. Rephrase it to sound more like a {0} while keeping the semantics. {1}'\n",
    "\n",
    "builder = PromptBuilder()\n",
    "t = SingleRunThread()"
   ]
  },
  {
   "cell_type": "code",
   "execution_count": 15,
   "metadata": {},
   "outputs": [
    {
     "data": {
      "text/plain": [
       "'Remain calm and remain inside your vehicles until they ascertain the situation.'"
      ]
     },
     "execution_count": 15,
     "metadata": {},
     "output_type": "execute_result"
    }
   ],
   "source": [
    "role = 'police officer'\n",
    "sentence = 'Hey, just stay cool and stay in your cars until they figure out what\\'s going on.'\n",
    "\n",
    "prompt = builder.add_template(rephrasing_template, (role, sentence)).build()\n",
    "builder.reset()\n",
    "\n",
    "rephrasing = t.send(prompt)\n",
    "rephrasing"
   ]
  },
  {
   "cell_type": "code",
   "execution_count": 16,
   "metadata": {},
   "outputs": [
    {
     "data": {
      "text/plain": [
       "'Please remain calm and stay inside your vehicles until the situation has been thoroughly assessed.'"
      ]
     },
     "execution_count": 16,
     "metadata": {},
     "output_type": "execute_result"
    }
   ],
   "source": [
    "role = 'police officer'\n",
    "sentence = 'Remain calm and remain inside your vehicles until the situation is thoroughly assessed.'\n",
    "\n",
    "\n",
    "prompt = builder.add_template(rephrasing_template, (role, sentence)).build()\n",
    "builder.reset()\n",
    " \n",
    "rephrasing = t.send(prompt)\n",
    "rephrasing"
   ]
  },
  {
   "cell_type": "markdown",
   "metadata": {},
   "source": [
    "### Conclusions\n",
    "\n",
    "1. When asked to rephrase a sentence to sound more like xy, it performs as expected\n",
    "2. When asked to rephrase a sentence to sound more like xy and the sentence is already in the character, it performs minimal changes./"
   ]
  },
  {
   "cell_type": "markdown",
   "metadata": {},
   "source": [
    "## Alternative prompts"
   ]
  },
  {
   "cell_type": "code",
   "execution_count": 13,
   "metadata": {},
   "outputs": [],
   "source": [
    "tone_and_voice_template = \"Make minimal changes to the tone and voice of the sentence to sound more like {}. {}\" "
   ]
  },
  {
   "cell_type": "code",
   "execution_count": 14,
   "metadata": {},
   "outputs": [
    {
     "data": {
      "text/plain": [
       "'Please remain calm and stay inside your vehicles until the situation has been thoroughly assessed.'"
      ]
     },
     "execution_count": 14,
     "metadata": {},
     "output_type": "execute_result"
    }
   ],
   "source": [
    "role = 'police officer'\n",
    "sentence = 'Remain calm and remain inside your vehicles until the situation is thoroughly assessed.'\n",
    "\n",
    "\n",
    "prompt = builder.add_template(tone_and_voice_template, (role, sentence)).build()\n",
    "builder.reset()\n",
    " \n",
    "rephrasing = t.send(prompt)\n",
    "rephrasing"
   ]
  },
  {
   "cell_type": "code",
   "execution_count": 15,
   "metadata": {},
   "outputs": [
    {
     "data": {
      "text/plain": [
       "\"Stay calm and stay in your cars until we figure out what's going on, okay?\""
      ]
     },
     "execution_count": 15,
     "metadata": {},
     "output_type": "execute_result"
    }
   ],
   "source": [
    "role = 'child'\n",
    "sentence = 'Remain calm and remain inside your vehicles until the situation is thoroughly assessed.'\n",
    "\n",
    "\n",
    "prompt = builder.add_template(tone_and_voice_template, (role, sentence)).build()\n",
    "builder.reset()\n",
    " \n",
    "rephrasing = t.send(prompt)\n",
    "rephrasing"
   ]
  },
  {
   "cell_type": "code",
   "execution_count": 16,
   "metadata": {},
   "outputs": [
    {
     "data": {
      "text/plain": [
       "\"Stay calm and stay in your vehicles until we've thoroughly assessed the situation.\""
      ]
     },
     "execution_count": 16,
     "metadata": {},
     "output_type": "execute_result"
    }
   ],
   "source": [
    "role = 'Construction worker'\n",
    "sentence = 'Remain calm and remain inside your vehicles until the situation is thoroughly assessed.'\n",
    "\n",
    "\n",
    "prompt = builder.add_template(tone_and_voice_template, (role, sentence)).build()\n",
    "builder.reset()\n",
    " \n",
    "rephrasing = t.send(prompt)\n",
    "rephrasing"
   ]
  },
  {
   "cell_type": "code",
   "execution_count": 17,
   "metadata": {},
   "outputs": [
    {
     "data": {
      "text/plain": [
       "\"Yo, just stay cool and stay put in your rides until we've checked out the whole situation, alright?\""
      ]
     },
     "execution_count": 17,
     "metadata": {},
     "output_type": "execute_result"
    }
   ],
   "source": [
    "role = 'Rocky Balboa'\n",
    "sentence = 'Remain calm and remain inside your vehicles until the situation is thoroughly assessed.'\n",
    "\n",
    "\n",
    "prompt = builder.add_template(tone_and_voice_template, (role, sentence)).build()\n",
    "builder.reset()\n",
    " \n",
    "rephrasing = t.send(prompt)\n",
    "rephrasing"
   ]
  },
  {
   "cell_type": "markdown",
   "metadata": {},
   "source": [
    "### Showcasing that role overrides language level"
   ]
  },
  {
   "cell_type": "code",
   "execution_count": 6,
   "metadata": {},
   "outputs": [],
   "source": [
    "tone_and_voice_template_with_ll = \"Make minimal changes to the tone and voice of the sentence to sound more like {}. Use {} level of english only.\" "
   ]
  },
  {
   "cell_type": "code",
   "execution_count": 7,
   "metadata": {},
   "outputs": [
    {
     "name": "stdout",
     "output_type": "stream",
     "text": [
      "A1:  I gotta talk to my mom before I can make a big decision like that.\n",
      "C2:  I gotta ask my mom first before I commit to anything.\n"
     ]
    }
   ],
   "source": [
    "role = 'child'\n",
    "\n",
    "sentence= \"I have to contact my mother before I make such committment.\"\n",
    "\n",
    "prompt = builder.add_template(tone_and_voice_template_with_ll, (role, sentence, 'A1')).build()\n",
    "builder.reset()\n",
    "rephrasing = t.send(prompt)\n",
    "print('A1: ', rephrasing)\n",
    "\n",
    "prompt = builder.add_template(tone_and_voice_template_with_ll, (role, sentence, 'C2')).build()\n",
    "builder.reset()\n",
    "rephrasing = t.send(prompt)\n",
    "print('C2: ', rephrasing)"
   ]
  },
  {
   "cell_type": "code",
   "execution_count": 9,
   "metadata": {},
   "outputs": [
    {
     "name": "stdout",
     "output_type": "stream",
     "text": [
      "A1:  I must inquire with my esteemed mother as to whether she grants me permission to proceed.\n",
      "C2:  I must inquire of my esteemed mother as to whether she grants me permission to proceed.\n"
     ]
    }
   ],
   "source": [
    "role = 'distinguished scholar'\n",
    "\n",
    "sentence= \"I have ask my mommy if she lets me go.\"\n",
    "\n",
    "prompt = builder.add_template(tone_and_voice_template_with_ll, (role, sentence, 'A1')).build()\n",
    "builder.reset()\n",
    "rephrasing = t.send(prompt)\n",
    "print('A1: ', rephrasing)\n",
    "\n",
    "prompt = builder.add_template(tone_and_voice_template_with_ll, (role, sentence, 'C2')).build()\n",
    "builder.reset()\n",
    "rephrasing = t.send(prompt)\n",
    "print('C2: ', rephrasing)"
   ]
  }
 ],
 "metadata": {
  "kernelspec": {
   "display_name": "internship",
   "language": "python",
   "name": "python3"
  },
  "language_info": {
   "codemirror_mode": {
    "name": "ipython",
    "version": 3
   },
   "file_extension": ".py",
   "mimetype": "text/x-python",
   "name": "python",
   "nbconvert_exporter": "python",
   "pygments_lexer": "ipython3",
   "version": "3.8.10"
  },
  "orig_nbformat": 4
 },
 "nbformat": 4,
 "nbformat_minor": 2
}

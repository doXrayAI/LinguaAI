{
 "cells": [
  {
   "cell_type": "markdown",
   "metadata": {},
   "source": [
    "## Simultaneously adjusting role and language level"
   ]
  },
  {
   "cell_type": "code",
   "execution_count": null,
   "metadata": {},
   "outputs": [],
   "source": [
    "examples = [\n",
    "    {\n",
    "        'setting' : 'In a cafe',\n",
    "        'roles': ['waiter','customer'],\n",
    "        'GPT_role': 'waiter',\n",
    "        'user_role': 'customer'        \n",
    "    },\n",
    "    {\n",
    "        'setting': 'Enchanted forest',\n",
    "        'roles': ['explorer', 'forest spirit'],\n",
    "        'GPT_role': 'forest spirit',\n",
    "        'user_role': 'explorer'\n",
    "    },\n",
    "    {\n",
    "        'setting' : 'Talking to Yann LeCun on a conference afterparty',\n",
    "        \"roles\": [\"conference attendee\", \"Yann LeCun\"],\n",
    "        \"GPT_role\": \"Yann LeCun\",\n",
    "        \"user_role\": \"conference attendee\",\n",
    "        'sentence': 'I would like to visit you in your lab some day.'\n",
    "    }\n",
    "]"
   ]
  },
  {
   "cell_type": "code",
   "execution_count": null,
   "metadata": {},
   "outputs": [],
   "source": [
    "template_alternatives = [\n",
    "    \"\",\n",
    "    \"\",\n",
    "    \"\",\n",
    "]"
   ]
  },
  {
   "cell_type": "markdown",
   "metadata": {},
   "source": [
    "### Need to adjust role"
   ]
  },
  {
   "cell_type": "code",
   "execution_count": null,
   "metadata": {},
   "outputs": [],
   "source": [
    "sentences = [\n",
    "    'I will be right back with your order.',\n",
    "    \n",
    "]"
   ]
  },
  {
   "cell_type": "markdown",
   "metadata": {},
   "source": [
    "### Need to adjust language level"
   ]
  },
  {
   "cell_type": "code",
   "execution_count": null,
   "metadata": {},
   "outputs": [],
   "source": [
    "sentences = [\n",
    "    \n",
    "]"
   ]
  },
  {
   "cell_type": "markdown",
   "metadata": {},
   "source": [
    "### Need to adjust both role and language level"
   ]
  },
  {
   "cell_type": "code",
   "execution_count": null,
   "metadata": {},
   "outputs": [],
   "source": [
    "sentences = [\n",
    "    \n",
    "]"
   ]
  },
  {
   "cell_type": "markdown",
   "metadata": {},
   "source": [
    "### No need for adjustment"
   ]
  },
  {
   "cell_type": "code",
   "execution_count": null,
   "metadata": {},
   "outputs": [],
   "source": [
    "sentences = [\n",
    "    \n",
    "]"
   ]
  }
 ],
 "metadata": {
  "language_info": {
   "name": "python"
  },
  "orig_nbformat": 4
 },
 "nbformat": 4,
 "nbformat_minor": 2
}

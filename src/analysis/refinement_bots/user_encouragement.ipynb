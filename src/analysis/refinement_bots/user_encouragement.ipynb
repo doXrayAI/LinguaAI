{
 "cells": [
  {
   "cell_type": "markdown",
   "metadata": {},
   "source": [
    "## User encouragment bot analysis"
   ]
  },
  {
   "cell_type": "code",
   "execution_count": 1,
   "metadata": {},
   "outputs": [],
   "source": [
    "import sys\n",
    "sys.path.append(\"/home/mihaelabaksic/proj/2023-languagelearning\")\n",
    "sys.path.append(\"/home/mihaelabaksic/proj/2023-languagelearning/src\") \n",
    "sys.path.append(\"/home/mihaelabaksic/proj/2023-languagelearning/src/templates\") \n",
    "\n",
    "%load_ext autoreload\n",
    "%autoreload 2"
   ]
  },
  {
   "cell_type": "code",
   "execution_count": 20,
   "metadata": {},
   "outputs": [],
   "source": [
    "from single_run_thread import SingleRunThread\n",
    "from prompt_builder import PromptBuilder\n",
    "from utils import load_template\n",
    "from parameters import GPTParameters\n",
    "import keys\n",
    "\n",
    "import openai"
   ]
  },
  {
   "cell_type": "code",
   "execution_count": 3,
   "metadata": {},
   "outputs": [],
   "source": [
    "openai.api_key = keys.OPENAI_API_KEY"
   ]
  },
  {
   "cell_type": "code",
   "execution_count": 38,
   "metadata": {},
   "outputs": [],
   "source": [
    "builder = PromptBuilder()\n",
    "t = SingleRunThread()"
   ]
  },
  {
   "cell_type": "code",
   "execution_count": 39,
   "metadata": {},
   "outputs": [],
   "source": [
    "# Examples\n",
    "\n",
    "examples = [\n",
    "{\n",
    "    'setting' : 'In a cafe',\n",
    "    'roles': ['waiter','customer'],\n",
    "    'GPT_role': 'waiter',\n",
    "    'user_role': 'customer',\n",
    "    'sentence': 'I will be right back with your order.'\n",
    "},\n",
    "{\n",
    "    'setting': 'Enchanted forest',\n",
    "    'roles': ['explorer', 'forest spirit'],\n",
    "    'GPT_role': 'forest spirit',\n",
    "    'user_role': 'explorer',\n",
    "    'sentence': 'We have never had a human here before.'\n",
    "},\n",
    "{\n",
    "    'setting' : 'Talking to Yann LeCun on a conference afterparty',\n",
    "    \"roles\": [\"conference attendee\", \"Yann LeCun\"],\n",
    "    \"GPT_role\": \"Yann LeCun\",\n",
    "    \"user_role\": \"conference attendee\",\n",
    "    'sentence': 'I would like to visit you in your lab some day.'\n",
    "}\n",
    "]"
   ]
  },
  {
   "cell_type": "code",
   "execution_count": 40,
   "metadata": {},
   "outputs": [],
   "source": [
    "template_no_setting = 'This is a sentence by {0} talking to {1}. Refine the sentence from {0} so it encourages longer and more detailed response from {1}. Keep the level of english used. {2}'\n",
    "template_with_setting = 'This is a sentence by {0} talking to {1} in a setting described as {2}. Refine the sentence from {0} so it encourages longer and more detailed response from {1}. Keep the level of english used. {3}'"
   ]
  },
  {
   "cell_type": "markdown",
   "metadata": {},
   "source": [
    "## Higher temperature"
   ]
  },
  {
   "cell_type": "code",
   "execution_count": null,
   "metadata": {},
   "outputs": [],
   "source": [
    "parameters = GPTParameters('gpt-3.5-turbo', 0.7, 800, 0.95, 0, 0, None)"
   ]
  },
  {
   "cell_type": "markdown",
   "metadata": {},
   "source": [
    "### No setting refinement"
   ]
  },
  {
   "cell_type": "code",
   "execution_count": 34,
   "metadata": {},
   "outputs": [
    {
     "name": "stdout",
     "output_type": "stream",
     "text": [
      "I will be right back with your order. In the meantime, could you kindly share any specific preferences or additional requests you may have, so I can ensure your meal is prepared exactly to your liking?\n",
      "As a curious forest spirit, I am intrigued to know more about your experiences as the first human to set foot in this enchanting realm.\n",
      "I'm really intrigued by your research, and I would absolutely love the opportunity to visit your lab in the near future. Could you please share more details about the work you're doing and what makes your lab unique?\n"
     ]
    }
   ],
   "source": [
    "for e in examples:\n",
    "    builder.add_template(template_no_setting, (e['GPT_role'], e['user_role'], e['sentence']))\n",
    "    prompt = builder.build()\n",
    "    builder.reset()\n",
    "    \n",
    "    refinement = t.send(prompt, parameters)\n",
    "    print(refinement)"
   ]
  },
  {
   "cell_type": "markdown",
   "metadata": {},
   "source": [
    "### Setting refinement"
   ]
  },
  {
   "cell_type": "code",
   "execution_count": 37,
   "metadata": {},
   "outputs": [
    {
     "name": "stdout",
     "output_type": "stream",
     "text": [
      "I will be right back with your order. Is there anything specific you would like me to check or ask the chef about your meal?\n",
      "\"Ah, how extraordinary! As a forest spirit, I must say, we have never had the pleasure of hosting a human in our enchanted forest before. I am absolutely enthralled by your presence! Could you kindly enlighten me with every intricate detail of your journey here? I am genuinely eager to hear about your experiences, emotions, and any magical encounters you may have encountered along the way!\"\n",
      "I would be thrilled to have the opportunity to visit your lab one day and witness firsthand the incredible research and advancements taking place in your field. Could you provide me with more information about the specific projects and experiments that you are currently working on?\n"
     ]
    }
   ],
   "source": [
    "for e in examples:\n",
    "    builder.add_template(template_with_setting, (e['GPT_role'], e['user_role'], e['setting'], e['sentence']))\n",
    "    prompt = builder.build()\n",
    "    builder.reset()\n",
    "    refinement = t.send(prompt, parameters)\n",
    "    print(refinement)"
   ]
  },
  {
   "cell_type": "markdown",
   "metadata": {},
   "source": [
    "## Lower temperature"
   ]
  },
  {
   "cell_type": "code",
   "execution_count": 42,
   "metadata": {},
   "outputs": [],
   "source": [
    "parameters_lower = GPTParameters('gpt-3.5-turbo', 0.1, 800, 0.95, 0, 0, None)"
   ]
  },
  {
   "cell_type": "markdown",
   "metadata": {},
   "source": [
    "### No setting refinement"
   ]
  },
  {
   "cell_type": "code",
   "execution_count": 43,
   "metadata": {},
   "outputs": [
    {
     "name": "stdout",
     "output_type": "stream",
     "text": [
      "I will be right back with your order. Is there anything specific you would like me to check or ask the chef about your dish?\n",
      "As a forest spirit, I am intrigued to learn that you are the first human to ever set foot in this sacred place. Could you kindly share with me your unique experiences and observations during your time here, providing me with a more elaborate and detailed account?\n",
      "I would be delighted to have the opportunity to visit your lab in the future. Could you please provide me with more information about your lab's research focus and any specific projects you are currently working on?\n"
     ]
    }
   ],
   "source": [
    "for e in examples:\n",
    "    builder.add_template(template_no_setting, (e['GPT_role'], e['user_role'], e['sentence']))\n",
    "    prompt = builder.build()\n",
    "    builder.reset()\n",
    "    \n",
    "    refinement = t.send(prompt, parameters_lower)\n",
    "    print(refinement)"
   ]
  },
  {
   "cell_type": "markdown",
   "metadata": {},
   "source": [
    "### Setting refinement"
   ]
  },
  {
   "cell_type": "code",
   "execution_count": 44,
   "metadata": {},
   "outputs": [
    {
     "name": "stdout",
     "output_type": "stream",
     "text": [
      "I will be right back with your order. Is there anything specific you would like me to know or any additional requests you may have?\n",
      "In all my years as a forest spirit, I have never encountered a human in these enchanted woods. I am truly fascinated by your presence and would love to hear every detail about your journey and what led you to this mystical place.\n",
      "I would be absolutely thrilled to have the opportunity to visit your lab one day. Could you please share more about the specific research projects you are currently working on and any exciting developments you foresee in the near future?\n"
     ]
    }
   ],
   "source": [
    "for e in examples:\n",
    "    builder.add_template(template_with_setting, (e['GPT_role'], e['user_role'], e['setting'], e['sentence']))\n",
    "    prompt = builder.build()\n",
    "    builder.reset()\n",
    "    refinement = t.send(prompt, parameters_lower)\n",
    "    print(refinement)"
   ]
  },
  {
   "cell_type": "markdown",
   "metadata": {},
   "source": [
    "## Conclusion"
   ]
  },
  {
   "cell_type": "markdown",
   "metadata": {},
   "source": [
    "1. For higher temperature, including a setting creates a longer response compared to responses with no setting provided.\n",
    "2. Lower temperatures create a simple refinement, while higher temperatures increase the sentence complexity.\n",
    "3. There is little difference between including a setting description for lower temperature."
   ]
  }
 ],
 "metadata": {
  "kernelspec": {
   "display_name": "internship",
   "language": "python",
   "name": "python3"
  },
  "language_info": {
   "codemirror_mode": {
    "name": "ipython",
    "version": 3
   },
   "file_extension": ".py",
   "mimetype": "text/x-python",
   "name": "python",
   "nbconvert_exporter": "python",
   "pygments_lexer": "ipython3",
   "version": "3.8.10"
  },
  "orig_nbformat": 4
 },
 "nbformat": 4,
 "nbformat_minor": 2
}

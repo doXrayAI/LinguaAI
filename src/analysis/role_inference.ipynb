{
 "cells": [
  {
   "cell_type": "markdown",
   "metadata": {},
   "source": [
    "## Role inference"
   ]
  },
  {
   "cell_type": "code",
   "execution_count": 47,
   "metadata": {},
   "outputs": [
    {
     "name": "stdout",
     "output_type": "stream",
     "text": [
      "The autoreload extension is already loaded. To reload it, use:\n",
      "  %reload_ext autoreload\n"
     ]
    }
   ],
   "source": [
    "import sys\n",
    "sys.path.append(\"/home/mihaelabaksic/proj/2023-languagelearning\")\n",
    "sys.path.append(\"/home/mihaelabaksic/proj/2023-languagelearning/src\") \n",
    "sys.path.append(\"/home/mihaelabaksic/proj/2023-languagelearning/src/templates\") \n",
    "\n",
    "%load_ext autoreload\n",
    "%autoreload 2"
   ]
  },
  {
   "cell_type": "code",
   "execution_count": 48,
   "metadata": {},
   "outputs": [],
   "source": [
    "from thread import Thread\n",
    "from single_run_thread import SingleRunThread\n",
    "from prompt_builder import PromptBuilder\n",
    "from utils import load_template\n",
    "import keys\n",
    "\n",
    "import openai\n",
    "import json\n"
   ]
  },
  {
   "cell_type": "code",
   "execution_count": 49,
   "metadata": {},
   "outputs": [],
   "source": [
    "openai.api_key = keys.OPENAI_API_KEY"
   ]
  },
  {
   "cell_type": "code",
   "execution_count": 50,
   "metadata": {},
   "outputs": [],
   "source": [
    "description = load_template('role_inference_description', '../templates/templates.json')\n",
    "examples = load_template('role_inference_examples', '../templates/templates.json')\n",
    "query = load_template('role_inference_query', '../templates/templates.json')"
   ]
  },
  {
   "cell_type": "code",
   "execution_count": 51,
   "metadata": {},
   "outputs": [],
   "source": [
    "input = \"Enchanted forest\""
   ]
  },
  {
   "cell_type": "markdown",
   "metadata": {},
   "source": [
    "### Building a prompt"
   ]
  },
  {
   "cell_type": "code",
   "execution_count": 44,
   "metadata": {},
   "outputs": [],
   "source": [
    "builder = PromptBuilder()\n",
    "\n",
    "builder = builder.add_template(description['template'], ()).add_template(examples['template'], ()).add_template(examples['choices'][0], ()).add_template(examples['choices'][2], ())\n",
    "\n",
    "builder = builder.add_template(query['template'], (input,))"
   ]
  },
  {
   "cell_type": "code",
   "execution_count": 45,
   "metadata": {},
   "outputs": [
    {
     "name": "stdout",
     "output_type": "stream",
     "text": [
      "Based on a provided setting description, infere two roles involved in the conversation in the provided setting. Assign a more moderatory role to GPT and the other to user. Fully adhere to the output format roles\": [\"ROLE1\", \"ROLE2\"],\"GPT_role\": \"ROLE\",\"user_role\": \"ROLE\" \n",
      "Examples:\n",
      "\n",
      "\n",
      "\"setting\": \"A conversation in a cafe in english.\", \"roles\": [\"waiter\", \"customer\"], \"GPT_role\": \"waiter\", \"user_role\": \"customer\"\n",
      "\n",
      "\"setting\": \"A conversation with a friend.\", \"roles\": [\"me\", \"friend\"], \"GPT_role\": \"friend\", \"user_role\": \"me\"\n",
      "\n",
      "\"setting\": \"Enchanted forest\"\n"
     ]
    }
   ],
   "source": [
    "prompt = builder.build()\n",
    "\n",
    "print(prompt)"
   ]
  },
  {
   "cell_type": "markdown",
   "metadata": {},
   "source": [
    "### Sending the prompt to obtain roles"
   ]
  },
  {
   "cell_type": "code",
   "execution_count": 52,
   "metadata": {},
   "outputs": [
    {
     "data": {
      "text/plain": [
       "'\"roles\": [\"explorer\", \"forest spirit\"], \"GPT_role\": \"explorer\", \"user_role\": \"forest spirit\"'"
      ]
     },
     "execution_count": 52,
     "metadata": {},
     "output_type": "execute_result"
    }
   ],
   "source": [
    "t = SingleRunThread()\n",
    "\n",
    "result = t.send(prompt)\n",
    "result"
   ]
  },
  {
   "cell_type": "code",
   "execution_count": 53,
   "metadata": {},
   "outputs": [
    {
     "data": {
      "text/plain": [
       "{'roles': ['explorer', 'forest spirit'],\n",
       " 'GPT_role': 'explorer',\n",
       " 'user_role': 'forest spirit',\n",
       " 'setting': 'Enchanted forest'}"
      ]
     },
     "execution_count": 53,
     "metadata": {},
     "output_type": "execute_result"
    }
   ],
   "source": [
    "res_dict = json.loads( '{' + result + '}'  )\n",
    "res_dict['setting'] = input\n",
    "\n",
    "res_dict"
   ]
  },
  {
   "cell_type": "code",
   "execution_count": null,
   "metadata": {},
   "outputs": [],
   "source": []
  }
 ],
 "metadata": {
  "kernelspec": {
   "display_name": "internship",
   "language": "python",
   "name": "python3"
  },
  "language_info": {
   "codemirror_mode": {
    "name": "ipython",
    "version": 3
   },
   "file_extension": ".py",
   "mimetype": "text/x-python",
   "name": "python",
   "nbconvert_exporter": "python",
   "pygments_lexer": "ipython3",
   "version": "3.8.10"
  },
  "orig_nbformat": 4
 },
 "nbformat": 4,
 "nbformat_minor": 2
}

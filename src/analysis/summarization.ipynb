{
 "cells": [
  {
   "cell_type": "markdown",
   "metadata": {},
   "source": [
    "## Summarization analysis"
   ]
  },
  {
   "cell_type": "code",
   "execution_count": 1,
   "metadata": {},
   "outputs": [],
   "source": [
    "from notebook_init import notebook_init, notebook_imports\n",
    "\n",
    "notebook_init()\n",
    "notebook_imports()\n"
   ]
  },
  {
   "cell_type": "code",
   "execution_count": 2,
   "metadata": {},
   "outputs": [],
   "source": [
    "from src.bots.summarization_bot import SummarizationBot"
   ]
  },
  {
   "cell_type": "code",
   "execution_count": 3,
   "metadata": {},
   "outputs": [],
   "source": [
    "example_dialogue = [\n",
    "    \"Waiter: Hello,  how may I help you today?\",\n",
    "    \"Customer: Hi, I would love a cappuccino.\",\n",
    "    \"Waiter: Unfortunately, our coffee machine is broken. Would you like something else? We have a big variety of freshly squeezed juices.\",\n",
    "    \"Customer: Hmm, that sounds good. What is your recommendation?\",\n",
    "    \"Waiter: Definitely the apricot juice, its so rich in flavor, you won't regret it.\",\n",
    "    \"Customer: Then apricot it is.\",\n",
    "    \"Waiter: Ofcourse, I'll be back in a second.... Here it is. Is there something else you would like?\",\n",
    "    \"Customer: Now that i think about it, do you happen to have any cakes?\",\n",
    "    \"Waiter: Yes, we do. We have several different tarts.\",\n",
    "    \"Customer: Do you have blueberry tart?\",\n",
    "    \"Waiter: Yes, freshly baked. So, one blueberry tart?\",\n",
    "    \"Customer: Yes, thank you very much\"\n",
    "]"
   ]
  },
  {
   "cell_type": "markdown",
   "metadata": {},
   "source": [
    "### Alternative 0"
   ]
  },
  {
   "cell_type": "code",
   "execution_count": 4,
   "metadata": {},
   "outputs": [
    {
     "name": "stdout",
     "output_type": "stream",
     "text": [
      "\n",
      "SUMMARY:  The customer asks for a cappuccino, but the waiter informs them that the coffee machine is broken. The waiter suggests trying one of the freshly squeezed juices instead.\n",
      "CHARS:  169\n",
      "WORDS:  28\n",
      "----------------------------------\n",
      "\n",
      "SUMMARY:  The customer asks for a cappuccino, but the coffee machine is broken. The waiter recommends trying the apricot juice, and the customer agrees to have it.\n",
      "CHARS:  153\n",
      "WORDS:  26\n",
      "----------------------------------\n",
      "\n",
      "SUMMARY:  The customer asks if there are any cakes available and the waiter confirms that they have several different tarts. The customer specifically asks for a blueberry tart and the waiter confirms that they have a freshly baked one. The customer expresses gratitude and thanks the waiter.\n",
      "CHARS:  282\n",
      "WORDS:  46\n"
     ]
    }
   ],
   "source": [
    "bot = SummarizationBot(0)\n",
    "\n",
    "sum1 = bot.send('', example_dialogue[:3])\n",
    "\n",
    "print()\n",
    "print('SUMMARY: ', sum1)\n",
    "print('CHARS: ', len(sum1))\n",
    "print('WORDS: ', len(sum1.split()))\n",
    "print('----------------------------------')\n",
    "\n",
    "sum2 = bot.send(sum1, example_dialogue[3:6])\n",
    "print()\n",
    "print('SUMMARY: ', sum2)\n",
    "print('CHARS: ', len(sum2))\n",
    "print('WORDS: ', len(sum2.split()))\n",
    "\n",
    "print('----------------------------------')\n",
    "\n",
    "sum3 = bot.send(sum2, example_dialogue[6:])\n",
    "print()\n",
    "print('SUMMARY: ', sum3)\n",
    "print('CHARS: ', len(sum3))\n",
    "print('WORDS: ', len(sum3.split()))"
   ]
  },
  {
   "cell_type": "markdown",
   "metadata": {},
   "source": [
    "### Alternative 1"
   ]
  },
  {
   "cell_type": "code",
   "execution_count": 5,
   "metadata": {},
   "outputs": [
    {
     "name": "stdout",
     "output_type": "stream",
     "text": [
      "\n",
      "SUMMARY:  The customer asks for a cappuccino, but the waiter informs them that the coffee machine is broken. The waiter suggests that the customer try one of their freshly squeezed juices instead.\n",
      "CHARS:  186\n",
      "WORDS:  31\n",
      "----------------------------------\n",
      "\n",
      "SUMMARY:  The customer asks for a cappuccino, but the waiter informs them that the coffee machine is broken. The waiter suggests that the customer try one of their freshly squeezed juices instead. The customer agrees and asks for a recommendation. The waiter suggests the apricot juice, and the customer decides to go with that.\n",
      "CHARS:  318\n",
      "WORDS:  53\n",
      "----------------------------------\n",
      "\n",
      "SUMMARY:  The customer initially wanted a cappuccino, but the coffee machine was broken. The waiter suggested trying a freshly squeezed juice instead, and the customer agreed. The waiter recommended apricot juice, and the customer decided to go with that. Then, the customer asked if they had any cakes, specifically a blueberry tart. The waiter confirmed that they did have blueberry tarts and the customer ordered one.\n",
      "CHARS:  410\n",
      "WORDS:  65\n"
     ]
    }
   ],
   "source": [
    "bot = SummarizationBot(1)\n",
    "\n",
    "sum1 = bot.send('', example_dialogue[:3])\n",
    "\n",
    "print()\n",
    "print('SUMMARY: ', sum1)\n",
    "print('CHARS: ', len(sum1))\n",
    "print('WORDS: ', len(sum1.split()))\n",
    "print('----------------------------------')\n",
    "\n",
    "sum2 = bot.send(sum1, example_dialogue[3:6])\n",
    "print()\n",
    "print('SUMMARY: ', sum2)\n",
    "print('CHARS: ', len(sum2))\n",
    "print('WORDS: ', len(sum2.split()))\n",
    "\n",
    "print('----------------------------------')\n",
    "\n",
    "sum3 = bot.send(sum2, example_dialogue[6:])\n",
    "print()\n",
    "print('SUMMARY: ', sum3)\n",
    "print('CHARS: ', len(sum3))\n",
    "print('WORDS: ', len(sum3.split()))"
   ]
  },
  {
   "cell_type": "markdown",
   "metadata": {},
   "source": [
    "### Alternative 2"
   ]
  },
  {
   "cell_type": "code",
   "execution_count": 6,
   "metadata": {},
   "outputs": [
    {
     "name": "stdout",
     "output_type": "stream",
     "text": [
      "\n",
      "SUMMARY:  A customer goes to a café and asks for a cappuccino, but the waiter informs them that the coffee machine is broken. The waiter suggests that the customer can choose from a variety of freshly squeezed juices instead.\n",
      "CHARS:  215\n",
      "WORDS:  38\n",
      "----------------------------------\n",
      "\n",
      "SUMMARY:  A customer goes to a café and asks for a cappuccino, but the waiter informs them that the coffee machine is broken. The waiter suggests that the customer can choose from a variety of freshly squeezed juices instead. The customer decides to try the apricot juice, which the waiter highly recommends.\n",
      "CHARS:  298\n",
      "WORDS:  51\n",
      "----------------------------------\n",
      "\n",
      "SUMMARY:  A customer goes to a café and asks for a cappuccino, but the coffee machine is broken. The waiter suggests apricot juice as an alternative. The customer also asks for a blueberry tart, which the waiter confirms they have.\n",
      "CHARS:  221\n",
      "WORDS:  39\n"
     ]
    }
   ],
   "source": [
    "bot = SummarizationBot(2)\n",
    "\n",
    "sum1 = bot.send('', example_dialogue[:3])\n",
    "\n",
    "print()\n",
    "print('SUMMARY: ', sum1)\n",
    "print('CHARS: ', len(sum1))\n",
    "print('WORDS: ', len(sum1.split()))\n",
    "print('----------------------------------')\n",
    "\n",
    "sum2 = bot.send(sum1, example_dialogue[3:6])\n",
    "print()\n",
    "print('SUMMARY: ', sum2)\n",
    "print('CHARS: ', len(sum2))\n",
    "print('WORDS: ', len(sum2.split()))\n",
    "\n",
    "print('----------------------------------')\n",
    "\n",
    "sum3 = bot.send(sum2, example_dialogue[6:])\n",
    "print()\n",
    "print('SUMMARY: ', sum3)\n",
    "print('CHARS: ', len(sum3))\n",
    "print('WORDS: ', len(sum3.split()))"
   ]
  },
  {
   "cell_type": "markdown",
   "metadata": {},
   "source": [
    "### Alternative 3"
   ]
  },
  {
   "cell_type": "code",
   "execution_count": 4,
   "metadata": {},
   "outputs": [
    {
     "name": "stdout",
     "output_type": "stream",
     "text": [
      "\n",
      "SUMMARY:  Previous summary + Dialogue:\n",
      "\n",
      "$$The customer wanted a cappuccino but the coffee machine was broken. The waiter offered a variety of freshly squeezed juices as an alternative.##\n",
      "\n",
      "The customer requested a cappuccino, but the coffee machine was out of order. The waiter suggested choosing from their wide selection of fresh juices instead.\n",
      "CHARS:  336\n",
      "WORDS:  52\n",
      "----------------------------------\n",
      "\n",
      "SUMMARY:  The customer requested a cappuccino, but the coffee machine was out of order. The waiter suggested choosing from their wide selection of fresh juices instead. The waiter recommended the apricot juice for its rich flavor, and the customer agreed to try it.\n",
      "CHARS:  255\n",
      "WORDS:  42\n",
      "----------------------------------\n",
      "\n",
      "SUMMARY:  The customer requested a cappuccino, but the coffee machine was out of order. The waiter suggested choosing from their wide selection of fresh juices instead. The waiter recommended the apricot juice for its rich flavor. The customer agreed to try it and also asked if they had any cakes. The waiter informed them that they had several different tarts, including a freshly baked blueberry tart. The customer ordered the blueberry tart and thanked the waiter.\n",
      "CHARS:  458\n",
      "WORDS:  75\n"
     ]
    }
   ],
   "source": [
    "bot = SummarizationBot(3)\n",
    "\n",
    "sum1 = bot.send('', example_dialogue[:3])\n",
    "\n",
    "print()\n",
    "print('SUMMARY: ', sum1)\n",
    "print('CHARS: ', len(sum1))\n",
    "print('WORDS: ', len(sum1.split()))\n",
    "print('----------------------------------')\n",
    "\n",
    "sum2 = bot.send(sum1, example_dialogue[3:6])\n",
    "print()\n",
    "print('SUMMARY: ', sum2)\n",
    "print('CHARS: ', len(sum2))\n",
    "print('WORDS: ', len(sum2.split()))\n",
    "\n",
    "print('----------------------------------')\n",
    "\n",
    "sum3 = bot.send(sum2, example_dialogue[6:])\n",
    "print()\n",
    "print('SUMMARY: ', sum3)\n",
    "print('CHARS: ', len(sum3))\n",
    "print('WORDS: ', len(sum3.split()))"
   ]
  },
  {
   "cell_type": "code",
   "execution_count": null,
   "metadata": {},
   "outputs": [],
   "source": []
  }
 ],
 "metadata": {
  "kernelspec": {
   "display_name": "internship",
   "language": "python",
   "name": "python3"
  },
  "language_info": {
   "codemirror_mode": {
    "name": "ipython",
    "version": 3
   },
   "file_extension": ".py",
   "mimetype": "text/x-python",
   "name": "python",
   "nbconvert_exporter": "python",
   "pygments_lexer": "ipython3",
   "version": "3.8.10"
  },
  "orig_nbformat": 4
 },
 "nbformat": 4,
 "nbformat_minor": 2
}

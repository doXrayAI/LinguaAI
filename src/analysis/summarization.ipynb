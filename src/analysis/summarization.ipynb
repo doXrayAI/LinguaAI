{
 "cells": [
  {
   "cell_type": "markdown",
   "metadata": {},
   "source": [
    "## Summarization analysis"
   ]
  },
  {
   "cell_type": "code",
   "execution_count": 2,
   "metadata": {},
   "outputs": [],
   "source": [
    "from notebook_init import notebook_init, notebook_imports\n",
    "\n",
    "notebook_init()\n",
    "notebook_imports()\n"
   ]
  },
  {
   "cell_type": "code",
   "execution_count": 3,
   "metadata": {},
   "outputs": [],
   "source": [
    "from src.bots.summarization_bot import SummarizationBot"
   ]
  },
  {
   "cell_type": "code",
   "execution_count": 4,
   "metadata": {},
   "outputs": [],
   "source": [
    "example_dialogue = [\n",
    "    \"Waiter: Hello,  how may I help you today?\",\n",
    "    \"Customer: Hi, I would love a cappuccino.\",\n",
    "    \"Waiter: Unfortunately, our coffee machine is broken. Would you like something else? We have a big variety of freshly squeezed juices.\",\n",
    "    \"Customer: Hmm, that sounds good. What is your recommendation?\",\n",
    "    \"Waiter: Definitely the apricot juice, its so rich in flavor, you won't regret it.\",\n",
    "    \"Customer: Then apricot it is.\",\n",
    "    \"Waiter: Ofcourse, I'll be back in a second.... Here it is. Is there something else you would like?\",\n",
    "    \"Customer: Now that i think about it, do you happen to have any cakes?\",\n",
    "    \"Waiter: Yes, we do. We have several different tarts.\",\n",
    "    \"Customer: Do you have blueberry tart?\",\n",
    "    \"Waiter: Yes, freshly baked. So, one blueberry tart?\",\n",
    "    \"Customer: Yes, thank you very much\"\n",
    "]"
   ]
  },
  {
   "cell_type": "markdown",
   "metadata": {},
   "source": [
    "### Alternative 0"
   ]
  },
  {
   "cell_type": "code",
   "execution_count": 5,
   "metadata": {},
   "outputs": [
    {
     "name": "stdout",
     "output_type": "stream",
     "text": [
      "\n",
      "SUMMARY:  The customer orders a cappuccino but is told that the coffee machine is broken. The waiter suggests trying one of their freshly squeezed juices instead.\n",
      "CHARS:  152\n",
      "WORDS:  25\n",
      "----------------------------------\n",
      "\n",
      "SUMMARY:  The customer decides to try the apricot juice based on the waiter's recommendation.\n",
      "CHARS:  83\n",
      "WORDS:  13\n",
      "----------------------------------\n",
      "\n",
      "SUMMARY:  The customer asks the waiter if they have any cakes. The waiter says they have several different tarts, including a freshly baked blueberry tart. The customer decides to order the blueberry tart.\n",
      "CHARS:  195\n",
      "WORDS:  32\n"
     ]
    }
   ],
   "source": [
    "bot = SummarizationBot(0)\n",
    "\n",
    "sum1 = bot.send('', example_dialogue[:3])\n",
    "\n",
    "print()\n",
    "print('SUMMARY: ', sum1)\n",
    "print('CHARS: ', len(sum1))\n",
    "print('WORDS: ', len(sum1.split()))\n",
    "print('----------------------------------')\n",
    "\n",
    "sum2 = bot.send(sum1, example_dialogue[3:6])\n",
    "print()\n",
    "print('SUMMARY: ', sum2)\n",
    "print('CHARS: ', len(sum2))\n",
    "print('WORDS: ', len(sum2.split()))\n",
    "\n",
    "print('----------------------------------')\n",
    "\n",
    "sum3 = bot.send(sum2, example_dialogue[6:])\n",
    "print()\n",
    "print('SUMMARY: ', sum3)\n",
    "print('CHARS: ', len(sum3))\n",
    "print('WORDS: ', len(sum3.split()))"
   ]
  },
  {
   "cell_type": "markdown",
   "metadata": {},
   "source": [
    "### Alternative 1"
   ]
  },
  {
   "cell_type": "code",
   "execution_count": 6,
   "metadata": {},
   "outputs": [
    {
     "name": "stdout",
     "output_type": "stream",
     "text": [
      "\n",
      "SUMMARY:  The customer wants to order a cappuccino, but the waiter informs them that the coffee machine is broken. The waiter suggests that the customer chooses something else from the variety of freshly squeezed juices available.\n",
      "CHARS:  220\n",
      "WORDS:  35\n",
      "----------------------------------\n",
      "\n",
      "SUMMARY:  The customer wants to order a cappuccino, but is informed by the waiter that the coffee machine is broken. The waiter suggests choosing something else from the variety of freshly squeezed juices available. The customer agrees and asks for a recommendation. The waiter suggests the apricot juice, highlighting its rich flavor. The customer decides to go with the apricot juice.\n",
      "CHARS:  376\n",
      "WORDS:  60\n",
      "----------------------------------\n",
      "\n",
      "SUMMARY:  The customer initially wanted to order a cappuccino, but was told that the coffee machine was broken. The waiter suggested trying one of the freshly squeezed juices instead. The customer agreed and asked for a recommendation. The waiter suggested the apricot juice, which the customer decided to go with. Later, the customer asked if they had any cakes, specifically a blueberry tart. The waiter confirmed that they did have a freshly baked blueberry tart and the customer ordered it.\n",
      "CHARS:  484\n",
      "WORDS:  79\n"
     ]
    }
   ],
   "source": [
    "bot = SummarizationBot(1)\n",
    "\n",
    "sum1 = bot.send('', example_dialogue[:3])\n",
    "\n",
    "print()\n",
    "print('SUMMARY: ', sum1)\n",
    "print('CHARS: ', len(sum1))\n",
    "print('WORDS: ', len(sum1.split()))\n",
    "print('----------------------------------')\n",
    "\n",
    "sum2 = bot.send(sum1, example_dialogue[3:6])\n",
    "print()\n",
    "print('SUMMARY: ', sum2)\n",
    "print('CHARS: ', len(sum2))\n",
    "print('WORDS: ', len(sum2.split()))\n",
    "\n",
    "print('----------------------------------')\n",
    "\n",
    "sum3 = bot.send(sum2, example_dialogue[6:])\n",
    "print()\n",
    "print('SUMMARY: ', sum3)\n",
    "print('CHARS: ', len(sum3))\n",
    "print('WORDS: ', len(sum3.split()))"
   ]
  },
  {
   "cell_type": "markdown",
   "metadata": {},
   "source": [
    "### Alternative 2"
   ]
  },
  {
   "cell_type": "code",
   "execution_count": 7,
   "metadata": {},
   "outputs": [
    {
     "name": "stdout",
     "output_type": "stream",
     "text": [
      "\n",
      "SUMMARY:  The customer wants a cappuccino, but the coffee machine is broken. The waiter offers a variety of freshly squeezed juices instead.\n",
      "CHARS:  130\n",
      "WORDS:  21\n",
      "----------------------------------\n",
      "\n",
      "SUMMARY:  The customer wants a cappuccino, but the coffee machine is broken. The waiter recommends the apricot juice and the customer agrees to try it.\n",
      "CHARS:  141\n",
      "WORDS:  24\n",
      "----------------------------------\n",
      "\n",
      "SUMMARY:  The customer initially wanted a cappuccino, but the coffee machine was broken. The waiter recommended apricot juice and the customer agreed to try it. Later, the customer asked if there were any cakes available. The waiter confirmed that they had several different tarts, including a freshly baked blueberry tart. The customer thanked the waiter and ordered the blueberry tart.\n",
      "CHARS:  377\n",
      "WORDS:  59\n"
     ]
    }
   ],
   "source": [
    "bot = SummarizationBot(2)\n",
    "\n",
    "sum1 = bot.send('', example_dialogue[:3])\n",
    "\n",
    "print()\n",
    "print('SUMMARY: ', sum1)\n",
    "print('CHARS: ', len(sum1))\n",
    "print('WORDS: ', len(sum1.split()))\n",
    "print('----------------------------------')\n",
    "\n",
    "sum2 = bot.send(sum1, example_dialogue[3:6])\n",
    "print()\n",
    "print('SUMMARY: ', sum2)\n",
    "print('CHARS: ', len(sum2))\n",
    "print('WORDS: ', len(sum2.split()))\n",
    "\n",
    "print('----------------------------------')\n",
    "\n",
    "sum3 = bot.send(sum2, example_dialogue[6:])\n",
    "print()\n",
    "print('SUMMARY: ', sum3)\n",
    "print('CHARS: ', len(sum3))\n",
    "print('WORDS: ', len(sum3.split()))"
   ]
  },
  {
   "cell_type": "markdown",
   "metadata": {},
   "source": [
    "### Alternative 3"
   ]
  },
  {
   "cell_type": "code",
   "execution_count": 4,
   "metadata": {},
   "outputs": [
    {
     "name": "stdout",
     "output_type": "stream",
     "text": [
      "\n",
      "SUMMARY:  Previous summary + Dialogue:\n",
      "\n",
      "$$The customer wanted a cappuccino but the coffee machine was broken. The waiter offered a variety of freshly squeezed juices as an alternative.##\n",
      "\n",
      "The customer requested a cappuccino, but the coffee machine was out of order. The waiter suggested choosing from their wide selection of fresh juices instead.\n",
      "CHARS:  336\n",
      "WORDS:  52\n",
      "----------------------------------\n",
      "\n",
      "SUMMARY:  The customer requested a cappuccino, but the coffee machine was out of order. The waiter suggested choosing from their wide selection of fresh juices instead. The waiter recommended the apricot juice for its rich flavor, and the customer agreed to try it.\n",
      "CHARS:  255\n",
      "WORDS:  42\n",
      "----------------------------------\n",
      "\n",
      "SUMMARY:  The customer requested a cappuccino, but the coffee machine was out of order. The waiter suggested choosing from their wide selection of fresh juices instead. The waiter recommended the apricot juice for its rich flavor. The customer agreed to try it and also asked if they had any cakes. The waiter informed them that they had several different tarts, including a freshly baked blueberry tart. The customer ordered the blueberry tart and thanked the waiter.\n",
      "CHARS:  458\n",
      "WORDS:  75\n"
     ]
    }
   ],
   "source": [
    "bot = SummarizationBot(3)\n",
    "\n",
    "sum1 = bot.send('', example_dialogue[:3])\n",
    "\n",
    "print()\n",
    "print('SUMMARY: ', sum1)\n",
    "print('CHARS: ', len(sum1))\n",
    "print('WORDS: ', len(sum1.split()))\n",
    "print('----------------------------------')\n",
    "\n",
    "sum2 = bot.send(sum1, example_dialogue[3:6])\n",
    "print()\n",
    "print('SUMMARY: ', sum2)\n",
    "print('CHARS: ', len(sum2))\n",
    "print('WORDS: ', len(sum2.split()))\n",
    "\n",
    "print('----------------------------------')\n",
    "\n",
    "sum3 = bot.send(sum2, example_dialogue[6:])\n",
    "print()\n",
    "print('SUMMARY: ', sum3)\n",
    "print('CHARS: ', len(sum3))\n",
    "print('WORDS: ', len(sum3.split()))"
   ]
  },
  {
   "cell_type": "code",
   "execution_count": null,
   "metadata": {},
   "outputs": [],
   "source": []
  }
 ],
 "metadata": {
  "kernelspec": {
   "display_name": "internship",
   "language": "python",
   "name": "python3"
  },
  "language_info": {
   "codemirror_mode": {
    "name": "ipython",
    "version": 3
   },
   "file_extension": ".py",
   "mimetype": "text/x-python",
   "name": "python",
   "nbconvert_exporter": "python",
   "pygments_lexer": "ipython3",
   "version": "3.8.10"
  },
  "orig_nbformat": 4
 },
 "nbformat": 4,
 "nbformat_minor": 2
}

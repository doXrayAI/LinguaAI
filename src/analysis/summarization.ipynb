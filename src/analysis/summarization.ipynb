{
 "cells": [
  {
   "cell_type": "markdown",
   "metadata": {},
   "source": [
    "## Summarization analysis"
   ]
  },
  {
   "cell_type": "code",
   "execution_count": 1,
   "metadata": {},
   "outputs": [],
   "source": [
    "import sys\n",
    "sys.path.append(\"/home/mihaelabaksic/proj/2023-languagelearning\")\n",
    "sys.path.append(\"/home/mihaelabaksic/proj/2023-languagelearning/src\") \n",
    "sys.path.append(\"/home/mihaelabaksic/proj/2023-languagelearning/src/templates\") \n",
    "\n",
    "%load_ext autoreload\n",
    "%autoreload 2"
   ]
  },
  {
   "cell_type": "code",
   "execution_count": 2,
   "metadata": {},
   "outputs": [],
   "source": [
    "import openai\n",
    "\n",
    "from src.bots.summarization_bot import SummarizationBot\n",
    "from src.parameters import summarization_parametes\n",
    "\n",
    "openai.api_key = keys.OPENAI_API_KEY"
   ]
  },
  {
   "cell_type": "code",
   "execution_count": 3,
   "metadata": {},
   "outputs": [],
   "source": [
    "example_dialogue = [\n",
    "    \"Waiter: Hello,  how may I help you today?\",\n",
    "    \"Customer: Hi, I would love a cappuccino.\",\n",
    "    \"Waiter: Unfortunately, our coffee machine is broken. Would you like something else? We have a big variety of freshly squeezed juices.\",\n",
    "    \"Customer: Hmm, that sounds good. What is your recommendation?\",\n",
    "    \"Waiter: Definitely the apricot juice, its so rich in flavor, you won't regret it.\",\n",
    "    \"Customer: Then apricot it is.\",\n",
    "    \"Waiter: Ofcourse, I'll be back in a second.... Here it is. Is there something else you would like?\",\n",
    "    \"Customer: Now that i think about it, do you happen to have any cakes?\",\n",
    "    \"Waiter: Yes, we do. We have several different tarts.\",\n",
    "    \"Customer: Do you have blueberry tart?\",\n",
    "    \"Waiter: Yes, freshly baked. So, one blueberry tart?\",\n",
    "    \"Customer: Yes, thank you very much\"\n",
    "]"
   ]
  },
  {
   "cell_type": "markdown",
   "metadata": {},
   "source": [
    "### Alternative 0"
   ]
  },
  {
   "cell_type": "code",
   "execution_count": 5,
   "metadata": {},
   "outputs": [
    {
     "name": "stdout",
     "output_type": "stream",
     "text": [
      "\n",
      "SUMMARY:  The customer wants a cappuccino, but the waiter informs them that the coffee machine is broken. The waiter suggests choosing a different beverage, such as a freshly squeezed juice.\n",
      "CHARS:  180\n",
      "WORDS:  29\n",
      "----------------------------------\n",
      "\n",
      "SUMMARY:  The customer asks for a recommendation after learning that the coffee machine is broken. The waiter suggests the apricot juice, emphasizing its rich flavor. The customer decides to go with the apricot juice.\n",
      "CHARS:  207\n",
      "WORDS:  33\n",
      "----------------------------------\n",
      "\n",
      "SUMMARY:  The customer asks if there are any cakes available. The waiter confirms that there are several different tarts and specifically mentions a freshly baked blueberry tart. The customer decides to order the blueberry tart.\n",
      "CHARS:  218\n",
      "WORDS:  34\n"
     ]
    }
   ],
   "source": [
    "bot = SummarizationBot(0, parameters=summarization_parametes)\n",
    "\n",
    "sum1 = bot.send('', '\\n'.join(example_dialogue[:3]))\n",
    "\n",
    "print()\n",
    "print('SUMMARY: ', sum1)\n",
    "print('CHARS: ', len(sum1))\n",
    "print('WORDS: ', len(sum1.split()))\n",
    "print('----------------------------------')\n",
    "\n",
    "sum2 = bot.send(sum1, '\\n'.join(example_dialogue[3:6]))\n",
    "print()\n",
    "print('SUMMARY: ', sum2)\n",
    "print('CHARS: ', len(sum2))\n",
    "print('WORDS: ', len(sum2.split()))\n",
    "\n",
    "print('----------------------------------')\n",
    "\n",
    "sum3 = bot.send(sum2, '\\n'.join(example_dialogue[6:]))\n",
    "print()\n",
    "print('SUMMARY: ', sum3)\n",
    "print('CHARS: ', len(sum3))\n",
    "print('WORDS: ', len(sum3.split()))"
   ]
  },
  {
   "cell_type": "markdown",
   "metadata": {},
   "source": [
    "### Alternative 1"
   ]
  },
  {
   "cell_type": "code",
   "execution_count": 6,
   "metadata": {},
   "outputs": [
    {
     "name": "stdout",
     "output_type": "stream",
     "text": [
      "\n",
      "SUMMARY:  The waiter greets the customer and asks for their order. The customer requests a cappuccino, but the waiter explains that their coffee machine is broken. They offer the customer a selection of freshly squeezed juices instead.\n",
      "CHARS:  225\n",
      "WORDS:  36\n",
      "----------------------------------\n",
      "\n",
      "SUMMARY:  The customer arrives at the cafe and learns that the coffee machine is broken. They decide to order an apricot juice based on the waiter's recommendation.\n",
      "CHARS:  154\n",
      "WORDS:  26\n",
      "----------------------------------\n",
      "\n",
      "SUMMARY:  The customer arrives at the cafe and learns that the coffee machine is broken. They decide to order an apricot juice based on the waiter's recommendation. The waiter returns and the customer asks if they have any cakes. The waiter confirms that they have several different tarts, including a blueberry tart. The customer decides to order a blueberry tart along with the apricot juice.\n",
      "CHARS:  384\n",
      "WORDS:  64\n"
     ]
    }
   ],
   "source": [
    "bot = SummarizationBot(1, summarization_parametes)\n",
    "\n",
    "sum1 = bot.send('', '\\n'.join(example_dialogue[:3]))\n",
    "\n",
    "print()\n",
    "print('SUMMARY: ', sum1)\n",
    "print('CHARS: ', len(sum1))\n",
    "print('WORDS: ', len(sum1.split()))\n",
    "print('----------------------------------')\n",
    "\n",
    "sum2 = bot.send(sum1, '\\n'.join(example_dialogue[3:6]))\n",
    "print()\n",
    "print('SUMMARY: ', sum2)\n",
    "print('CHARS: ', len(sum2))\n",
    "print('WORDS: ', len(sum2.split()))\n",
    "\n",
    "print('----------------------------------')\n",
    "\n",
    "sum3 = bot.send(sum2, '\\n'.join(example_dialogue[6:]))\n",
    "print()\n",
    "print('SUMMARY: ', sum3)\n",
    "print('CHARS: ', len(sum3))\n",
    "print('WORDS: ', len(sum3.split()))"
   ]
  },
  {
   "cell_type": "markdown",
   "metadata": {},
   "source": [
    "### Alternative 2"
   ]
  },
  {
   "cell_type": "code",
   "execution_count": 7,
   "metadata": {},
   "outputs": [
    {
     "name": "stdout",
     "output_type": "stream",
     "text": [
      "\n",
      "SUMMARY:  The customer goes to a cafe and asks for a cappuccino, but the waiter informs them that the coffee machine is broken. The waiter suggests they try a freshly squeezed juice instead.\n",
      "CHARS:  180\n",
      "WORDS:  32\n",
      "----------------------------------\n",
      "\n",
      "SUMMARY:  The customer goes to a cafe and asks for a cappuccino, but the coffee machine is broken. The waiter suggests trying freshly squeezed juice, and recommends the apricot juice. The customer agrees and decides to have the apricot juice.\n",
      "CHARS:  232\n",
      "WORDS:  39\n",
      "----------------------------------\n",
      "\n",
      "SUMMARY:  The customer goes to a cafe and orders a cappuccino, but the coffee machine is broken. The waiter suggests apricot juice instead and the customer agrees. Later, the customer asks for a blueberry tart and the waiter confirms that they have one and brings it to the customer.\n",
      "CHARS:  273\n",
      "WORDS:  48\n"
     ]
    }
   ],
   "source": [
    "bot = SummarizationBot(2, summarization_parametes)\n",
    "\n",
    "sum1 = bot.send('', '\\n'.join(example_dialogue[:3]))\n",
    "\n",
    "print()\n",
    "print('SUMMARY: ', sum1)\n",
    "print('CHARS: ', len(sum1))\n",
    "print('WORDS: ', len(sum1.split()))\n",
    "print('----------------------------------')\n",
    "\n",
    "sum2 = bot.send(sum1, '\\n'.join(example_dialogue[3:6]))\n",
    "print()\n",
    "print('SUMMARY: ', sum2)\n",
    "print('CHARS: ', len(sum2))\n",
    "print('WORDS: ', len(sum2.split()))\n",
    "\n",
    "print('----------------------------------')\n",
    "\n",
    "sum3 = bot.send(sum2, '\\n'.join(example_dialogue[6:]))\n",
    "print()\n",
    "print('SUMMARY: ', sum3)\n",
    "print('CHARS: ', len(sum3))\n",
    "print('WORDS: ', len(sum3.split()))"
   ]
  },
  {
   "cell_type": "markdown",
   "metadata": {},
   "source": [
    "### Alternative 3"
   ]
  },
  {
   "cell_type": "code",
   "execution_count": 8,
   "metadata": {},
   "outputs": [
    {
     "name": "stdout",
     "output_type": "stream",
     "text": [
      "\n",
      "SUMMARY:  Waiter informs the customer that the coffee machine is broken and offers a variety of freshly squeezed juices as an alternative.\n",
      "CHARS:  128\n",
      "WORDS:  21\n",
      "----------------------------------\n",
      "\n",
      "SUMMARY:  The waiter informs the customer that the coffee machine is broken and suggests trying a variety of freshly squeezed juices instead. The customer expresses interest and asks for a recommendation. The waiter highly recommends the apricot juice, assuring the customer that it is full of flavor. The customer agrees and decides to go with the apricot juice.\n",
      "CHARS:  353\n",
      "WORDS:  57\n",
      "----------------------------------\n",
      "\n",
      "SUMMARY:  The waiter informs the customer that the coffee machine is broken and suggests trying a variety of freshly squeezed juices instead. The customer expresses interest and asks for a recommendation. The waiter highly recommends the apricot juice, assuring the customer that it is full of flavor. The customer agrees and decides to go with the apricot juice. In addition to that, the customer also asks the waiter if they have any cakes. The waiter confirms that they have several different tarts and specifically mentions the availability of a freshly baked blueberry tart. The customer happily orders one blueberry tart.\n",
      "CHARS:  617\n",
      "WORDS:  99\n"
     ]
    }
   ],
   "source": [
    "bot = SummarizationBot(3, summarization_parametes)\n",
    "\n",
    "sum1 = bot.send('', '\\n'.join(example_dialogue[:3]))\n",
    "\n",
    "print()\n",
    "print('SUMMARY: ', sum1)\n",
    "print('CHARS: ', len(sum1))\n",
    "print('WORDS: ', len(sum1.split()))\n",
    "print('----------------------------------')\n",
    "\n",
    "sum2 = bot.send(sum1, '\\n'.join(example_dialogue[3:6]))\n",
    "print()\n",
    "print('SUMMARY: ', sum2)\n",
    "print('CHARS: ', len(sum2))\n",
    "print('WORDS: ', len(sum2.split()))\n",
    "\n",
    "print('----------------------------------')\n",
    "\n",
    "sum3 = bot.send(sum2, '\\n'.join(example_dialogue[6:]))\n",
    "print()\n",
    "print('SUMMARY: ', sum3)\n",
    "print('CHARS: ', len(sum3))\n",
    "print('WORDS: ', len(sum3.split()))"
   ]
  },
  {
   "cell_type": "code",
   "execution_count": null,
   "metadata": {},
   "outputs": [],
   "source": []
  }
 ],
 "metadata": {
  "kernelspec": {
   "display_name": "internship",
   "language": "python",
   "name": "python3"
  },
  "language_info": {
   "codemirror_mode": {
    "name": "ipython",
    "version": 3
   },
   "file_extension": ".py",
   "mimetype": "text/x-python",
   "name": "python",
   "nbconvert_exporter": "python",
   "pygments_lexer": "ipython3",
   "version": "3.8.10"
  },
  "orig_nbformat": 4
 },
 "nbformat": 4,
 "nbformat_minor": 2
}

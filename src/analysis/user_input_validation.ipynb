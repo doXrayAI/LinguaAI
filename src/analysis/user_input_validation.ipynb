{
 "cells": [
  {
   "cell_type": "markdown",
   "metadata": {},
   "source": [
    "### Demonstrating user input validation flow\n",
    "\n",
    "The user input that needs to be validated is the setting description.\n",
    "GPT validates the input and returns 1 if the input is valid and 0 if it is not."
   ]
  },
  {
   "cell_type": "code",
   "execution_count": 113,
   "metadata": {},
   "outputs": [],
   "source": [
    "import sys\n",
    "sys.path.append(\"/home/mihaelabaksic/proj/2023-languagelearning\")\n",
    "sys.path.append(\"/home/mihaelabaksic/proj/2023-languagelearning/src\") \n",
    "sys.path.append(\"/home/mihaelabaksic/proj/2023-languagelearning/src/templates\") "
   ]
  },
  {
   "cell_type": "code",
   "execution_count": 114,
   "metadata": {},
   "outputs": [
    {
     "name": "stdout",
     "output_type": "stream",
     "text": [
      "The autoreload extension is already loaded. To reload it, use:\n",
      "  %reload_ext autoreload\n"
     ]
    }
   ],
   "source": [
    "%load_ext autoreload\n",
    "%autoreload 2"
   ]
  },
  {
   "cell_type": "code",
   "execution_count": 115,
   "metadata": {},
   "outputs": [],
   "source": [
    "from single_run_thread import SingleRunThread\n",
    "from prompt_builder import PromptBuilder\n",
    "from utils import load_template\n",
    "from keys import OPENAI_API_KEY\n",
    "import pandas as pd\n",
    "\n",
    "from sklearn.metrics import accuracy_score\n",
    "\n",
    "import openai\n",
    "\n",
    "openai.api_key = OPENAI_API_KEY\n"
   ]
  },
  {
   "cell_type": "code",
   "execution_count": 116,
   "metadata": {},
   "outputs": [],
   "source": [
    "template = load_template('setting_user_input_validation', '../templates/templates.json')"
   ]
  },
  {
   "cell_type": "code",
   "execution_count": 34,
   "metadata": {},
   "outputs": [
    {
     "name": "stdout",
     "output_type": "stream",
     "text": [
      "Is the following a description of a place, situation or activity involving people? \"{}\"  Respond only with 1 if it clearly does, otherwise 0.\n",
      "1\n"
     ]
    }
   ],
   "source": [
    "print(template['template'])\n",
    "print(template['n_args'])\n"
   ]
  },
  {
   "cell_type": "code",
   "execution_count": 35,
   "metadata": {},
   "outputs": [],
   "source": [
    "inputs = [\n",
    "    \"What is this?\",\n",
    "    \"Kayaking\",\n",
    "    \"Swimming\",\n",
    "    \"I would like to go as well\",\n",
    "    \"In Python, each Python file actually has a specific term called “Module”\"\n",
    "]"
   ]
  },
  {
   "cell_type": "markdown",
   "metadata": {},
   "source": [
    "#### Building prompts"
   ]
  },
  {
   "cell_type": "code",
   "execution_count": 36,
   "metadata": {},
   "outputs": [
    {
     "data": {
      "text/plain": [
       "['Is the following a description of a place, situation or activity involving people? \"What is this?\"  Respond only with 1 if it clearly does, otherwise 0.',\n",
       " 'Is the following a description of a place, situation or activity involving people? \"Kayaking\"  Respond only with 1 if it clearly does, otherwise 0.',\n",
       " 'Is the following a description of a place, situation or activity involving people? \"Swimming\"  Respond only with 1 if it clearly does, otherwise 0.',\n",
       " 'Is the following a description of a place, situation or activity involving people? \"I would like to go as well\"  Respond only with 1 if it clearly does, otherwise 0.',\n",
       " 'Is the following a description of a place, situation or activity involving people? \"In Python, each Python file actually has a specific term called “Module”\"  Respond only with 1 if it clearly does, otherwise 0.']"
      ]
     },
     "execution_count": 36,
     "metadata": {},
     "output_type": "execute_result"
    }
   ],
   "source": [
    "\n",
    "prompts = []\n",
    "\n",
    "for i in inputs:\n",
    "    builder = PromptBuilder()\n",
    "    args = (i,)\n",
    "\n",
    "    assert len(args) == template['n_args']\n",
    "\n",
    "    builder.add_template(template['template'], args)\n",
    "\n",
    "    prompts.append( builder.build())\n",
    "\n",
    "prompts"
   ]
  },
  {
   "cell_type": "markdown",
   "metadata": {},
   "source": [
    "#### Creating a thread and adding the prompt to the messages, sending it and retrieving result"
   ]
  },
  {
   "cell_type": "code",
   "execution_count": 37,
   "metadata": {},
   "outputs": [],
   "source": [
    "thread = SingleRunThread()\n",
    "results = []\n",
    "\n",
    "for p in prompts:\n",
    "    results.append(thread.send(p))\n",
    "    "
   ]
  },
  {
   "cell_type": "code",
   "execution_count": 38,
   "metadata": {},
   "outputs": [
    {
     "data": {
      "text/plain": [
       "['0', '1', '1', '0', '0']"
      ]
     },
     "execution_count": 38,
     "metadata": {},
     "output_type": "execute_result"
    }
   ],
   "source": [
    "results"
   ]
  },
  {
   "cell_type": "markdown",
   "metadata": {},
   "source": [
    "## Performance assessment"
   ]
  },
  {
   "cell_type": "code",
   "execution_count": 70,
   "metadata": {},
   "outputs": [
    {
     "data": {
      "text/html": [
       "<div>\n",
       "<style scoped>\n",
       "    .dataframe tbody tr th:only-of-type {\n",
       "        vertical-align: middle;\n",
       "    }\n",
       "\n",
       "    .dataframe tbody tr th {\n",
       "        vertical-align: top;\n",
       "    }\n",
       "\n",
       "    .dataframe thead th {\n",
       "        text-align: right;\n",
       "    }\n",
       "</style>\n",
       "<table border=\"1\" class=\"dataframe\">\n",
       "  <thead>\n",
       "    <tr style=\"text-align: right;\">\n",
       "      <th></th>\n",
       "      <th>description</th>\n",
       "      <th>label</th>\n",
       "    </tr>\n",
       "  </thead>\n",
       "  <tbody>\n",
       "    <tr>\n",
       "      <th>0</th>\n",
       "      <td>Amazon Rainforest</td>\n",
       "      <td>1</td>\n",
       "    </tr>\n",
       "    <tr>\n",
       "      <th>1</th>\n",
       "      <td>The ants were busy gathering food.</td>\n",
       "      <td>0</td>\n",
       "    </tr>\n",
       "    <tr>\n",
       "      <th>2</th>\n",
       "      <td>The aroma of coffee fills the cozy cafe</td>\n",
       "      <td>0</td>\n",
       "    </tr>\n",
       "    <tr>\n",
       "      <th>3</th>\n",
       "      <td>The distant thunder announces an approaching s...</td>\n",
       "      <td>0</td>\n",
       "    </tr>\n",
       "    <tr>\n",
       "      <th>4</th>\n",
       "      <td>The meeting will start at 3 PM.</td>\n",
       "      <td>0</td>\n",
       "    </tr>\n",
       "  </tbody>\n",
       "</table>\n",
       "</div>"
      ],
      "text/plain": [
       "                                         description  label\n",
       "0                                  Amazon Rainforest      1\n",
       "1                 The ants were busy gathering food.      0\n",
       "2            The aroma of coffee fills the cozy cafe      0\n",
       "3  The distant thunder announces an approaching s...      0\n",
       "4                    The meeting will start at 3 PM.      0"
      ]
     },
     "execution_count": 70,
     "metadata": {},
     "output_type": "execute_result"
    }
   ],
   "source": [
    "test_data = pd.read_csv('data/input_validation_test_data.csv', sep=';')\n",
    "test_data.head()"
   ]
  },
  {
   "cell_type": "code",
   "execution_count": 7,
   "metadata": {},
   "outputs": [],
   "source": [
    "builder = PromptBuilder()"
   ]
  },
  {
   "cell_type": "code",
   "execution_count": 44,
   "metadata": {},
   "outputs": [],
   "source": [
    "def multiprompt(template, args, builder=builder):\n",
    "    builder.add_template(template, args)\n",
    "    result = builder.build()\n",
    "    builder.reset()\n",
    "    return result"
   ]
  },
  {
   "cell_type": "code",
   "execution_count": 73,
   "metadata": {},
   "outputs": [],
   "source": [
    "prompts = []\n",
    "\n",
    "prompts = test_data['description'].apply(lambda x : multiprompt(template['template'], (x,)))"
   ]
  },
  {
   "cell_type": "code",
   "execution_count": 74,
   "metadata": {},
   "outputs": [
    {
     "data": {
      "text/plain": [
       "0      Is the following a description of a place, sit...\n",
       "1      Is the following a description of a place, sit...\n",
       "2      Is the following a description of a place, sit...\n",
       "3      Is the following a description of a place, sit...\n",
       "4      Is the following a description of a place, sit...\n",
       "                             ...                        \n",
       "164    Is the following a description of a place, sit...\n",
       "165    Is the following a description of a place, sit...\n",
       "166    Is the following a description of a place, sit...\n",
       "167    Is the following a description of a place, sit...\n",
       "168    Is the following a description of a place, sit...\n",
       "Name: description, Length: 169, dtype: object"
      ]
     },
     "execution_count": 74,
     "metadata": {},
     "output_type": "execute_result"
    }
   ],
   "source": [
    "prompts"
   ]
  },
  {
   "cell_type": "code",
   "execution_count": 75,
   "metadata": {},
   "outputs": [],
   "source": [
    "test_data['prompt'] = prompts"
   ]
  },
  {
   "cell_type": "code",
   "execution_count": 76,
   "metadata": {},
   "outputs": [
    {
     "data": {
      "text/html": [
       "<div>\n",
       "<style scoped>\n",
       "    .dataframe tbody tr th:only-of-type {\n",
       "        vertical-align: middle;\n",
       "    }\n",
       "\n",
       "    .dataframe tbody tr th {\n",
       "        vertical-align: top;\n",
       "    }\n",
       "\n",
       "    .dataframe thead th {\n",
       "        text-align: right;\n",
       "    }\n",
       "</style>\n",
       "<table border=\"1\" class=\"dataframe\">\n",
       "  <thead>\n",
       "    <tr style=\"text-align: right;\">\n",
       "      <th></th>\n",
       "      <th>description</th>\n",
       "      <th>label</th>\n",
       "      <th>prompt</th>\n",
       "    </tr>\n",
       "  </thead>\n",
       "  <tbody>\n",
       "    <tr>\n",
       "      <th>0</th>\n",
       "      <td>Amazon Rainforest</td>\n",
       "      <td>1</td>\n",
       "      <td>Is the following a description of a place, sit...</td>\n",
       "    </tr>\n",
       "    <tr>\n",
       "      <th>1</th>\n",
       "      <td>The ants were busy gathering food.</td>\n",
       "      <td>0</td>\n",
       "      <td>Is the following a description of a place, sit...</td>\n",
       "    </tr>\n",
       "    <tr>\n",
       "      <th>2</th>\n",
       "      <td>The aroma of coffee fills the cozy cafe</td>\n",
       "      <td>0</td>\n",
       "      <td>Is the following a description of a place, sit...</td>\n",
       "    </tr>\n",
       "    <tr>\n",
       "      <th>3</th>\n",
       "      <td>The distant thunder announces an approaching s...</td>\n",
       "      <td>0</td>\n",
       "      <td>Is the following a description of a place, sit...</td>\n",
       "    </tr>\n",
       "    <tr>\n",
       "      <th>4</th>\n",
       "      <td>The meeting will start at 3 PM.</td>\n",
       "      <td>0</td>\n",
       "      <td>Is the following a description of a place, sit...</td>\n",
       "    </tr>\n",
       "  </tbody>\n",
       "</table>\n",
       "</div>"
      ],
      "text/plain": [
       "                                         description  label  \\\n",
       "0                                  Amazon Rainforest      1   \n",
       "1                 The ants were busy gathering food.      0   \n",
       "2            The aroma of coffee fills the cozy cafe      0   \n",
       "3  The distant thunder announces an approaching s...      0   \n",
       "4                    The meeting will start at 3 PM.      0   \n",
       "\n",
       "                                              prompt  \n",
       "0  Is the following a description of a place, sit...  \n",
       "1  Is the following a description of a place, sit...  \n",
       "2  Is the following a description of a place, sit...  \n",
       "3  Is the following a description of a place, sit...  \n",
       "4  Is the following a description of a place, sit...  "
      ]
     },
     "execution_count": 76,
     "metadata": {},
     "output_type": "execute_result"
    }
   ],
   "source": [
    "test_data.head()"
   ]
  },
  {
   "cell_type": "code",
   "execution_count": 69,
   "metadata": {},
   "outputs": [
    {
     "data": {
      "text/html": [
       "<div>\n",
       "<style scoped>\n",
       "    .dataframe tbody tr th:only-of-type {\n",
       "        vertical-align: middle;\n",
       "    }\n",
       "\n",
       "    .dataframe tbody tr th {\n",
       "        vertical-align: top;\n",
       "    }\n",
       "\n",
       "    .dataframe thead th {\n",
       "        text-align: right;\n",
       "    }\n",
       "</style>\n",
       "<table border=\"1\" class=\"dataframe\">\n",
       "  <thead>\n",
       "    <tr style=\"text-align: right;\">\n",
       "      <th></th>\n",
       "      <th>description</th>\n",
       "      <th>label</th>\n",
       "      <th>prompts</th>\n",
       "    </tr>\n",
       "  </thead>\n",
       "  <tbody>\n",
       "    <tr>\n",
       "      <th>0</th>\n",
       "      <td>Amazon Rainforest</td>\n",
       "      <td>1</td>\n",
       "      <td>Is the following a description of a place, sit...</td>\n",
       "    </tr>\n",
       "    <tr>\n",
       "      <th>1</th>\n",
       "      <td>The ants were busy gathering food.</td>\n",
       "      <td>0</td>\n",
       "      <td>Is the following a description of a place, sit...</td>\n",
       "    </tr>\n",
       "    <tr>\n",
       "      <th>2</th>\n",
       "      <td>The aroma of coffee fills the cozy cafe</td>\n",
       "      <td>0</td>\n",
       "      <td>Is the following a description of a place, sit...</td>\n",
       "    </tr>\n",
       "  </tbody>\n",
       "</table>\n",
       "</div>"
      ],
      "text/plain": [
       "                               description  label  \\\n",
       "0                        Amazon Rainforest      1   \n",
       "1       The ants were busy gathering food.      0   \n",
       "2  The aroma of coffee fills the cozy cafe      0   \n",
       "\n",
       "                                             prompts  \n",
       "0  Is the following a description of a place, sit...  \n",
       "1  Is the following a description of a place, sit...  \n",
       "2  Is the following a description of a place, sit...  "
      ]
     },
     "execution_count": 69,
     "metadata": {},
     "output_type": "execute_result"
    }
   ],
   "source": [
    "test_data.iloc[:3]"
   ]
  },
  {
   "cell_type": "code",
   "execution_count": 82,
   "metadata": {},
   "outputs": [],
   "source": [
    "t = SingleRunThread()\n",
    "\n",
    "predicted_labels = []"
   ]
  },
  {
   "cell_type": "code",
   "execution_count": 83,
   "metadata": {},
   "outputs": [],
   "source": [
    "for d in test_data['prompt']:\n",
    "    predicted_labels.append(t.send(d))"
   ]
  },
  {
   "cell_type": "code",
   "execution_count": null,
   "metadata": {},
   "outputs": [],
   "source": [
    "predicted_labels"
   ]
  },
  {
   "cell_type": "code",
   "execution_count": 85,
   "metadata": {},
   "outputs": [],
   "source": [
    "test_data['predicted_labels'] = predicted_labels"
   ]
  },
  {
   "cell_type": "code",
   "execution_count": 86,
   "metadata": {},
   "outputs": [
    {
     "data": {
      "text/html": [
       "<div>\n",
       "<style scoped>\n",
       "    .dataframe tbody tr th:only-of-type {\n",
       "        vertical-align: middle;\n",
       "    }\n",
       "\n",
       "    .dataframe tbody tr th {\n",
       "        vertical-align: top;\n",
       "    }\n",
       "\n",
       "    .dataframe thead th {\n",
       "        text-align: right;\n",
       "    }\n",
       "</style>\n",
       "<table border=\"1\" class=\"dataframe\">\n",
       "  <thead>\n",
       "    <tr style=\"text-align: right;\">\n",
       "      <th></th>\n",
       "      <th>description</th>\n",
       "      <th>label</th>\n",
       "      <th>prompt</th>\n",
       "      <th>predicted_labels</th>\n",
       "    </tr>\n",
       "  </thead>\n",
       "  <tbody>\n",
       "    <tr>\n",
       "      <th>0</th>\n",
       "      <td>Amazon Rainforest</td>\n",
       "      <td>1</td>\n",
       "      <td>Is the following a description of a place, sit...</td>\n",
       "      <td>1</td>\n",
       "    </tr>\n",
       "    <tr>\n",
       "      <th>1</th>\n",
       "      <td>The ants were busy gathering food.</td>\n",
       "      <td>0</td>\n",
       "      <td>Is the following a description of a place, sit...</td>\n",
       "      <td>1</td>\n",
       "    </tr>\n",
       "    <tr>\n",
       "      <th>2</th>\n",
       "      <td>The aroma of coffee fills the cozy cafe</td>\n",
       "      <td>0</td>\n",
       "      <td>Is the following a description of a place, sit...</td>\n",
       "      <td>1</td>\n",
       "    </tr>\n",
       "    <tr>\n",
       "      <th>3</th>\n",
       "      <td>The distant thunder announces an approaching s...</td>\n",
       "      <td>0</td>\n",
       "      <td>Is the following a description of a place, sit...</td>\n",
       "      <td>0</td>\n",
       "    </tr>\n",
       "    <tr>\n",
       "      <th>4</th>\n",
       "      <td>The meeting will start at 3 PM.</td>\n",
       "      <td>0</td>\n",
       "      <td>Is the following a description of a place, sit...</td>\n",
       "      <td>1</td>\n",
       "    </tr>\n",
       "    <tr>\n",
       "      <th>...</th>\n",
       "      <td>...</td>\n",
       "      <td>...</td>\n",
       "      <td>...</td>\n",
       "      <td>...</td>\n",
       "    </tr>\n",
       "    <tr>\n",
       "      <th>164</th>\n",
       "      <td>Great Barrier Reef</td>\n",
       "      <td>1</td>\n",
       "      <td>Is the following a description of a place, sit...</td>\n",
       "      <td>1</td>\n",
       "    </tr>\n",
       "    <tr>\n",
       "      <th>165</th>\n",
       "      <td>Forest</td>\n",
       "      <td>1</td>\n",
       "      <td>Is the following a description of a place, sit...</td>\n",
       "      <td>0</td>\n",
       "    </tr>\n",
       "    <tr>\n",
       "      <th>166</th>\n",
       "      <td>The moon's reflection shimmers on the calm lake</td>\n",
       "      <td>0</td>\n",
       "      <td>Is the following a description of a place, sit...</td>\n",
       "      <td>0</td>\n",
       "    </tr>\n",
       "    <tr>\n",
       "      <th>167</th>\n",
       "      <td>Lake</td>\n",
       "      <td>1</td>\n",
       "      <td>Is the following a description of a place, sit...</td>\n",
       "      <td>0</td>\n",
       "    </tr>\n",
       "    <tr>\n",
       "      <th>168</th>\n",
       "      <td>The full moon illuminates the dark night sky</td>\n",
       "      <td>0</td>\n",
       "      <td>Is the following a description of a place, sit...</td>\n",
       "      <td>0</td>\n",
       "    </tr>\n",
       "  </tbody>\n",
       "</table>\n",
       "<p>169 rows × 4 columns</p>\n",
       "</div>"
      ],
      "text/plain": [
       "                                           description  label  \\\n",
       "0                                    Amazon Rainforest      1   \n",
       "1                   The ants were busy gathering food.      0   \n",
       "2              The aroma of coffee fills the cozy cafe      0   \n",
       "3    The distant thunder announces an approaching s...      0   \n",
       "4                      The meeting will start at 3 PM.      0   \n",
       "..                                                 ...    ...   \n",
       "164                                 Great Barrier Reef      1   \n",
       "165                                             Forest      1   \n",
       "166    The moon's reflection shimmers on the calm lake      0   \n",
       "167                                               Lake      1   \n",
       "168       The full moon illuminates the dark night sky      0   \n",
       "\n",
       "                                                prompt predicted_labels  \n",
       "0    Is the following a description of a place, sit...                1  \n",
       "1    Is the following a description of a place, sit...                1  \n",
       "2    Is the following a description of a place, sit...                1  \n",
       "3    Is the following a description of a place, sit...                0  \n",
       "4    Is the following a description of a place, sit...                1  \n",
       "..                                                 ...              ...  \n",
       "164  Is the following a description of a place, sit...                1  \n",
       "165  Is the following a description of a place, sit...                0  \n",
       "166  Is the following a description of a place, sit...                0  \n",
       "167  Is the following a description of a place, sit...                0  \n",
       "168  Is the following a description of a place, sit...                0  \n",
       "\n",
       "[169 rows x 4 columns]"
      ]
     },
     "execution_count": 86,
     "metadata": {},
     "output_type": "execute_result"
    }
   ],
   "source": [
    "test_data"
   ]
  },
  {
   "cell_type": "markdown",
   "metadata": {},
   "source": [
    "### Metrics"
   ]
  },
  {
   "cell_type": "code",
   "execution_count": 8,
   "metadata": {},
   "outputs": [
    {
     "data": {
      "text/html": [
       "<div>\n",
       "<style scoped>\n",
       "    .dataframe tbody tr th:only-of-type {\n",
       "        vertical-align: middle;\n",
       "    }\n",
       "\n",
       "    .dataframe tbody tr th {\n",
       "        vertical-align: top;\n",
       "    }\n",
       "\n",
       "    .dataframe thead th {\n",
       "        text-align: right;\n",
       "    }\n",
       "</style>\n",
       "<table border=\"1\" class=\"dataframe\">\n",
       "  <thead>\n",
       "    <tr style=\"text-align: right;\">\n",
       "      <th></th>\n",
       "      <th>description</th>\n",
       "      <th>label</th>\n",
       "      <th>prompt</th>\n",
       "      <th>predicted_label</th>\n",
       "    </tr>\n",
       "  </thead>\n",
       "  <tbody>\n",
       "    <tr>\n",
       "      <th>0</th>\n",
       "      <td>Amazon Rainforest</td>\n",
       "      <td>1</td>\n",
       "      <td>Is the following a description of a place, sit...</td>\n",
       "      <td>1</td>\n",
       "    </tr>\n",
       "    <tr>\n",
       "      <th>1</th>\n",
       "      <td>The ants were busy gathering food.</td>\n",
       "      <td>0</td>\n",
       "      <td>Is the following a description of a place, sit...</td>\n",
       "      <td>1</td>\n",
       "    </tr>\n",
       "    <tr>\n",
       "      <th>2</th>\n",
       "      <td>The aroma of coffee fills the cozy cafe</td>\n",
       "      <td>0</td>\n",
       "      <td>Is the following a description of a place, sit...</td>\n",
       "      <td>1</td>\n",
       "    </tr>\n",
       "    <tr>\n",
       "      <th>3</th>\n",
       "      <td>The distant thunder announces an approaching s...</td>\n",
       "      <td>0</td>\n",
       "      <td>Is the following a description of a place, sit...</td>\n",
       "      <td>0</td>\n",
       "    </tr>\n",
       "    <tr>\n",
       "      <th>4</th>\n",
       "      <td>The meeting will start at 3 PM.</td>\n",
       "      <td>0</td>\n",
       "      <td>Is the following a description of a place, sit...</td>\n",
       "      <td>1</td>\n",
       "    </tr>\n",
       "  </tbody>\n",
       "</table>\n",
       "</div>"
      ],
      "text/plain": [
       "                                         description  label  \\\n",
       "0                                  Amazon Rainforest      1   \n",
       "1                 The ants were busy gathering food.      0   \n",
       "2            The aroma of coffee fills the cozy cafe      0   \n",
       "3  The distant thunder announces an approaching s...      0   \n",
       "4                    The meeting will start at 3 PM.      0   \n",
       "\n",
       "                                              prompt  predicted_label  \n",
       "0  Is the following a description of a place, sit...                1  \n",
       "1  Is the following a description of a place, sit...                1  \n",
       "2  Is the following a description of a place, sit...                1  \n",
       "3  Is the following a description of a place, sit...                0  \n",
       "4  Is the following a description of a place, sit...                1  "
      ]
     },
     "execution_count": 8,
     "metadata": {},
     "output_type": "execute_result"
    }
   ],
   "source": [
    "test_data_predictions = pd.read_csv('data/input_validation_predictions.csv', sep=';')\n",
    "test_data_predictions.head()"
   ]
  },
  {
   "cell_type": "code",
   "execution_count": 9,
   "metadata": {},
   "outputs": [],
   "source": [
    "acc = accuracy_score(test_data_predictions['label'], test_data_predictions['predicted_label'])"
   ]
  },
  {
   "cell_type": "code",
   "execution_count": 10,
   "metadata": {},
   "outputs": [
    {
     "name": "stdout",
     "output_type": "stream",
     "text": [
      "accuracy_score:  0.834319526627219\n"
     ]
    }
   ],
   "source": [
    "print('accuracy_score: ', acc)"
   ]
  },
  {
   "cell_type": "markdown",
   "metadata": {},
   "source": [
    "#### Investigating FP and FN"
   ]
  },
  {
   "cell_type": "code",
   "execution_count": 11,
   "metadata": {},
   "outputs": [
    {
     "name": "stdout",
     "output_type": "stream",
     "text": [
      "Number of FP:  20\n"
     ]
    }
   ],
   "source": [
    "# FP\n",
    "\n",
    "fp = test_data_predictions[test_data_predictions['predicted_label'] > test_data_predictions['label']]\n",
    "\n",
    "print(\"Number of FP: \", len(fp))"
   ]
  },
  {
   "cell_type": "code",
   "execution_count": 12,
   "metadata": {},
   "outputs": [
    {
     "name": "stdout",
     "output_type": "stream",
     "text": [
      "1                     The ants were busy gathering food.\n",
      "2                The aroma of coffee fills the cozy cafe\n",
      "4                        The meeting will start at 3 PM.\n",
      "11                         I need to buy some groceries.\n",
      "31                        He enjoys playing video games.\n",
      "64                     The concert tickets are sold out.\n",
      "65     The mathematician scribbles equations on the b...\n",
      "68        The aroma of freshly baked bread fills the air\n",
      "75       The potter's wheel spins as they create pottery\n",
      "91                     Music notes dance across the page\n",
      "94               The scientist peers into the microscope\n",
      "97                       I need to fix the leaky faucet.\n",
      "101        The ocean waves crash against the rocky shore\n",
      "115          The potter molds clay into a beautiful vase\n",
      "116           Laughter echoes through the empty hallways\n",
      "124     The blacksmith hammers red-hot metal on an anvil\n",
      "137      An artist's sculpture stands proudly on display\n",
      "139    The newborn baby grips onto their parent's finger\n",
      "142           The photographer captures a moment in time\n",
      "151               The geologist examines rock formations\n",
      "Name: description, dtype: object\n"
     ]
    }
   ],
   "source": [
    "print(fp['description'])"
   ]
  },
  {
   "cell_type": "code",
   "execution_count": 13,
   "metadata": {},
   "outputs": [
    {
     "name": "stdout",
     "output_type": "stream",
     "text": [
      "Number of FN:  8\n"
     ]
    }
   ],
   "source": [
    "# FN\n",
    "\n",
    "fn = test_data_predictions[test_data_predictions['label'] > test_data_predictions['predicted_label']]\n",
    "\n",
    "print(\"Number of FN: \", len(fn))"
   ]
  },
  {
   "cell_type": "code",
   "execution_count": 14,
   "metadata": {},
   "outputs": [
    {
     "name": "stdout",
     "output_type": "stream",
     "text": [
      "26         Meditation\n",
      "28              Petra\n",
      "35      Mountain Peak\n",
      "49      Sahara Desert\n",
      "112     Mount Everest\n",
      "127    Reading a book\n",
      "165            Forest\n",
      "167              Lake\n",
      "Name: description, dtype: object\n"
     ]
    }
   ],
   "source": [
    "print(fn['description']) # note that 6 of them are places, 2 are activities. The descriptions are short. \n",
    "\n",
    "# Both activities are usually performed alone, so there is no place for conversation. Utimatelly they should be labeled 0"
   ]
  },
  {
   "cell_type": "code",
   "execution_count": 15,
   "metadata": {},
   "outputs": [
    {
     "name": "stdout",
     "output_type": "stream",
     "text": [
      "Number of TN  60\n"
     ]
    }
   ],
   "source": [
    "# TN\n",
    "\n",
    "tn = test_data_predictions[(test_data_predictions['label'] == test_data_predictions['predicted_label']) & (test_data_predictions['label'] == 0)]\n",
    "\n",
    "print('Number of TN ', len(tn))"
   ]
  },
  {
   "cell_type": "markdown",
   "metadata": {},
   "source": [
    "## Improvement proposals for FN\n",
    "- requesting the input to be longer (i.e. In the forest)\n",
    "- few shot learning\n",
    "- few shot learning with FN and FP examples\n",
    "- few shot learning with adversarial examples"
   ]
  },
  {
   "cell_type": "code",
   "execution_count": 17,
   "metadata": {},
   "outputs": [],
   "source": [
    "builder = PromptBuilder()\n",
    "t = SingleRunThread()"
   ]
  },
  {
   "cell_type": "markdown",
   "metadata": {},
   "source": [
    "### Requesting input to be longer and more specific."
   ]
  },
  {
   "cell_type": "code",
   "execution_count": 22,
   "metadata": {},
   "outputs": [
    {
     "name": "stdout",
     "output_type": "stream",
     "text": [
      "In a forest with a fairy 1\n"
     ]
    }
   ],
   "source": [
    "description = 'In a forest with a fairy'\n",
    "builder.reset()\n",
    "prompt = builder.add_template(template['template'], (description,)).build()\n",
    "\n",
    "in_the_forest_result = t.send(prompt)\n",
    "\n",
    "print( description + ' :' + in_the_forest_result)"
   ]
  },
  {
   "cell_type": "code",
   "execution_count": 23,
   "metadata": {},
   "outputs": [
    {
     "name": "stdout",
     "output_type": "stream",
     "text": [
      "Petra, Jordan :1\n"
     ]
    }
   ],
   "source": [
    "description = 'Petra, Jordan'\n",
    "builder.reset()\n",
    "prompt = builder.add_template(template['template'], (description,)).build()\n",
    "\n",
    "petra_result = t.send(prompt)\n",
    "\n",
    "print(description + ' :' + petra_result)"
   ]
  },
  {
   "cell_type": "markdown",
   "metadata": {},
   "source": [
    "### Few shot learning"
   ]
  },
  {
   "cell_type": "code",
   "execution_count": 24,
   "metadata": {},
   "outputs": [
    {
     "name": "stdout",
     "output_type": "stream",
     "text": [
      "Forest :0\n"
     ]
    }
   ],
   "source": [
    "examples_prompt = 'Examples: \\\"In a park.\\\" 1  \\\"What do you think about this?\\\" 0'\n",
    "description = 'Forest'\n",
    "\n",
    "builder.reset()\n",
    "prompt = builder.add_template(template['template'], (description,)).add_template(examples_prompt, ()).build()\n",
    "\n",
    "few_shot_result = t.send(prompt)\n",
    "print(description + ' :' + few_shot_result)"
   ]
  },
  {
   "cell_type": "code",
   "execution_count": 25,
   "metadata": {},
   "outputs": [
    {
     "name": "stdout",
     "output_type": "stream",
     "text": [
      "In a forest :0\n"
     ]
    }
   ],
   "source": [
    "examples_prompt = 'Examples: \\\"In a park.\\\" 1  \\\"What do you think about this?\\\" 0'\n",
    "description = 'In a forest'\n",
    "\n",
    "builder.reset()\n",
    "prompt = builder.add_template(template['template'], (description,)).add_template(examples_prompt, ()).build()\n",
    "\n",
    "few_shot_result = t.send(prompt)\n",
    "print(description + ' :' + few_shot_result)"
   ]
  },
  {
   "cell_type": "code",
   "execution_count": 26,
   "metadata": {},
   "outputs": [
    {
     "name": "stdout",
     "output_type": "stream",
     "text": [
      "In a forest with a fairy :1\n"
     ]
    }
   ],
   "source": [
    "examples_prompt = 'Examples: \\\"In a park.\\\" 1  \\\"What do you think about this?\\\" 0'\n",
    "description = 'In a forest with a fairy'\n",
    "\n",
    "builder.reset()\n",
    "prompt = builder.add_template(template['template'], (description,)).add_template(examples_prompt, ()).build()\n",
    "\n",
    "few_shot_result = t.send(prompt)\n",
    "print(description + ' :' + few_shot_result)"
   ]
  },
  {
   "cell_type": "code",
   "execution_count": 27,
   "metadata": {},
   "outputs": [
    {
     "name": "stdout",
     "output_type": "stream",
     "text": [
      "In a mystical forest with a fairy :1\n"
     ]
    }
   ],
   "source": [
    "examples_prompt = 'Examples: \\\"In a park.\\\" 1  \\\"What do you think about this?\\\" 0'\n",
    "description = 'In a mystical forest with a fairy'\n",
    "\n",
    "builder.reset()\n",
    "prompt = builder.add_template(template['template'], (description,)).add_template(examples_prompt, ()).build()\n",
    "\n",
    "few_shot_result = t.send(prompt)\n",
    "print(description + ' :' + few_shot_result)"
   ]
  },
  {
   "cell_type": "markdown",
   "metadata": {},
   "source": [
    "### Few shot learning with a FP and FN examples"
   ]
  },
  {
   "cell_type": "code",
   "execution_count": 38,
   "metadata": {},
   "outputs": [
    {
     "name": "stdout",
     "output_type": "stream",
     "text": [
      "Forest :0\n"
     ]
    },
    {
     "data": {
      "text/plain": [
       "'Is the following a description of a place, situation or activity involving people? \"Forest\"  Respond only with 1 if it clearly does, otherwise 0.\\nExamples: \"I need to buy some groceries.\" 0 \"In a park\" 1 \"Sahara Desert\" 1'"
      ]
     },
     "execution_count": 38,
     "metadata": {},
     "output_type": "execute_result"
    }
   ],
   "source": [
    "examples_prompt = 'Examples: \\\"I need to buy some groceries.\\\" 0 \\\"In a park\\\" 1 \\\"Sahara Desert\\\" 1'\n",
    "\n",
    "description = 'Forest'\n",
    "\n",
    "builder.reset()\n",
    "prompt = builder.add_template(template['template'], (description,)).add_template(examples_prompt, ()).build()\n",
    "\n",
    "\n",
    "few_shot_result = t.send(prompt)\n",
    "print(description + ' :' + few_shot_result)"
   ]
  },
  {
   "cell_type": "code",
   "execution_count": 37,
   "metadata": {},
   "outputs": [
    {
     "name": "stdout",
     "output_type": "stream",
     "text": [
      "Forest :0\n"
     ]
    }
   ],
   "source": [
    "reverse_order_template = \"Is the following a description of a place, situation or activity involving people? {} Respond only with 1 if it clearly does, otherwise 0.  \\\"{}\\\" \"\n",
    "\n",
    "description = 'Forest'\n",
    "examples_prompt = 'Examples: \\\"I need to buy some groceries.\\\" 0 \\\"In a park\\\" 1 \\\"Sahara Desert\\\" 1'\n",
    "\n",
    "builder.reset()\n",
    "prompt = builder.add_template(reverse_order_template, (examples_prompt, description)).build()\n",
    "\n",
    "few_shot_result = t.send(prompt)\n",
    "print(description + ' :' + few_shot_result)"
   ]
  },
  {
   "cell_type": "markdown",
   "metadata": {},
   "source": [
    "## Exploring alternative prompt templates"
   ]
  },
  {
   "cell_type": "code",
   "execution_count": 100,
   "metadata": {},
   "outputs": [],
   "source": [
    "prompt_template_alternatives = {\n",
    "    'few_shot': \"Is the following a description of a place, situation or activity involving people? \\\"{}\\\"  Respond only with 1 if it clearly does, otherwise 0. Examples: \\\"I need to buy some groceries.\\\" 0 \\\"In a park\\\" 1 \\\"Sahara Desert\\\" 1\",\n",
    "    'few_shot_extended': \"Is the following a description of a place, situation or activity involving people? \\\"{}\\\"  Respond only with 1 if it clearly does, otherwise 0. Examples: \\\"What do you think about this?\\\" 0 \\\"I have no intention to join them on this trip\\\" 0 \\\"In apartment.\\\" 1 \\\"On a highway, travelling home.\\\" 0 \\\"Shopping for gifts\\\" 1 \\\"Blew87enj bli blu blu\\\" 0 \\\"Ordering coffe\\\" 1\",\n",
    "    'rephrasing_no_people': \"Is the following a description of a place, situation or activity? \\\"{}\\\"  Respond only with 1 if it clearly does, otherwise 0. \",\n",
    "    'rephrasing_with_discussion': \"Is the following a description of a place, situation or activity where two characters or people can have a discussion? \\\"{}\\\"  Respond only with 1 if it clearly does, otherwise 0. \"\n",
    ",\n",
    "}"
   ]
  },
  {
   "cell_type": "code",
   "execution_count": 101,
   "metadata": {},
   "outputs": [],
   "source": [
    "builder = PromptBuilder()\n",
    "t = SingleRunThread()"
   ]
  },
  {
   "cell_type": "code",
   "execution_count": 47,
   "metadata": {},
   "outputs": [
    {
     "data": {
      "text/html": [
       "<div>\n",
       "<style scoped>\n",
       "    .dataframe tbody tr th:only-of-type {\n",
       "        vertical-align: middle;\n",
       "    }\n",
       "\n",
       "    .dataframe tbody tr th {\n",
       "        vertical-align: top;\n",
       "    }\n",
       "\n",
       "    .dataframe thead th {\n",
       "        text-align: right;\n",
       "    }\n",
       "</style>\n",
       "<table border=\"1\" class=\"dataframe\">\n",
       "  <thead>\n",
       "    <tr style=\"text-align: right;\">\n",
       "      <th></th>\n",
       "      <th>description</th>\n",
       "      <th>label</th>\n",
       "      <th>prompt</th>\n",
       "      <th>predicted_label</th>\n",
       "    </tr>\n",
       "  </thead>\n",
       "  <tbody>\n",
       "    <tr>\n",
       "      <th>0</th>\n",
       "      <td>Amazon Rainforest</td>\n",
       "      <td>1</td>\n",
       "      <td>Is the following a description of a place, sit...</td>\n",
       "      <td>1</td>\n",
       "    </tr>\n",
       "    <tr>\n",
       "      <th>1</th>\n",
       "      <td>The ants were busy gathering food.</td>\n",
       "      <td>0</td>\n",
       "      <td>Is the following a description of a place, sit...</td>\n",
       "      <td>1</td>\n",
       "    </tr>\n",
       "    <tr>\n",
       "      <th>2</th>\n",
       "      <td>The aroma of coffee fills the cozy cafe</td>\n",
       "      <td>0</td>\n",
       "      <td>Is the following a description of a place, sit...</td>\n",
       "      <td>1</td>\n",
       "    </tr>\n",
       "    <tr>\n",
       "      <th>3</th>\n",
       "      <td>The distant thunder announces an approaching s...</td>\n",
       "      <td>0</td>\n",
       "      <td>Is the following a description of a place, sit...</td>\n",
       "      <td>0</td>\n",
       "    </tr>\n",
       "    <tr>\n",
       "      <th>4</th>\n",
       "      <td>The meeting will start at 3 PM.</td>\n",
       "      <td>0</td>\n",
       "      <td>Is the following a description of a place, sit...</td>\n",
       "      <td>1</td>\n",
       "    </tr>\n",
       "  </tbody>\n",
       "</table>\n",
       "</div>"
      ],
      "text/plain": [
       "                                         description  label  \\\n",
       "0                                  Amazon Rainforest      1   \n",
       "1                 The ants were busy gathering food.      0   \n",
       "2            The aroma of coffee fills the cozy cafe      0   \n",
       "3  The distant thunder announces an approaching s...      0   \n",
       "4                    The meeting will start at 3 PM.      0   \n",
       "\n",
       "                                              prompt  predicted_label  \n",
       "0  Is the following a description of a place, sit...                1  \n",
       "1  Is the following a description of a place, sit...                1  \n",
       "2  Is the following a description of a place, sit...                1  \n",
       "3  Is the following a description of a place, sit...                0  \n",
       "4  Is the following a description of a place, sit...                1  "
      ]
     },
     "execution_count": 47,
     "metadata": {},
     "output_type": "execute_result"
    }
   ],
   "source": [
    "data = pd.read_csv('../data/input_validation_predictions.csv', sep=';')\n",
    "data.head()"
   ]
  },
  {
   "cell_type": "markdown",
   "metadata": {},
   "source": [
    "### few_shot"
   ]
  },
  {
   "cell_type": "code",
   "execution_count": 59,
   "metadata": {},
   "outputs": [
    {
     "data": {
      "text/plain": [
       "0      Is the following a description of a place, sit...\n",
       "1      Is the following a description of a place, sit...\n",
       "2      Is the following a description of a place, sit...\n",
       "3      Is the following a description of a place, sit...\n",
       "4      Is the following a description of a place, sit...\n",
       "                             ...                        \n",
       "164    Is the following a description of a place, sit...\n",
       "165    Is the following a description of a place, sit...\n",
       "166    Is the following a description of a place, sit...\n",
       "167    Is the following a description of a place, sit...\n",
       "168    Is the following a description of a place, sit...\n",
       "Name: description, Length: 169, dtype: object"
      ]
     },
     "execution_count": 59,
     "metadata": {},
     "output_type": "execute_result"
    }
   ],
   "source": [
    "few_shot_prompts = data['description'].apply(lambda x : multiprompt(prompt_template_alternatives['few_shot'], (x,), builder))\n",
    "few_shot_prompts"
   ]
  },
  {
   "cell_type": "code",
   "execution_count": 60,
   "metadata": {},
   "outputs": [],
   "source": [
    "few_shot_labels =[]\n",
    "for x in few_shot_prompts:\n",
    "    few_shot_labels.append(t.send(x)) "
   ]
  },
  {
   "cell_type": "code",
   "execution_count": 72,
   "metadata": {},
   "outputs": [],
   "source": [
    "data['few_shot_label'] = [int(x) for x in few_shot_labels]"
   ]
  },
  {
   "cell_type": "code",
   "execution_count": 73,
   "metadata": {},
   "outputs": [
    {
     "data": {
      "text/plain": [
       "0.863905325443787"
      ]
     },
     "execution_count": 73,
     "metadata": {},
     "output_type": "execute_result"
    }
   ],
   "source": [
    "accuracy_score(data['label'], data['few_shot_label'])"
   ]
  },
  {
   "cell_type": "markdown",
   "metadata": {},
   "source": [
    "### rephrasing_no_people"
   ]
  },
  {
   "cell_type": "code",
   "execution_count": 75,
   "metadata": {},
   "outputs": [
    {
     "data": {
      "text/plain": [
       "0      Is the following a description of a place, sit...\n",
       "1      Is the following a description of a place, sit...\n",
       "2      Is the following a description of a place, sit...\n",
       "3      Is the following a description of a place, sit...\n",
       "4      Is the following a description of a place, sit...\n",
       "                             ...                        \n",
       "164    Is the following a description of a place, sit...\n",
       "165    Is the following a description of a place, sit...\n",
       "166    Is the following a description of a place, sit...\n",
       "167    Is the following a description of a place, sit...\n",
       "168    Is the following a description of a place, sit...\n",
       "Name: description, Length: 169, dtype: object"
      ]
     },
     "execution_count": 75,
     "metadata": {},
     "output_type": "execute_result"
    }
   ],
   "source": [
    "rephrasing_no_people_prompts = data['description'].apply(lambda x : multiprompt(prompt_template_alternatives['rephrasing_no_people'], (x,), builder))\n",
    "rephrasing_no_people_prompts"
   ]
  },
  {
   "cell_type": "code",
   "execution_count": 76,
   "metadata": {},
   "outputs": [],
   "source": [
    "rephrasing_no_people_labels =[]"
   ]
  },
  {
   "cell_type": "code",
   "execution_count": 81,
   "metadata": {},
   "outputs": [],
   "source": [
    "for x in rephrasing_no_people_prompts:\n",
    "    rephrasing_no_people_labels.append(t.send(x)) "
   ]
  },
  {
   "cell_type": "code",
   "execution_count": 83,
   "metadata": {},
   "outputs": [],
   "source": [
    "data['rephrasing_no_people_label'] = [int(x) for x in rephrasing_no_people_labels]"
   ]
  },
  {
   "cell_type": "code",
   "execution_count": 85,
   "metadata": {},
   "outputs": [
    {
     "data": {
      "text/plain": [
       "0.6094674556213018"
      ]
     },
     "execution_count": 85,
     "metadata": {},
     "output_type": "execute_result"
    }
   ],
   "source": [
    "accuracy_score(data['label'], data['rephrasing_no_people_label'])"
   ]
  },
  {
   "cell_type": "markdown",
   "metadata": {},
   "source": [
    "### rephrasing_with_discussion"
   ]
  },
  {
   "cell_type": "code",
   "execution_count": 86,
   "metadata": {},
   "outputs": [
    {
     "data": {
      "text/plain": [
       "0      Is the following a description of a place, sit...\n",
       "1      Is the following a description of a place, sit...\n",
       "2      Is the following a description of a place, sit...\n",
       "3      Is the following a description of a place, sit...\n",
       "4      Is the following a description of a place, sit...\n",
       "                             ...                        \n",
       "164    Is the following a description of a place, sit...\n",
       "165    Is the following a description of a place, sit...\n",
       "166    Is the following a description of a place, sit...\n",
       "167    Is the following a description of a place, sit...\n",
       "168    Is the following a description of a place, sit...\n",
       "Name: description, Length: 169, dtype: object"
      ]
     },
     "execution_count": 86,
     "metadata": {},
     "output_type": "execute_result"
    }
   ],
   "source": [
    "rephrasing_with_discussion_prompts = data['description'].apply(lambda x : multiprompt(prompt_template_alternatives['rephrasing_with_discussion'], (x,), builder))\n",
    "rephrasing_with_discussion_prompts"
   ]
  },
  {
   "cell_type": "code",
   "execution_count": 87,
   "metadata": {},
   "outputs": [],
   "source": [
    "rephrasing_with_discussion_labels =[]"
   ]
  },
  {
   "cell_type": "code",
   "execution_count": 94,
   "metadata": {},
   "outputs": [],
   "source": [
    "for x in rephrasing_with_discussion_prompts:\n",
    "    rephrasing_with_discussion_labels.append(t.send(x)) "
   ]
  },
  {
   "cell_type": "code",
   "execution_count": 96,
   "metadata": {},
   "outputs": [],
   "source": [
    "data['rephrasing_with_discussion_label'] = [int(x) for x in rephrasing_with_discussion_labels]"
   ]
  },
  {
   "cell_type": "code",
   "execution_count": 97,
   "metadata": {},
   "outputs": [
    {
     "data": {
      "text/plain": [
       "0.5502958579881657"
      ]
     },
     "execution_count": 97,
     "metadata": {},
     "output_type": "execute_result"
    }
   ],
   "source": [
    "accuracy_score(data['label'], data['rephrasing_with_discussion_label'])"
   ]
  },
  {
   "cell_type": "markdown",
   "metadata": {},
   "source": [
    "### few_shot_extended"
   ]
  },
  {
   "cell_type": "code",
   "execution_count": 102,
   "metadata": {},
   "outputs": [
    {
     "data": {
      "text/plain": [
       "0      Is the following a description of a place, sit...\n",
       "1      Is the following a description of a place, sit...\n",
       "2      Is the following a description of a place, sit...\n",
       "3      Is the following a description of a place, sit...\n",
       "4      Is the following a description of a place, sit...\n",
       "                             ...                        \n",
       "164    Is the following a description of a place, sit...\n",
       "165    Is the following a description of a place, sit...\n",
       "166    Is the following a description of a place, sit...\n",
       "167    Is the following a description of a place, sit...\n",
       "168    Is the following a description of a place, sit...\n",
       "Name: description, Length: 169, dtype: object"
      ]
     },
     "execution_count": 102,
     "metadata": {},
     "output_type": "execute_result"
    }
   ],
   "source": [
    "few_shot_extended_prompts = data['description'].apply(lambda x : multiprompt(prompt_template_alternatives['few_shot_extended'], (x,), builder))\n",
    "few_shot_extended_prompts"
   ]
  },
  {
   "cell_type": "code",
   "execution_count": 103,
   "metadata": {},
   "outputs": [],
   "source": [
    "few_shot_extended_labels = []"
   ]
  },
  {
   "cell_type": "code",
   "execution_count": 108,
   "metadata": {},
   "outputs": [],
   "source": [
    "for x in few_shot_extended_prompts:\n",
    "    few_shot_extended_labels.append(t.send(x)) "
   ]
  },
  {
   "cell_type": "code",
   "execution_count": 110,
   "metadata": {},
   "outputs": [],
   "source": [
    "data['few_shot_extended_label'] = [int(x) for x in few_shot_extended_labels]"
   ]
  },
  {
   "cell_type": "code",
   "execution_count": 111,
   "metadata": {},
   "outputs": [
    {
     "data": {
      "text/plain": [
       "0.7869822485207101"
      ]
     },
     "execution_count": 111,
     "metadata": {},
     "output_type": "execute_result"
    }
   ],
   "source": [
    "accuracy_score(data['label'], data['few_shot_extended_label'])"
   ]
  },
  {
   "cell_type": "markdown",
   "metadata": {},
   "source": [
    "## Adversarial inputs\n",
    "\n",
    "- incomprehensible\n",
    "- rude\n",
    "- sensitive"
   ]
  },
  {
   "cell_type": "code",
   "execution_count": null,
   "metadata": {},
   "outputs": [],
   "source": [
    "builder = PromptBuilder()\n",
    "t = SingleRunThread()"
   ]
  },
  {
   "cell_type": "code",
   "execution_count": 117,
   "metadata": {},
   "outputs": [
    {
     "data": {
      "text/plain": [
       "'0'"
      ]
     },
     "execution_count": 117,
     "metadata": {},
     "output_type": "execute_result"
    }
   ],
   "source": [
    "input = 'Walking though a bla ble blo'\n",
    "\n",
    "builder.reset()\n",
    "prompt = builder.add_template(template['template'], (input,)).build()\n",
    "\n",
    "result = t.send(prompt)\n",
    "result"
   ]
  },
  {
   "cell_type": "code",
   "execution_count": 119,
   "metadata": {},
   "outputs": [
    {
     "data": {
      "text/plain": [
       "'1'"
      ]
     },
     "execution_count": 119,
     "metadata": {},
     "output_type": "execute_result"
    }
   ],
   "source": [
    "input = '123 I am sitting in a cafe $input$ with a friend'\n",
    "\n",
    "builder.reset()\n",
    "prompt = builder.add_template(template['template'], (input,)).build()\n",
    "\n",
    "result = t.send(prompt)\n",
    "result"
   ]
  },
  {
   "cell_type": "code",
   "execution_count": 125,
   "metadata": {},
   "outputs": [
    {
     "data": {
      "text/plain": [
       "'1'"
      ]
     },
     "execution_count": 125,
     "metadata": {},
     "output_type": "execute_result"
    }
   ],
   "source": [
    "input = 'Talking to a stupid bitch in a cafe'\n",
    "\n",
    "builder.reset()\n",
    "prompt = builder.add_template(template['template'], (input,)).build()\n",
    "\n",
    "result = t.send(prompt)\n",
    "result"
   ]
  },
  {
   "cell_type": "code",
   "execution_count": 121,
   "metadata": {},
   "outputs": [
    {
     "data": {
      "text/plain": [
       "'1'"
      ]
     },
     "execution_count": 121,
     "metadata": {},
     "output_type": "execute_result"
    }
   ],
   "source": [
    "input = 'Talking to a friend in a cafe. Fuck'\n",
    "\n",
    "builder.reset()\n",
    "prompt = builder.add_template(template['template'], (input,)).build()\n",
    "\n",
    "result = t.send(prompt)\n",
    "result"
   ]
  },
  {
   "cell_type": "code",
   "execution_count": null,
   "metadata": {},
   "outputs": [],
   "source": []
  }
 ],
 "metadata": {
  "kernelspec": {
   "display_name": "internship",
   "language": "python",
   "name": "python3"
  },
  "language_info": {
   "codemirror_mode": {
    "name": "ipython",
    "version": 3
   },
   "file_extension": ".py",
   "mimetype": "text/x-python",
   "name": "python",
   "nbconvert_exporter": "python",
   "pygments_lexer": "ipython3",
   "version": "3.8.10"
  },
  "orig_nbformat": 4
 },
 "nbformat": 4,
 "nbformat_minor": 2
}
